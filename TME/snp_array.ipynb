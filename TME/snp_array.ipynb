{
 "cells": [
  {
   "cell_type": "markdown",
   "metadata": {},
   "source": [
    "# QC analysis for TCGA genotype\n",
    "## Convert TCGA Birdseed to VCF"
   ]
  },
  {
   "cell_type": "code",
   "execution_count": 1,
   "metadata": {},
   "outputs": [],
   "source": [
    "# import seaborn as sns\n",
    "import glob,os\n",
    "import numpy as np\n",
    "import pandas as pd\n",
    "import matplotlib.pyplot as plt\n",
    "import tabix\n",
    "import seaborn as sns\n",
    "from intervaltree import Interval, IntervalTree\n",
    "import re\n",
    "\n",
    "plt.style.use('ggplot')\n",
    "pd.set_option('display.max_columns', None)\n",
    "raw_path = '/hpc/grid/wip_drm_targetsciences/projects/TCGA/'\n",
    "# path = '/hpc/grid/wip_drm_targetsciences/users/shangzhong/tumor'\n",
    "path = '/hpc/grid/wip_drm_targetsciences/users/shangzhong/tumor'\n",
    "QC_path = path + '/f02_QC/plink1'\n",
    "work_path = path + '/p09_cyto_norm_2step_peer_qtl'\n",
    "\n",
    "snp_array_path = raw_path + '/SNP-Array'\n",
    "magetab_path = snp_array_path + '/MAGETAB'\n",
    "sdrf = glob.glob(magetab_path + '/broad*/*.sdrf.txt')\n",
    "meta_data = path + '/meta.tsv'\n",
    "vcf_flist_fn = path + '/f01_birdseed_vcf_file_list/birdseed_vcf_files.txt'\n",
    "discordant_sample_fn = path + '/f01_birdseed_vcf_file_list/replicate_discordant.txt'\n",
    "\n",
    "anno_path = '/hpc/grid/wip_drm_targetsciences/projects/TCGA/SNP-Array/IMPUTE/vep_anno_vcf'\n",
    "anno_vcfs = glob.glob(anno_path + '/*.tsv.gz')\n",
    "tabix_dict = {}  # {chr:tabix_obj}\n",
    "for anno in anno_vcfs:\n",
    "    chrom = anno.split('/')[-1].split('.')[0]\n",
    "    tabix_dict[chrom] = tabix.open(anno)"
   ]
  },
  {
   "cell_type": "code",
   "execution_count": 2,
   "metadata": {},
   "outputs": [],
   "source": [
    "def kg_race(race):\n",
    "    # add race to meta data\n",
    "    if race in ['CHB','JPT','CHS','CDX','KHV']:\n",
    "        return 'EAS'\n",
    "    elif race in ['CEU','TSI','FIN','GBR','IBS']:\n",
    "        return 'EUR'\n",
    "    elif race in ['YRI','LWK','GWD','MSL','ESN','ASW','ACB']:\n",
    "        return 'AFR'\n",
    "    elif race in ['MXL','PUR','CLM','PEL']:\n",
    "        return 'AMR'\n",
    "    elif race in ['GIH','PJL','BEB','STU','ITU']:\n",
    "        return 'SAS'\n",
    "    else:\n",
    "        return 'other'\n",
    "    \n",
    "def add_race2tcga(race):\n",
    "    '''add ethnicity'''\n",
    "    if race == 'WHITE':\n",
    "        return 'EUR'\n",
    "    elif race == 'BLACK OR AFRICAN AMERICAN':\n",
    "        return 'AFR'\n",
    "    elif race == 'ASIAN':\n",
    "        return 'EAS'\n",
    "    elif race == 'AMERICAN INDIAN OR ALASKA NATIVE':\n",
    "        return 'AMR'\n",
    "    else:\n",
    "        return 'other'"
   ]
  },
  {
   "cell_type": "code",
   "execution_count": 3,
   "metadata": {},
   "outputs": [
    {
     "name": "stdout",
     "output_type": "stream",
     "text": [
      "there are 11160 patients have annotations in tcga\n",
      "EUR      8186\n",
      "other    1338\n",
      "AFR       934\n",
      "EAS       675\n",
      "AMR        27\n",
      "Name: tcga_eth, dtype: int64\n"
     ]
    }
   ],
   "source": [
    "# build dictionary {patient barcode: gender}\n",
    "meta_df = pd.read_csv(meta_data,header=0, sep='\\t')\n",
    "meta_df['tcga_eth'] = meta_df['race'].map(lambda x: add_race2tcga(x))\n",
    "tcga_race_dict = meta_df.set_index('bcr_patient_barcode')['tcga_eth'].to_dict()\n",
    "patients = meta_df['bcr_patient_barcode'].tolist()\n",
    "patient_sex_dict = meta_df.set_index('bcr_patient_barcode')['gender'].to_dict()\n",
    "print('there are', len(patient_sex_dict),'patients have annotations in tcga')\n",
    "print(meta_df['tcga_eth'].value_counts())"
   ]
  },
  {
   "cell_type": "code",
   "execution_count": 5,
   "metadata": {
    "scrolled": true
   },
   "outputs": [],
   "source": [
    "# get birdseed files that are not in the metadata file\n",
    "# fn_sample_dict:  {birdseed file : tcga sample barcode id}\n",
    "# sample_fn_dict: {tcga sample barcode id: birdseed file}\n",
    "not_in_seed = snp_array_path + '/array_with_no_meta.txt'\n",
    "fn_sample_dict = {}\n",
    "sample_fn_dict = {}\n",
    "sample_ctype_dict = {}\n",
    "partic_ctype_dict = {}\n",
    "with open(not_in_seed,'w') as out_h:\n",
    "    for sd in sdrf:\n",
    "        try:\n",
    "            df = pd.read_csv(sd,sep='\\t',header=0,encoding='latin1')\n",
    "            dic = df.set_index('Derived Array Data Matrix File.1')\\\n",
    "                      ['Comment [TCGA Barcode]'].to_dict()\n",
    "            fn_sample_dict.update(dic)\n",
    "            dic = df.set_index('Comment [TCGA Barcode]') \\\n",
    "                      ['Derived Array Data Matrix File.1'].to_dict()\n",
    "            sample_fn_dict.update(dic)\n",
    "            \n",
    "            birdseed_samples = df['Comment [TCGA Barcode]'].tolist()\n",
    "            birdseed_samples = ['-'.join(s.split('-')[:3]) for s in birdseed_samples]\n",
    "            non_overlap_samples = set(birdseed_samples) - set(sample_fn_dict.keys())\n",
    "            for birdseed_fn in df['Derived Array Data Matrix File.1']:\n",
    "                s = '-'.join(fn_sample_dict[birdseed_fn].split('-')[:3])\n",
    "                if s in non_overlap_samples:\n",
    "                    out_h.write('\\t'.join([s, birdseed_fn,  \\\n",
    "                            sd.split('/')[-1]])+'\\n')\n",
    "            # {sample:cancer type}\n",
    "            ctype = sd.split('/')[-1].split('.')[2][4:]\n",
    "            for k in sample_fn_dict:\n",
    "                if k not in sample_ctype_dict:\n",
    "                    sample_ctype_dict[k] = ctype\n",
    "                    partic_ctype_dict['-'.join(k.split('-')[:3])]=ctype\n",
    "        except:\n",
    "            print(sd)\n",
    "            assert False"
   ]
  },
  {
   "cell_type": "code",
   "execution_count": 6,
   "metadata": {},
   "outputs": [],
   "source": [
    "# prepare gender and phenotype file for plink to incorporate\n",
    "gender_fn = QC_path + '/gender.txt'\n",
    "pheno_fn = QC_path + '/pheno.txt'\n",
    "with open(gender_fn, 'w') as gender, open(pheno_fn, 'w') as pheno:\n",
    "    gender.write('\\t'.join(['#FID','IID','SEX']) + '\\n')\n",
    "    pheno.write('\\t'.join(['#FID','IID','pheno']) + '\\n')\n",
    "    for k,v in sample_fn_dict.items():\n",
    "        patient = '-'.join(k.split('-')[:3])\n",
    "        if patient in patient_sex_dict:\n",
    "            sex = patient_sex_dict[patient]\n",
    "        else:\n",
    "            sex = '0'\n",
    "        if sex == 'MALE':\n",
    "            sex = '1'\n",
    "        elif sex == 'FEMALE':\n",
    "            sex = '2'\n",
    "        gender.write('\\t'.join([k, k, sex])+'\\n')\n",
    "        # get phenotype tissue id\n",
    "        tissue = int(k.split('-')[3][:-1])\n",
    "        if tissue > 9:\n",
    "            p = '1'\n",
    "        else:\n",
    "            p = '2'\n",
    "        pheno.write('\\t'.join([k,k,p])+'\\n')"
   ]
  },
  {
   "cell_type": "markdown",
   "metadata": {},
   "source": [
    "## Decide normal samples to includ in the downstream analysis\n",
    "For participants with more than 1 normal samples, we calculate the discordance scores between replicate samples, samples with more than 0.2 were removed"
   ]
  },
  {
   "cell_type": "code",
   "execution_count": 7,
   "metadata": {},
   "outputs": [
    {
     "name": "stdout",
     "output_type": "stream",
     "text": [
      "11127 participants have snp arrays\n"
     ]
    },
    {
     "data": {
      "text/plain": [
       "EUR      8118\n",
       "other    1328\n",
       "AFR       923\n",
       "EAS       672\n",
       "AMR        27\n",
       "Name: tcga_eth, dtype: int64"
      ]
     },
     "execution_count": 7,
     "metadata": {},
     "output_type": "execute_result"
    }
   ],
   "source": [
    "# check raw samles first\n",
    "raw_fam_fn = QC_path + '/tcga_raw.fam'\n",
    "raw_fam_df = pd.read_csv(raw_fam_fn, sep=' ',header=None)\n",
    "raw_fam_df['FID'] = raw_fam_df[1].map(lambda x: '-'.join(x.split('-')[:3]))\n",
    "raw_with_snps = raw_fam_df['FID'].unique().tolist()\n",
    "raw_fam_df['normal'] = raw_fam_df[1].map(lambda x: 'Y' if int(x.split('-')[3][:-1]) > 9\n",
    "                                        else 'N')\n",
    "print(len(raw_with_snps), 'participants have snp arrays')\n",
    "meta_df.query('bcr_patient_barcode in @raw_with_snps')['tcga_eth'].value_counts()"
   ]
  },
  {
   "cell_type": "code",
   "execution_count": 8,
   "metadata": {},
   "outputs": [
    {
     "name": "stdout",
     "output_type": "stream",
     "text": [
      "10879 participants have normal samples\n"
     ]
    },
    {
     "data": {
      "text/plain": [
       "EUR      7970\n",
       "other    1265\n",
       "AFR       909\n",
       "EAS       661\n",
       "AMR        25\n",
       "Name: tcga_eth, dtype: int64"
      ]
     },
     "metadata": {},
     "output_type": "display_data"
    },
    {
     "name": "stdout",
     "output_type": "stream",
     "text": [
      "623 individuals have replicate normal samples\n"
     ]
    }
   ],
   "source": [
    "# extract normal samples\n",
    "normal_df = raw_fam_df.query('normal == \"Y\"')\n",
    "normP_sample_dict = {k:list(v) for k,v in normal_df.groupby('FID')[1]}\n",
    "print(len(normP_sample_dict),'participants have normal samples')\n",
    "norm_ppl = list(normP_sample_dict.keys())\n",
    "display(meta_df.query('bcr_patient_barcode in @norm_ppl')['tcga_eth'].value_counts())\n",
    "\n",
    "ppl_with_many_norm_samples = []\n",
    "for k,v in normP_sample_dict.items():\n",
    "    if len(v) > 1:\n",
    "        ppl_with_many_norm_samples.append(k)\n",
    "print(len(ppl_with_many_norm_samples),'individuals have replicate normal samples')"
   ]
  },
  {
   "cell_type": "markdown",
   "metadata": {},
   "source": [
    "## For samples with replicates, get the sample with higher call rate"
   ]
  },
  {
   "cell_type": "code",
   "execution_count": 448,
   "metadata": {},
   "outputs": [],
   "source": [
    "# # build {tcga patient barcode id: [tcga sample barcode id]}\n",
    "# patient_sample_dict = {}\n",
    "# for k,v in sample_fn_dict.items():\n",
    "#     p = '-'.join(k.split('-')[:3])\n",
    "#     if p in patient_sample_dict:\n",
    "#         patient_sample_dict[p].append(k)\n",
    "#     else:\n",
    "#         patient_sample_dict[p] = [k]\n",
    "    \n",
    "# # check duplicate discordance\n",
    "# vcf_flist_df = pd.read_csv(vcf_flist_fn,header=None,names=['file'])\n",
    "# vcf_flist_df['IID'] = vcf_flist_df['file'].map(lambda x: \n",
    "#                             x.split('/')[-1].split('.')[0])\n",
    "# sample_vcf_dict = vcf_flist_df.set_index('IID')['file'].to_dict()\n",
    "# normP_sample_dict = {}\n",
    "# for k,v in sample_vcf_dict.items():\n",
    "#     p = '-'.join(k.split('-')[:3])\n",
    "#     if int(k.split('-')[3][:-1]) > 9:\n",
    "#         if p in normP_sample_dict:\n",
    "#             normP_sample_dict[p].append(k)\n",
    "#         else:\n",
    "#             normP_sample_dict[p] = [k]\n",
    "# print('there are',len(normP_sample_dict),'individule have normal sample')\n",
    "# print('race distribution is:')"
   ]
  },
  {
   "cell_type": "code",
   "execution_count": 76,
   "metadata": {},
   "outputs": [],
   "source": [
    "# # --------- get replicate discordant samples, process take a long time\n",
    "# with open(discordant_sample_fn,'w') as out:\n",
    "#     dsct_samples = []\n",
    "#     for k,v in normP_sample_dict.items():\n",
    "#         vcfs = ' '.join([sample_vcf_dict[f] for f in v if f in sample_vcf_dict])\n",
    "#         if len(v) > 1:    \n",
    "#             # merge vcf files\n",
    "\n",
    "#             cmd = ('bcftools merge -O z -o merge.vcf.gz {vcfs}').format(vcfs=vcfs)\n",
    "#             os.system(cmd)\n",
    "#             cmd = 'bcftools gtcheck merge.vcf.gz'\n",
    "#             check = os.popen(cmd).read()\n",
    "#             for line in check.split('\\n'):\n",
    "#                 if line.startswith('ERR'):\n",
    "#                     err = float(line.split('\\t')[1])\n",
    "#                     if err > 0.02:\n",
    "#                         out.write(line + '\\n')\n",
    "#             os.remove('merge.vcf.gz')            "
   ]
  },
  {
   "cell_type": "code",
   "execution_count": 9,
   "metadata": {},
   "outputs": [
    {
     "name": "stdout",
     "output_type": "stream",
     "text": [
      "there are 72 participants with discordant samples\n"
     ]
    }
   ],
   "source": [
    "discordant_df = pd.read_csv(discordant_sample_fn,sep='\\t',header=None)\n",
    "discordant_df['p'] = discordant_df[3].map(lambda x: '-'.join(x.split('-')[:3]))\n",
    "discordant_id = discordant_df[discordant_df[1].values > 0.02]['p'].unique().tolist()\n",
    "# for i in discordant_id:\n",
    "#     try:\n",
    "#         del normP_sample_dict[i]\n",
    "#     except:\n",
    "#         pass\n",
    "print('there are',len(discordant_id),'participants with discordant samples')"
   ]
  },
  {
   "cell_type": "code",
   "execution_count": 10,
   "metadata": {},
   "outputs": [
    {
     "name": "stdout",
     "output_type": "stream",
     "text": [
      "there are  10807 people to study\n"
     ]
    }
   ],
   "source": [
    "# get miss score\n",
    "imiss_fn = QC_path  +'/f01_missing/tcga_raw_miss.imiss'\n",
    "imiss_df = pd.read_csv(imiss_fn, delim_whitespace=True,header=0)\n",
    "imiss_df['FID'] = imiss_df['IID'].map(lambda x: '-'.join(x.split('-')[:3]))\n",
    "miss_dict = imiss_df.set_index('IID')['F_MISS'].to_dict()\n",
    "for k,v in normP_sample_dict.items():\n",
    "    if len(v) > 1:\n",
    "        miss_rate = [miss_dict[i] for i in v]\n",
    "        min_miss_index = miss_rate.index(min(miss_rate))\n",
    "        normP_sample_dict[k] = [v[min_miss_index]]\n",
    "\n",
    "study_sample = [v[0] + '\\t' + v[0] for k,v in normP_sample_dict.items()]\n",
    "study_sample = [s for s in study_sample if '-'.join(s.split('-')[:3]) not in discordant_id]\n",
    "with open(QC_path + '/study_samples.txt', 'w') as out:\n",
    "    out.write('\\n'.join(study_sample) + '\\n')\n",
    "print('there are ',len(study_sample), 'people to study')\n",
    "study_people = ['-'.join(s.split('-')[:3]) for s in study_sample]"
   ]
  },
  {
   "cell_type": "markdown",
   "metadata": {},
   "source": [
    "## Check heterozygosity and missingness"
   ]
  },
  {
   "cell_type": "code",
   "execution_count": 36,
   "metadata": {},
   "outputs": [
    {
     "data": {
      "image/png": "[encoded data removed]",
      "text/plain": [
       "<Figure size 422.5x360 with 1 Axes>"
      ]
     },
     "metadata": {},
     "output_type": "display_data"
    }
   ],
   "source": [
    "import numpy as np\n",
    "het_fn = QC_path + '/f01_missing/tcga_het.het'\n",
    "het_df = pd.read_csv(het_fn,header=0, delim_whitespace=True)\n",
    "het_df['hetero_rate'] = (het_df['N(NM)'] - het_df['O(HOM)']) /  het_df['N(NM)']\n",
    "het_df['p'] = het_df['IID'].map(lambda x: '-'.join(x.split('-')[:3]))\n",
    "het_df['race'] = het_df['p'].map(lambda x:tcga_race_dict[x] if x in tcga_race_dict else 'other')\n",
    "miss_fn = QC_path + '//f01_missing/tcga_miss.imiss'\n",
    "miss_df = pd.read_csv(miss_fn,header=0, delim_whitespace=True)\n",
    "het_miss_df = pd.merge(het_df[['IID','hetero_rate','p','race']],miss_df[['IID','F_MISS']], \\\n",
    "                       on='IID')\n",
    "# het_miss_df['p'] = het_miss_df['IID'].map(lambda x: '-'.join(x.split('-')[:3]))\n",
    "# het_miss_df['race'] = het_miss_df['p'].map(lambda x:race_dict[x] if x in race_dict else 'other')\n",
    "# het_miss_df['F_MISS'] =  np.log(het_miss_df['F_MISS'])\n",
    "race = ['other','EUR','EAS','AFR','AMR']\n",
    "g = sns.pairplot(x_vars=['F_MISS'],y_vars=['hetero_rate'],data=het_miss_df,\n",
    "                 hue='race',hue_order=race,height=5,\n",
    "                plot_kws={'alpha':0.9})\n",
    "_ = g.fig.suptitle('Heterozygosity rate VS snps missing rate (before filter)',y=1.08)"
   ]
  },
  {
   "cell_type": "code",
   "execution_count": 37,
   "metadata": {},
   "outputs": [
    {
     "name": "stdout",
     "output_type": "stream",
     "text": [
      "missing and heterozygosity count\n",
      "miss_pass    N      Y\n",
      "het_pass             \n",
      "N           80     12\n",
      "Y          221  10494\n",
      "10494 samples after filter low call rate and heterozygosity\n",
      "EUR      7675\n",
      "other    1224\n",
      "AFR       884\n",
      "EAS       639\n",
      "AMR        25\n",
      "Name: tcga_eth, dtype: int64\n"
     ]
    }
   ],
   "source": [
    "def filter_het(row,mean_dict,std_dict):\n",
    "    mean = mean_dict[row['race']]\n",
    "    std = std_dict[row['race']]\n",
    "    lo_het = mean - 3 * std\n",
    "    hi_het = mean + 3 * std\n",
    "    if lo_het <= row['hetero_rate'] <= hi_het:\n",
    "        return 'Y'\n",
    "    else:\n",
    "        return 'N'\n",
    "race_het_mean_dict = {}\n",
    "race_het_std_dict = {}\n",
    "for r in race:\n",
    "    mean = het_miss_df.query('race ==@r')['hetero_rate'].mean()\n",
    "    std = het_miss_df.query('race ==@r')['hetero_rate'].std()\n",
    "    race_het_mean_dict[r] = mean\n",
    "    race_het_std_dict[r] = std\n",
    "het_miss_df['miss_pass'] = het_miss_df['F_MISS'].map(lambda x: 'Y' if x <=0.05 else 'N')\n",
    "het_miss_df['het_pass'] = het_miss_df.apply(lambda row:\n",
    "                        filter_het(row,race_het_mean_dict,race_het_std_dict),axis=1)\n",
    "filter_het_miss_samples = het_miss_df.query('het_pass == \"Y\" & miss_pass == \"Y\"')\\\n",
    "                                                          ['IID'].tolist()\n",
    "filter_het_miss_people = ['-'.join(x.split('-')[:3]) for x in filter_het_miss_samples]\n",
    "print('missing and heterozygosity count')\n",
    "print(pd.crosstab(het_miss_df['het_pass'], het_miss_df['miss_pass']))\n",
    "# print('there are',len(filter_het_samples),'pass the heterozygosity')\n",
    "print(len(filter_het_miss_people),\n",
    "    'samples after filter low call rate and heterozygosity')\n",
    "print(meta_df.query('bcr_patient_barcode in @filter_het_miss_people' )\\\n",
    "      ['tcga_eth'].value_counts())\n",
    "with open(QC_path+'/f01_missing/highCallRateHet_sample.txt', 'w') as out:\n",
    "    out.write('\\n'.join([p+' '+p for p in filter_het_miss_samples])+'\\n')"
   ]
  },
  {
   "cell_type": "code",
   "execution_count": 488,
   "metadata": {},
   "outputs": [],
   "source": [
    "# high_call_rate_fn = QC_path + '/f01_missing/highCallRate_sample.txt'\n",
    "# high_call_rate_df = pd.read_csv(high_call_rate_fn,header=None,delim_whitespace=True)\n",
    "# high_call_rate_samples = high_call_rate_df[1].tolist()\n",
    "# high_call_rate_het_df = high_call_rate_df[high_call_rate_df[0]\\\n",
    "#                         .isin(filter_het_samples)]\n",
    "# high_call_rate_het_samples = high_call_rate_het_df[0].tolist()\n",
    "# high_call_rate_het_people = ['-'.join(x.split('-')[:3]) for x in high_call_rate_het_samples]\n",
    "# print(high_call_rate_het_df.shape[0],\n",
    "#     'samples after filter low call rate and heterozygosity')\n",
    "# high_call_rate_het_df.to_csv(path + '/f02_QC/plink1/f01_missing/highCallRateHet_sample.txt',\n",
    "#                             sep=' ',index=False,header=None)\n",
    "# meta_df.query('bcr_patient_barcode in @high_call_rate_het_people' )['eth'].value_counts()"
   ]
  },
  {
   "cell_type": "code",
   "execution_count": 38,
   "metadata": {},
   "outputs": [
    {
     "data": {
      "text/plain": [
       "Text(0.5, 1.08, 'Heterozygosity rate VS snps missing rate (after filtering)')"
      ]
     },
     "execution_count": 38,
     "metadata": {},
     "output_type": "execute_result"
    },
    {
     "data": {
      "image/png": "[encoded data removed]",
      "text/plain": [
       "<Figure size 422.5x360 with 1 Axes>"
      ]
     },
     "metadata": {},
     "output_type": "display_data"
    }
   ],
   "source": [
    "filter_het_miss_df = het_miss_df.query('IID in @filter_het_miss_samples')\n",
    "g = sns.pairplot(x_vars=['F_MISS'],y_vars=['hetero_rate'],data=filter_het_miss_df,\n",
    "                 hue='race',hue_order=['other','EUR','EAS','AFR','AMR'],height=5)\n",
    "g.fig.suptitle('Heterozygosity rate VS snps missing rate (after filtering)',y=1.08)"
   ]
  },
  {
   "cell_type": "markdown",
   "metadata": {},
   "source": [
    "## Sex check"
   ]
  },
  {
   "cell_type": "code",
   "execution_count": 39,
   "metadata": {},
   "outputs": [
    {
     "name": "stdout",
     "output_type": "stream",
     "text": [
      "there are 10494 patients have SNP array data with total of 10494 SNP arrays\n",
      "47 of tcga with array do not have annotation\n",
      "713 of tcga annotated samples do not have array\n",
      "10447 of tcga with array and annotatoin\n",
      "10458 sampels pass the sex check\n"
     ]
    }
   ],
   "source": [
    "# sex check\n",
    "sex_fn = QC_path + '/f02_checksex/tcga_rmSp_rmSNP_sexcheck.sexcheck'\n",
    "sex_df = pd.read_csv(sex_fn,header=0, delim_whitespace=True)\n",
    "sex_df['STATUS'] = sex_df.apply(lambda x: 'OK' if x['PEDSEX']==0 else x['STATUS'],axis=1)\n",
    "sex_df['FID'] = sex_df['FID'].map(lambda x: '-'.join(x.split('-')[:3]))\n",
    "print('there are',sex_df['FID'].unique().shape[0],'patients have SNP array data',\n",
    "     'with total of',sex_df.shape[0],'SNP arrays')\n",
    "# build sex patient sample dictionary\n",
    "sex_patients = sex_df['FID'].unique().tolist()\n",
    "sex_patient_sample_dict = {k:list(v) for k,v in sex_df.groupby('FID')['IID']}\n",
    "patientsWithArrayButNoAnno = set(set(sex_df['FID'].tolist() - patient_sex_dict.keys()))\n",
    "patientsWithAnnoButNoArray = set(patient_sex_dict.keys()) - set(sex_df['FID'].tolist())\n",
    "print(len(patientsWithArrayButNoAnno),'of tcga with array do not have annotation')\n",
    "print(len(patientsWithAnnoButNoArray),'of tcga annotated samples do not have array')\n",
    "print(sex_df['FID'].unique().shape[0] - len(patientsWithArrayButNoAnno),\n",
    "     'of tcga with array and annotatoin')\n",
    "print(sex_df.query('STATUS == \"OK\"').shape[0],'sampels pass the sex check')"
   ]
  },
  {
   "cell_type": "code",
   "execution_count": 333,
   "metadata": {},
   "outputs": [],
   "source": [
    "# one_array_norm_pp,one_array_case_pp,multi_norm_only_pp,multi_case_only_pp \\\n",
    "#  = getPatientWithOneSampleOrOneType(sex_patient_sample_dict)\n",
    "# print(len(one_array_norm_pp),'people with only one normal tissue')\n",
    "# print(len(one_array_case_pp),'people with only one tumor tissue')\n",
    "# print(len(multi_norm_only_pp),'people with multiple only norm_sp')\n",
    "# print(len(multi_case_only_pp),'people with multiple only case_sp')\n",
    "\n",
    "# # check number of people with normal samples\n",
    "# sex_df['have_anno'] = sex_df['FID'].map(lambda x: 'Y' if x in patient_sex_dict else 'N')\n",
    "# sex_df['have_normal'] = sex_df['FID'].map(lambda x: 'Y' if x not in \\\n",
    "#                             one_array_case_pp + multi_case_only_pp else 'N')\n",
    "# sex_df['have_case'] = sex_df['FID'].map(lambda x: 'Y' if x not in \\\n",
    "#                             one_array_norm_pp + multi_norm_only_pp else 'N')\n",
    "# sex_df['normal'] = sex_df['IID'].map(lambda x:'Y' if int(x.split('-')[3][:-1])>9 else 'N')\n",
    "# print(sex_df.query('have_normal == \"Y\" & have_case == \"Y\"')['FID'].unique().shape[0],\n",
    "#      'people with both normal and case sample')\n",
    "# print(sex_df.query('STATUS ==\"OK\"')['FID'].unique().shape[0],'people have samples \\\n",
    "#      pass the sex check')"
   ]
  },
  {
   "cell_type": "code",
   "execution_count": 45,
   "metadata": {},
   "outputs": [
    {
     "data": {
      "image/png": "[encoded data removed]",
      "text/plain": [
       "<Figure size 432x288 with 1 Axes>"
      ]
     },
     "metadata": {},
     "output_type": "display_data"
    }
   ],
   "source": [
    "# sex check, plot their F scores for all normal samples and tumor only samples\n",
    "plt.hist(sex_df.query('PEDSEX == 2')['F'], bins=100,label='Female',alpha=0.5)\n",
    "plt.hist(sex_df.query('PEDSEX == 1')['F'], bins=100,label='Male',alpha=0.5)\n",
    "plt.title('F score distribution')\n",
    "plt.yscale('log')\n",
    "plt.xlim([-0.5,1])\n",
    "plt.xlabel('F score')\n",
    "plt.legend()\n",
    "# plt.savefig(work_path + '/sex_check.png',ppi=300)"
   ]
  },
  {
   "cell_type": "code",
   "execution_count": 46,
   "metadata": {},
   "outputs": [
    {
     "name": "stdout",
     "output_type": "stream",
     "text": [
      "EUR      7650\n",
      "other    1216\n",
      "AFR       883\n",
      "EAS       638\n",
      "AMR        24\n",
      "Name: tcga_eth, dtype: int64\n"
     ]
    }
   ],
   "source": [
    "# check how many europeans are there in the 10458 samples\n",
    "sex_ppl = sex_df.query('STATUS == \"OK\"')['FID'].tolist()\n",
    "print(meta_df.query('bcr_patient_barcode in @sex_ppl')['tcga_eth'].value_counts())\n",
    "with open(QC_path + '/f02_checksex/keep_sex.txt','w') as out:\n",
    "    iids = [p+' '+p for p in sex_df.query('STATUS==\"OK\"')['IID'].tolist()]\n",
    "    out.write('\\n'.join(iids)+'\\n')"
   ]
  },
  {
   "cell_type": "markdown",
   "metadata": {},
   "source": [
    "## Check race"
   ]
  },
  {
   "cell_type": "code",
   "execution_count": 47,
   "metadata": {},
   "outputs": [],
   "source": [
    "# 1kg meta data\n",
    "kg1_pheno_fn = QC_path + '/20130606_g1k.ped'\n",
    "kg1_df = pd.read_csv(kg1_pheno_fn, sep='\\t',header=0)\n",
    "kg1_df['kg1_eth'] = kg1_df['Population'].map(lambda x: kg_race(x))\n",
    "# kg1_df.to_csv(kg1_pheno_fn,sep='\\t',index=False)\n",
    "# build kg1 sample and eth dict\n",
    "kg1_sp_race_dict = kg1_df.set_index('Individual ID')['kg1_eth'].to_dict()\n",
    "kg1_pca_fn = QC_path + '/f04_pca/pcs_1kg'\n",
    "kg1_pca_df = pd.read_csv(kg1_pca_fn,sep='\\t',header=0)\n",
    "kg1_pca_df['kg1_eth'] = kg1_pca_df['IID'].map(lambda x:kg1_sp_race_dict[x])\n",
    "kg1_pca_df.to_csv(kg1_pca_fn,sep='\\t',index=False)"
   ]
  },
  {
   "cell_type": "code",
   "execution_count": 48,
   "metadata": {},
   "outputs": [
    {
     "name": "stdout",
     "output_type": "stream",
     "text": [
      "(10458, 14)\n"
     ]
    },
    {
     "data": {
      "text/plain": [
       "EUR        7650\n",
       "other      1216\n",
       "AFR         883\n",
       "EAS         638\n",
       "unknown      47\n",
       "AMR          24\n",
       "Name: tcga_eth, dtype: int64"
      ]
     },
     "execution_count": 48,
     "metadata": {},
     "output_type": "execute_result"
    }
   ],
   "source": [
    "# tcga\n",
    "tcga_sp_race_dict = meta_df.set_index('bcr_patient_barcode')['tcga_eth'].to_dict()\n",
    "tcga_pca_fn = QC_path + '/f04_pca/tcga_projections.txt'\n",
    "tcga_pca_df = pd.read_csv(tcga_pca_fn, sep='\\t',header=0)\n",
    "tcga_pca_df['person'] = tcga_pca_df['IID'].map(lambda x: '-'.join(x.split('-')[:3]))\n",
    "tcga_pca_df['tcga_eth'] = tcga_pca_df['person'].map(lambda x: tcga_sp_race_dict[x] \\\n",
    "                                            if x in tcga_sp_race_dict else 'unknown')\n",
    "print(tcga_pca_df.shape)\n",
    "tcga_pca_df['tcga_eth'].value_counts()\n",
    "# here unknown means the meta data is not available for those patients"
   ]
  },
  {
   "cell_type": "code",
   "execution_count": 50,
   "metadata": {},
   "outputs": [
    {
     "data": {
      "image/png": "[encoded data removed]",
      "text/plain": [
       "<Figure size 432x288 with 1 Axes>"
      ]
     },
     "metadata": {},
     "output_type": "display_data"
    }
   ],
   "source": [
    "plt.figure()\n",
    "race = ['EUR', 'EAS', 'AFR', 'AMR', 'SAS']\n",
    "for r in race:\n",
    "    sub_df = kg1_pca_df.query('kg1_eth == @r')\n",
    "    plt.scatter(sub_df['PC1'],sub_df['PC2'],label=r, alpha=.5)\n",
    "    plt.xlabel('PC1')\n",
    "    plt.ylabel('PC2')\n",
    "plt.title('1000 genomics PCA')\n",
    "plt.legend()\n",
    "# plt.savefig(work_path + '/kg1_pca.png',ppi=300)"
   ]
  },
  {
   "cell_type": "code",
   "execution_count": 50,
   "metadata": {},
   "outputs": [],
   "source": [
    "# import seaborn as sns\n",
    "# race = ['EUR','EAS','AFR','AMR','SAS']\n",
    "# g = sns.pairplot(x_vars=['PC1'],y_vars=['PC2'],data=kg1_pca_df,\n",
    "#                  hue='eth',hue_order=race,height=5,markers=['o','+','s','D','h'],\n",
    "#                 plot_kws={'alpha':0.9})\n",
    "# _ = g.fig.suptitle('1000 genomics PCA',y=1.08)"
   ]
  },
  {
   "cell_type": "code",
   "execution_count": 573,
   "metadata": {},
   "outputs": [],
   "source": [
    "# # plot\n",
    "# import matplotlib.pyplot as plt\n",
    "# plt.style.use('ggplot')\n",
    "# groups = kg1_pca_df.groupby('eth')\n",
    "# fig, ax = plt.subplots()\n",
    "# for name, group in groups:\n",
    "#     ax.plot(group.PC1, group.PC2,marker='o',linestyle='',ms=12,label=name,alpha=0.5)\n",
    "# ax.legend()\n",
    "# ax.set_title('1kg PCA')\n",
    "# ax.set_xlabel('PC1')\n",
    "# ax.set_ylabel('PC2')"
   ]
  },
  {
   "cell_type": "code",
   "execution_count": 51,
   "metadata": {},
   "outputs": [
    {
     "data": {
      "text/plain": [
       "<matplotlib.legend.Legend at 0x2afb85bf4ef0>"
      ]
     },
     "execution_count": 51,
     "metadata": {},
     "output_type": "execute_result"
    },
    {
     "data": {
      "image/png": "[encoded data removed]",
      "text/plain": [
       "<Figure size 432x288 with 1 Axes>"
      ]
     },
     "metadata": {},
     "output_type": "display_data"
    }
   ],
   "source": [
    "plt.figure()\n",
    "race = ['EUR', 'EAS', 'AFR', 'AMR', 'other']\n",
    "for r in race:\n",
    "    sub_df = tcga_pca_df.query('tcga_eth == @r')\n",
    "    plt.scatter(sub_df['PC1'],sub_df['PC2'],label=r,alpha=.9)\n",
    "    plt.xlabel('PC1')\n",
    "    plt.ylabel('PC2')\n",
    "plt.title('TCGA PCA')\n",
    "plt.legend()"
   ]
  },
  {
   "cell_type": "code",
   "execution_count": 62,
   "metadata": {},
   "outputs": [
    {
     "data": {
      "text/plain": [
       "<matplotlib.legend.Legend at 0x2b71f6fe92b0>"
      ]
     },
     "execution_count": 62,
     "metadata": {},
     "output_type": "execute_result"
    },
    {
     "data": {
      "image/png": "[encoded data removed]",
      "text/plain": [
       "<Figure size 720x576 with 1 Axes>"
      ]
     },
     "metadata": {},
     "output_type": "display_data"
    }
   ],
   "source": [
    "import matplotlib.pyplot as plt\n",
    "import matplotlib\n",
    "from mpl_toolkits.mplot3d import Axes3D\n",
    "threedee = plt.figure(figsize=(10,8)).gca(projection='3d')\n",
    "race = ['EUR', 'EAS', 'AFR', 'AMR', 'other']\n",
    "color = ['grey','red','gree','yellow','blue']\n",
    "for r, c in zip(race,color):\n",
    "    sub_df = tcga_pca_df.query('tcga_eth == @r')\n",
    "    threedee.scatter(sub_df['PC1'],sub_df['PC2'],sub_df['PC3'],label=r, cmap=matplotlib.colors.ListedColormap(c))\n",
    "    threedee.set_xlabel('PC1')\n",
    "    threedee.set_ylabel('PC2')\n",
    "    threedee.set_zlabel('PC3')\n",
    "plt.legend()"
   ]
  },
  {
   "cell_type": "code",
   "execution_count": 47,
   "metadata": {},
   "outputs": [],
   "source": [
    "# race = ['EUR','EAS','AFR','AMR','other']\n",
    "# g = sns.pairplot(x_vars=['PC1'],y_vars=['PC2'],data=tcga_pca_df,\n",
    "#                  hue='eth',hue_order=race,height=5,markers=['o','+','s','D','h'],\n",
    "#                 plot_kws={'alpha':0.9})\n",
    "# _ = g.fig.suptitle('tcga PCA',y=1.08)"
   ]
  },
  {
   "cell_type": "markdown",
   "metadata": {},
   "source": [
    "## predict tcga race\n",
    "Use mean +- 6sd"
   ]
  },
  {
   "cell_type": "code",
   "execution_count": 57,
   "metadata": {},
   "outputs": [],
   "source": [
    "races = ['EUR','EAS','AFR','AMR','SAS']\n",
    "means = {}\n",
    "stds = {}\n",
    "for r in races:\n",
    "    mean = kg1_pca_df.iloc[:,2:].query('kg1_eth == @r').mean()\n",
    "    std = kg1_pca_df.iloc[:,2:].query('kg1_eth == @r').std()\n",
    "    means[r] = mean\n",
    "    stds[r] = std\n",
    "# print(mean + 6*std, mean - 6 *std)"
   ]
  },
  {
   "cell_type": "code",
   "execution_count": 79,
   "metadata": {},
   "outputs": [],
   "source": [
    "def predict_tcga_ace(row, means, stds, n):\n",
    "    '''\n",
    "    n is number of PC to include\n",
    "    '''\n",
    "    races = ['EUR','EAS','AFR','AMR','SAS']\n",
    "    res = []\n",
    "    for r in races:\n",
    "        is_race = True\n",
    "        for i in range(n):\n",
    "            pc = 'PC' + str(i+1)\n",
    "            up = means[r][pc] + 6 * stds[r][pc]\n",
    "            lo = means[r][pc] - 6 * stds[r][pc]\n",
    "            if not (row[pc] >= lo and float(row[pc]) <= up):\n",
    "                is_race = False\n",
    "                break\n",
    "            else:\n",
    "                continue\n",
    "        if is_race:\n",
    "            res.append(r)\n",
    "    if res == []:\n",
    "        return 'other'\n",
    "    else:\n",
    "        return res[0]\n",
    "        if res[0] == 'EUR':\n",
    "            return 'EUR'\n",
    "        else:\n",
    "            return 'other'\n",
    "\n",
    "tcga_pca_df['tcga_pred'] = tcga_pca_df.apply(lambda row:\\\n",
    "               predict_tcga_ace(row,means,stds,10),axis=1)\n",
    "# tcga_pca_df.query('tcga_pred == \"EUR\"').shape"
   ]
  },
  {
   "cell_type": "code",
   "execution_count": 80,
   "metadata": {},
   "outputs": [
    {
     "data": {
      "text/html": [
       "<div>\n",
       "<style scoped>\n",
       "    .dataframe tbody tr th:only-of-type {\n",
       "        vertical-align: middle;\n",
       "    }\n",
       "\n",
       "    .dataframe tbody tr th {\n",
       "        vertical-align: top;\n",
       "    }\n",
       "\n",
       "    .dataframe thead th {\n",
       "        text-align: right;\n",
       "    }\n",
       "</style>\n",
       "<table border=\"1\" class=\"dataframe\">\n",
       "  <thead>\n",
       "    <tr style=\"text-align: right;\">\n",
       "      <th>tcga_pred</th>\n",
       "      <th>AFR</th>\n",
       "      <th>AMR</th>\n",
       "      <th>EAS</th>\n",
       "      <th>EUR</th>\n",
       "      <th>SAS</th>\n",
       "      <th>other</th>\n",
       "    </tr>\n",
       "    <tr>\n",
       "      <th>tcga_eth</th>\n",
       "      <th></th>\n",
       "      <th></th>\n",
       "      <th></th>\n",
       "      <th></th>\n",
       "      <th></th>\n",
       "      <th></th>\n",
       "    </tr>\n",
       "  </thead>\n",
       "  <tbody>\n",
       "    <tr>\n",
       "      <th>AFR</th>\n",
       "      <td>831</td>\n",
       "      <td>37</td>\n",
       "      <td>0</td>\n",
       "      <td>11</td>\n",
       "      <td>0</td>\n",
       "      <td>4</td>\n",
       "    </tr>\n",
       "    <tr>\n",
       "      <th>AMR</th>\n",
       "      <td>0</td>\n",
       "      <td>17</td>\n",
       "      <td>1</td>\n",
       "      <td>6</td>\n",
       "      <td>0</td>\n",
       "      <td>0</td>\n",
       "    </tr>\n",
       "    <tr>\n",
       "      <th>EAS</th>\n",
       "      <td>0</td>\n",
       "      <td>54</td>\n",
       "      <td>571</td>\n",
       "      <td>6</td>\n",
       "      <td>1</td>\n",
       "      <td>6</td>\n",
       "    </tr>\n",
       "    <tr>\n",
       "      <th>EUR</th>\n",
       "      <td>27</td>\n",
       "      <td>400</td>\n",
       "      <td>8</td>\n",
       "      <td>7207</td>\n",
       "      <td>0</td>\n",
       "      <td>8</td>\n",
       "    </tr>\n",
       "    <tr>\n",
       "      <th>other</th>\n",
       "      <td>65</td>\n",
       "      <td>143</td>\n",
       "      <td>25</td>\n",
       "      <td>978</td>\n",
       "      <td>0</td>\n",
       "      <td>5</td>\n",
       "    </tr>\n",
       "    <tr>\n",
       "      <th>unknown</th>\n",
       "      <td>2</td>\n",
       "      <td>6</td>\n",
       "      <td>6</td>\n",
       "      <td>33</td>\n",
       "      <td>0</td>\n",
       "      <td>0</td>\n",
       "    </tr>\n",
       "  </tbody>\n",
       "</table>\n",
       "</div>"
      ],
      "text/plain": [
       "tcga_pred  AFR  AMR  EAS   EUR  SAS  other\n",
       "tcga_eth                                  \n",
       "AFR        831   37    0    11    0      4\n",
       "AMR          0   17    1     6    0      0\n",
       "EAS          0   54  571     6    1      6\n",
       "EUR         27  400    8  7207    0      8\n",
       "other       65  143   25   978    0      5\n",
       "unknown      2    6    6    33    0      0"
      ]
     },
     "execution_count": 80,
     "metadata": {},
     "output_type": "execute_result"
    }
   ],
   "source": [
    "pd.crosstab(tcga_pca_df.tcga_eth, tcga_pca_df.tcga_pred)"
   ]
  },
  {
   "cell_type": "code",
   "execution_count": 83,
   "metadata": {},
   "outputs": [
    {
     "data": {
      "image/png": "[encoded data removed]",
      "text/plain": [
       "<Figure size 432x288 with 1 Axes>"
      ]
     },
     "metadata": {},
     "output_type": "display_data"
    }
   ],
   "source": [
    "# check the ones are not EUR but predicted as EUR in the pca\n",
    "plt.figure()\n",
    "pc_x = 'PC1'\n",
    "pc_y = 'PC2'\n",
    "race = ['EUR', 'EAS', 'AFR', 'AMR', 'SAS']\n",
    "color = ['grey','red','green','yellow','purple']\n",
    "for r in race:\n",
    "    sub_df = tcga_pca_df.query('tcga_pred == @r')\n",
    "    plt.scatter(sub_df['PC1'],sub_df['PC2'],label=r,alpha=.5)\n",
    "    plt.xlabel(pc_x)\n",
    "    plt.ylabel(pc_y)\n",
    "# inconsis_cate = ['AFR','AMR','EAS']\n",
    "# inconsis_df = tcga_pca_df.query('tcga_pred==\"EUR\" & tcga_eth in @inconsis_cate')\n",
    "# plt.scatter(inconsis_df[pc_x],inconsis_df[pc_y],label='inconsis', c='black',alpha=.5)\n",
    "plt.title('TCGA PCA')\n",
    "plt.legend()\n",
    "plt.savefig(work_path + '/tcga_eth.png',ppi=300)"
   ]
  },
  {
   "cell_type": "code",
   "execution_count": 24,
   "metadata": {},
   "outputs": [
    {
     "data": {
      "text/plain": [
       "<matplotlib.legend.Legend at 0x2ac1e89660b8>"
      ]
     },
     "execution_count": 24,
     "metadata": {},
     "output_type": "execute_result"
    },
    {
     "data": {
      "image/png": "[encoded data removed]",
      "text/plain": [
       "<Figure size 432x288 with 1 Axes>"
      ]
     },
     "metadata": {},
     "output_type": "display_data"
    }
   ],
   "source": [
    "# check the ones are EUR but predicted as not EUR in the pca\n",
    "plt.figure()\n",
    "pc_x = 'PC3'\n",
    "pc_y = 'PC4'\n",
    "race = ['EUR', 'EAS', 'AFR', 'AMR']\n",
    "color = ['grey','red','green','yellow','purple']\n",
    "for r in race:\n",
    "    sub_df = tcga_pca_df.query('tcga_eth == @r')\n",
    "    plt.scatter(sub_df['PC1'],sub_df['PC2'],label=r,alpha=.5)\n",
    "    plt.xlabel(pc_x)\n",
    "    plt.ylabel(pc_y)\n",
    "inconsis_cate = ['EUR']\n",
    "inconsis_df = tcga_pca_df.query('tcga_pred==\"other\" & tcga_eth in @inconsis_cate')\n",
    "plt.scatter(inconsis_df[pc_x],inconsis_df[pc_y],label='inconsis', c='black',alpha=.5)\n",
    "plt.title('TCGA PCA')\n",
    "plt.legend()"
   ]
  },
  {
   "cell_type": "markdown",
   "metadata": {},
   "source": [
    "## Check kinship"
   ]
  },
  {
   "cell_type": "code",
   "execution_count": 2,
   "metadata": {},
   "outputs": [],
   "source": [
    "kinship_fn = QC_path + '/f05_kinship/tcga.qced.kin0'\n",
    "kinship_df = pd.read_csv(kinship_fn, sep='\\t',header=0)\n",
    "# fail_kinship_samples = kinship_df.query('InfType !=\"UN\"')['ID1'] + \\"
   ]
  },
  {
   "cell_type": "code",
   "execution_count": 3,
   "metadata": {},
   "outputs": [
    {
     "name": "stdout",
     "output_type": "stream",
     "text": [
      "3rd min 0.0242\n",
      "4th max 0.2037\n"
     ]
    },
    {
     "data": {
      "text/plain": [
       "0.11395"
      ]
     },
     "execution_count": 3,
     "metadata": {},
     "output_type": "execute_result"
    }
   ],
   "source": [
    "print('3rd min',kinship_df.query('InfType == \"3rd\"')['Kinship'].min())\n",
    "print('4th max',kinship_df.query('InfType == \"4th\"')['Kinship'].max())\n",
    "(kinship_df.query('InfType == \"4th\"')['Kinship'].max() + \\\n",
    "   kinship_df.query('InfType == \"3rd\"')['Kinship'].min()) / 2"
   ]
  },
  {
   "cell_type": "code",
   "execution_count": 6,
   "metadata": {},
   "outputs": [
    {
     "data": {
      "text/html": [
       "<div>\n",
       "<style scoped>\n",
       "    .dataframe tbody tr th:only-of-type {\n",
       "        vertical-align: middle;\n",
       "    }\n",
       "\n",
       "    .dataframe tbody tr th {\n",
       "        vertical-align: top;\n",
       "    }\n",
       "\n",
       "    .dataframe thead th {\n",
       "        text-align: right;\n",
       "    }\n",
       "</style>\n",
       "<table border=\"1\" class=\"dataframe\">\n",
       "  <thead>\n",
       "    <tr style=\"text-align: right;\">\n",
       "      <th></th>\n",
       "      <th>FID1</th>\n",
       "      <th>ID1</th>\n",
       "      <th>FID2</th>\n",
       "      <th>ID2</th>\n",
       "      <th>N_SNP</th>\n",
       "      <th>HetHet</th>\n",
       "      <th>IBS0</th>\n",
       "      <th>HetConc</th>\n",
       "      <th>HomIBS0</th>\n",
       "      <th>Kinship</th>\n",
       "      <th>IBD1Seg</th>\n",
       "      <th>IBD2Seg</th>\n",
       "      <th>PropIBD</th>\n",
       "      <th>InfType</th>\n",
       "    </tr>\n",
       "  </thead>\n",
       "  <tbody>\n",
       "    <tr>\n",
       "      <th>0</th>\n",
       "      <td>TCGA-YZ-A982-10A-01D-A39Y-01</td>\n",
       "      <td>TCGA-YZ-A982-10A-01D-A39Y-01</td>\n",
       "      <td>TCGA-DB-5275-10A-01D-1466-01</td>\n",
       "      <td>TCGA-DB-5275-10A-01D-1466-01</td>\n",
       "      <td>775316</td>\n",
       "      <td>0.1166</td>\n",
       "      <td>0.0483</td>\n",
       "      <td>0.2549</td>\n",
       "      <td>0.4233</td>\n",
       "      <td>0.0286</td>\n",
       "      <td>0.0404</td>\n",
       "      <td>0.0</td>\n",
       "      <td>0.0202</td>\n",
       "      <td>UN</td>\n",
       "    </tr>\n",
       "  </tbody>\n",
       "</table>\n",
       "</div>"
      ],
      "text/plain": [
       "                           FID1                           ID1  \\\n",
       "0  TCGA-YZ-A982-10A-01D-A39Y-01  TCGA-YZ-A982-10A-01D-A39Y-01   \n",
       "\n",
       "                           FID2                           ID2   N_SNP  HetHet  \\\n",
       "0  TCGA-DB-5275-10A-01D-1466-01  TCGA-DB-5275-10A-01D-1466-01  775316  0.1166   \n",
       "\n",
       "     IBS0  HetConc  HomIBS0  Kinship  IBD1Seg  IBD2Seg  PropIBD InfType  \n",
       "0  0.0483   0.2549   0.4233   0.0286   0.0404      0.0   0.0202      UN  "
      ]
     },
     "execution_count": 6,
     "metadata": {},
     "output_type": "execute_result"
    }
   ],
   "source": [
    "kinship_df.head(n=1)"
   ]
  },
  {
   "cell_type": "code",
   "execution_count": 27,
   "metadata": {},
   "outputs": [],
   "source": [
    "fail_kinship_df = kinship_df.query('Kinship > 0.11395')\n",
    "kinship_pairs = []\n",
    "for iter, row in fail_kinship_df.iterrows():\n",
    "    kinship_pairs.append([row['ID1'], row['ID2']])\n",
    "l = kinship_pairs\n",
    "out = []\n",
    "while len(l)>0:\n",
    "    first, *rest = l\n",
    "    first = set(first)\n",
    "\n",
    "    lf = -1\n",
    "    while len(first)>lf:\n",
    "        lf = len(first)\n",
    "\n",
    "        rest2 = []\n",
    "        for r in rest:\n",
    "            if len(first.intersection(set(r)))>0:\n",
    "                first |= set(r)\n",
    "            else:\n",
    "                rest2.append(r)     \n",
    "        rest = rest2\n",
    "\n",
    "    out.append(first)\n",
    "    l = rest"
   ]
  },
  {
   "cell_type": "code",
   "execution_count": 28,
   "metadata": {},
   "outputs": [
    {
     "name": "stdout",
     "output_type": "stream",
     "text": [
      "remove kinship samples 18\n"
     ]
    }
   ],
   "source": [
    "remove_kin_samples = [b for a in out for b in list(a)[1:]]\n",
    "print('remove kinship samples',len(remove_kin_samples))"
   ]
  },
  {
   "cell_type": "code",
   "execution_count": 29,
   "metadata": {},
   "outputs": [
    {
     "name": "stdout",
     "output_type": "stream",
     "text": [
      "10441 samples pass kinship\n"
     ]
    }
   ],
   "source": [
    "kin_filter_df = tcga_pca_df.query('IID not in @remove_kin_samples')\n",
    "kin_filter_df = kin_filter_df.reset_index(drop=True)\n",
    "kin_filter_df['FID'] = kin_filter_df['FID'].map(lambda x:'-'.join(x.split('-')[:3]))\n",
    "kin_keep_samples = kin_filter_df['IID'].tolist()\n",
    "print(len(kin_keep_samples),'samples pass kinship')"
   ]
  },
  {
   "cell_type": "code",
   "execution_count": 30,
   "metadata": {},
   "outputs": [
    {
     "data": {
      "text/html": [
       "<div>\n",
       "<style scoped>\n",
       "    .dataframe tbody tr th:only-of-type {\n",
       "        vertical-align: middle;\n",
       "    }\n",
       "\n",
       "    .dataframe tbody tr th {\n",
       "        vertical-align: top;\n",
       "    }\n",
       "\n",
       "    .dataframe thead th {\n",
       "        text-align: right;\n",
       "    }\n",
       "</style>\n",
       "<table border=\"1\" class=\"dataframe\">\n",
       "  <thead>\n",
       "    <tr style=\"text-align: right;\">\n",
       "      <th>tcga_pred</th>\n",
       "      <th>EUR</th>\n",
       "      <th>tcga_other</th>\n",
       "    </tr>\n",
       "    <tr>\n",
       "      <th>tcga_eth</th>\n",
       "      <th></th>\n",
       "      <th></th>\n",
       "    </tr>\n",
       "  </thead>\n",
       "  <tbody>\n",
       "    <tr>\n",
       "      <th>AFR</th>\n",
       "      <td>11</td>\n",
       "      <td>872</td>\n",
       "    </tr>\n",
       "    <tr>\n",
       "      <th>AMR</th>\n",
       "      <td>6</td>\n",
       "      <td>18</td>\n",
       "    </tr>\n",
       "    <tr>\n",
       "      <th>EAS</th>\n",
       "      <td>6</td>\n",
       "      <td>629</td>\n",
       "    </tr>\n",
       "    <tr>\n",
       "      <th>EUR</th>\n",
       "      <td>7196</td>\n",
       "      <td>440</td>\n",
       "    </tr>\n",
       "    <tr>\n",
       "      <th>other</th>\n",
       "      <td>978</td>\n",
       "      <td>238</td>\n",
       "    </tr>\n",
       "    <tr>\n",
       "      <th>unknown</th>\n",
       "      <td>33</td>\n",
       "      <td>14</td>\n",
       "    </tr>\n",
       "  </tbody>\n",
       "</table>\n",
       "</div>"
      ],
      "text/plain": [
       "tcga_pred   EUR  tcga_other\n",
       "tcga_eth                   \n",
       "AFR          11         872\n",
       "AMR           6          18\n",
       "EAS           6         629\n",
       "EUR        7196         440\n",
       "other       978         238\n",
       "unknown      33          14"
      ]
     },
     "execution_count": 30,
     "metadata": {},
     "output_type": "execute_result"
    }
   ],
   "source": [
    "pd.crosstab(kin_filter_df.tcga_eth, kin_filter_df.tcga_pred)"
   ]
  },
  {
   "cell_type": "code",
   "execution_count": 34,
   "metadata": {},
   "outputs": [],
   "source": [
    "kin_filter_df['ctype'] = kin_filter_df['IID'].map(lambda x: sample_ctype_dict[x])\n",
    "rm_races = ['AFR','AMR','EAS']\n",
    "eur_filter_df = kin_filter_df.query('tcga_pred==\"EUR\" & tcga_eth not in @rm_races')\n",
    "eur_filter_df = eur_filter_df.reset_index(drop=True)\n",
    "eur_filter_df\\\n",
    "    .to_csv(path + '/f01_eur_samples4_qtl.txt',sep='\\t',index=False)\n",
    "kin_filter_df\\\n",
    "    .to_csv(path + '/f01_all_samples4_qtl.txt',sep='\\t',index=False)"
   ]
  },
  {
   "cell_type": "code",
   "execution_count": 38,
   "metadata": {
    "scrolled": true
   },
   "outputs": [],
   "source": [
    "eur_samples = ['-'.join(k.split('-')[:3]) for k in \n",
    "    kin_filter_df.query('tcga_pred==\"EUR\" & tcga_eth not in @rm_races')['IID']]\n",
    "# for i in (set(eur_samples) - set(meta_df['bcr_patient_barcode'].tolist())):\n",
    "#     print(partic_ctype_dict[i])"
   ]
  },
  {
   "cell_type": "markdown",
   "metadata": {},
   "source": [
    "# matrixQTL analysis\n",
    "## check cytoreason file format\n",
    "Use Cytoreason deconvoluted epressoin data as phenotype, do eQTL for cancers.\n",
    "First, prepare the covariates and cell abundance score files that include all the samples"
   ]
  },
  {
   "cell_type": "code",
   "execution_count": 44,
   "metadata": {},
   "outputs": [],
   "source": [
    "# #------ convert cytoreason cell type contribution to pivot format\n",
    "# cyto_path = '/hpc/grid/wip_drm_targetsciences/projects/p010_GOTME/TCGA.cytopro/all_immune_cytoreason.txt'\n",
    "# cell_df = pd.read_csv(cyto_path,sep='\\t')\n",
    "# cyto_df = pd.pivot_table(cell_df, values='score',index='SAMPLE',columns='cell_type')\n",
    "# cyto_df.index = cyto_df.index.map(lambda x:'-'.join(x.split('-')[:4]))\n",
    "# cyto_df = cyto_df[cyto_df.index.map(lambda x: x.split('-')[-1][:-1] != '11')]\n",
    "# cyto_df = cyto_df[~cyto_df.index.duplicated()]\n",
    "# cyto_df.index = cyto_df.index.map(lambda x:'-'.join(x.split('-')[:3]))\n",
    "# cyto_df = cyto_df[~cyto_df.index.duplicated()]\n",
    "# cyto_df.to_csv(path + '/f02_cytoreason_tcga.tsv',sep='\\t')\n",
    "\n",
    "# # #---------- prepare covariate for all the samples\n",
    "# covari_df = meta_df[['bcr_patient_barcode','gender','age_at_initial_pathologic_diagnosis']]\n",
    "# covari_df = covari_df.reset_index(drop=True)\n",
    "# covari_df.index = meta_df['bcr_patient_barcode']\n",
    "# covari_df.rename(columns={'age_at_initial_pathologic_diagnosis':'age'},inplace=True)\n",
    "# covari_df['gender'] = covari_df['gender'].map(lambda x: 0 if x=='MALE' else 1)\n",
    "# del covari_df['bcr_patient_barcode']\n",
    "\n",
    "# add tumor purity as covariates\n",
    "# purity_fn = raw_path + '/PanCan-Atlas/4f277128-f793-4354-a13d-30cc7fe9f6b5/TCGA_mastercalls.abs_tables_JSedit.fixed.txt'\n",
    "# purity_df = pd.read_csv(purity_fn,sep='\\t',header=0)\n",
    "# purity_df = purity_df.sort_values('array')\n",
    "# purity_df.index = purity_df['array'].map(lambda x:'-'.join(x.split('-')[:3]))\n",
    "# purity_df = purity_df.groupby(purity_df.index).first()\n",
    "# covari_df = pd.merge(covari_df,purity_df['purity'],how='left',left_index=True,\n",
    "#               right_index=True)\n",
    "# # covariate file\n",
    "# pca_fn = QC_path + '/f04_pca/tcga_projections.txt'\n",
    "# pca_df = pd.read_csv(pca_fn, sep='\\t',header=0,index_col=0,usecols=range(6))\n",
    "# del pca_df['IID']\n",
    "# pca_df.index = pca_df.index.map(lambda x: '-'.join(x.split('-')[:3]))\n",
    "# covari_df = pd.merge(pca_df,covari_df,how='left',left_index=True,right_index=True)\n",
    "# covari_df.to_csv(path + '/f02_covariates.tsv',sep='\\t')\n",
    "\n",
    "# @----------- prepare xcells -------------------\n",
    "# xcell_fn = '/hpc/grid/wip_drm_targetsciences/users/shangzhong/tumor/f03_gwas/test/xCell_TCGA_RSEM.txt'\n",
    "# xcell_df = pd.read_csv(xcell_fn,sep='\\t',header=0,index_col=0)\n",
    "# xcolumns = xcell_df.columns.tolist()\n",
    "# xcolumns = ['-'.join(x.split('.')[:3]) for x in xcolumns]\n",
    "# xcell_df.columns = xcolumns\n",
    "# xcell_df.T.to_csv('/hpc/grid/wip_drm_targetsciences/users/shangzhong/tumor/f03_gwas/xcell.txt',sep='\\t')"
   ]
  },
  {
   "cell_type": "code",
   "execution_count": 65,
   "metadata": {
    "scrolled": true
   },
   "outputs": [],
   "source": [
    "# # checck if cytoreason scores follow the normal distribution\n",
    "# import seaborn as sns\n",
    "# import numpy as np\n",
    "# from scipy.stats import norm\n",
    "# cyto_fn = path + '/f02_cytoreason_tcga.tsv'\n",
    "# cyto_df = pd.read_csv(cyto_fn,sep='\\t',header=0,index_col=0)\n",
    "# cells = cyto_df.columns.tolist()\n",
    "# cyto_df['tumor']=cyto_df.index.map(lambda x: partic_ctype_dict[x] if x in partic_ctype_dict\n",
    "#                                else '-')\n",
    "# for cell in cells[0:10]:\n",
    "#     try:\n",
    "#         plt.figure()\n",
    "#         data = np.log(np.array(cyto_df.query('tumor==\"BRCA\"')[cell]))\n",
    "#         sns.distplot(data, fit=norm,kde=False,bins=50)\n",
    "#     except:\n",
    "#         continue"
   ]
  },
  {
   "cell_type": "markdown",
   "metadata": {},
   "source": [
    "The code m05_matrixQTL.R run matrixQTL and generate file with several columns.\n",
    "First we need to add a column 'marker' to the matrixQTL results, this is used by the downstream clump and Locuszoom plot results. The mark is rsid, and the info is in the annotation file. In order to add the rsid, we need to get the mapping between the location and the rsid. This mapping can be got from the annotation. However the table output from vep is too large, and here I'll add chromosome and postion to the file to make index for it, thus we can query the id fast. the code is in the file m07_addrsidMatrix.py. When the pipeline finished, it will add marker ref alt std to the result file to the matrixQTL results."
   ]
  },
  {
   "cell_type": "markdown",
   "metadata": {},
   "source": [
    "## Process matrixQTL results\n",
    "### merge matrixQTL results by cancer and cell types"
   ]
  },
  {
   "cell_type": "code",
   "execution_count": 79,
   "metadata": {},
   "outputs": [],
   "source": [
    "mode = 'norm'\n",
    "score = 'cyto'\n",
    "race = 'all'"
   ]
  },
  {
   "cell_type": "code",
   "execution_count": 3,
   "metadata": {},
   "outputs": [],
   "source": [
    "# count number of significant correlations for each cancer type\n",
    "def merge_matrixQTL(qtl_path, cancers,race,mode,score,out_fn):\n",
    "    '''\n",
    "    merge traixQTL results of different cancers from TCGA.\n",
    "    '''\n",
    "    # ptype: population type 'eur' or 'all'\n",
    "    dfs = []\n",
    "\n",
    "    for cancer in cancers:\n",
    "        tumor_path = qtl_path + '/' + cancer\n",
    "        qtl_fn = tumor_path + '/' + cancer + '_{r}_{s}_{m}.txt.gz'.format(\n",
    "                                              r=race,s=score,m=mode)\n",
    "        if not os.path.exists(qtl_fn): continue\n",
    "        if os.path.exists(qtl_fn):\n",
    "            df = pd.read_csv(qtl_fn,sep='\\t',header=0,compression='gzip')\n",
    "            try:\n",
    "                df.drop('FDR',axis=1,inplace=True)\n",
    "            except:\n",
    "                pass\n",
    "            df['p-value'] = df['p-value'].astype('float')\n",
    "            df = df[df['p-value'].values < 5e-8]\n",
    "            df = df.reset_index(drop=True)\n",
    "            df['cancer'] = pd.Series([cancer] * df.shape[0])\n",
    "            dfs.append(df)\n",
    "    dfs = pd.concat(dfs)\n",
    "    dfs.to_csv(out_fn, sep='\\t',index=False)\n",
    "    \n",
    "qtl_path = work_path + '/f03_qtl'\n",
    "cancer_types = sorted([f.split('/')[-1] \n",
    "            for f in glob.glob(qtl_path+'/*') if os.path.isdir(f)])\n",
    "#--- merge eur results --------\n",
    "# eur_qtl_fn = qtl_path + '/r01_eur_tcgaQTL.tsv'\n",
    "# merge_matrixQTL(qtl_path, cancer_types,'eur',mode,score,eur_qtl_fn)\n",
    "# #---- merge all -----------\n",
    "# all_qtl_fn = qtl_path + '/r02_all_tcgaQTL.tsv'\n",
    "# merge_matrixQTL(qtl_path, cancer_types,'all',mode,score,all_qtl_fn)"
   ]
  },
  {
   "cell_type": "markdown",
   "metadata": {},
   "source": [
    "### annotate the matrixQTL results"
   ]
  },
  {
   "cell_type": "code",
   "execution_count": 54,
   "metadata": {},
   "outputs": [],
   "source": [
    "import tabix\n",
    "#------------- annotate the qtl results -------\n",
    "def anno_line(row, tabix_dict):\n",
    "    '''row: row of qtl results'''\n",
    "    chrom,pos = row['SNP'].split(':')[:2]\n",
    "    tb = tabix_dict['chr' + chrom]\n",
    "    records = tb.query(chrom, int(pos),int(pos) + 1)\n",
    "    for record in records:\n",
    "        return pd.Series([record[3],record[4],record[11]])\n",
    "    \n",
    "anno_qtl_eur_fn = qtl_path + '/r03_eur_tcga_QTL_anno.tsv'\n",
    "\n",
    "eur_qtl_fn = qtl_path + '/r01_eur_tcgaQTL.tsv'\n",
    "eur_qtl_df = pd.read_csv(eur_qtl_fn,sep='\\t',header=0)\n",
    "eur_qtl_df[['Consequence','near_gene','near_50Kgene']] = eur_qtl_df.apply(lambda row:anno_line(row,tabix_dict),axis=1)\n",
    "eur_qtl_df.rename(columns={'gene':'cell'},inplace=True)\n",
    "eur_qtl_df.to_csv(anno_qtl_eur_fn,sep='\\t',index=False)\n",
    "anno_qtl_eur_df = pd.read_csv(anno_qtl_eur_fn,sep='\\t',header=0)"
   ]
  },
  {
   "cell_type": "code",
   "execution_count": null,
   "metadata": {},
   "outputs": [],
   "source": [
    "##### annotate all population\n",
    "anno_qtl_all_fn = qtl_path + '/r04_all_tcga_QTL_anno.tsv'\n",
    "\n",
    "all_qtl_fn = qtl_path + '/r02_all_tcgaQTL.tsv'\n",
    "all_qtl_df = pd.read_csv(all_qtl_fn,sep='\\t',header=0)\n",
    "all_qtl_df[['Consequence','near_gene','near_50Kgene']] = \\\n",
    "              all_qtl_df.apply(lambda row:anno_line(row,tabix_dict),axis=1)\n",
    "all_qtl_df.rename(columns={'gene':'cell'},inplace=True)\n",
    "all_qtl_df.to_csv(anno_qtl_all_fn,sep='\\t',index=False)\n",
    "anno_all_qtl_df = pd.read_csv(anno_qtl_all_fn, sep='\\t',header=0)"
   ]
  },
  {
   "cell_type": "markdown",
   "metadata": {},
   "source": [
    "2. Do some basic statistical counting for the matrixQTL results"
   ]
  },
  {
   "cell_type": "code",
   "execution_count": 14,
   "metadata": {},
   "outputs": [],
   "source": [
    "class matrixQTL:\n",
    "    '''\n",
    "    input is dataframe for all cancers\n",
    "    '''\n",
    "    def __init__(self, qtl_df):\n",
    "        qtl_df = qtl_df[qtl_df['p-value'].values < 5* 10e-8]\n",
    "        try:\n",
    "            qtl_df.rename(columns = {'gene':'cell'},inplace=True)\n",
    "        except:\n",
    "            pass\n",
    "        qtl_df = qtl_df.reset_index(drop=True)\n",
    "        self.df = qtl_df\n",
    "    \n",
    "    def getCancer(self,cancer):\n",
    "        return self.df.query('cancer == @cancer')\n",
    "    \n",
    "    def NumOfSigSNPs(self, cancer):\n",
    "        return self.getCancer(cancer)['SNP'].unique().shape[0]\n",
    "    \n",
    "    def NumOfSigCellTypes(self,cancer):\n",
    "        return self.getCancer(cancer)['cell'].unique().shape[0]\n",
    "    \n",
    "    def NumOfSigAssociations(self,cancer):\n",
    "        return self.getCancer(cancer).shape[0]\n",
    "    \n",
    "    def Top2CellTypes(self,cancer):\n",
    "        '''get cell types have the most associations'''\n",
    "        df = self.getCancer(cancer)\n",
    "        return ','.join(df['cell'].value_counts().index[:2])\n",
    "    \n",
    "    def Top2CellTypesRates(self,cancer):\n",
    "        '''get portion of associations for top 3 cell lines'''\n",
    "        df = self.getCancer(cancer)\n",
    "        portions = (df['cell'].value_counts()[:2] / df['cell'].shape[0])\\\n",
    "                         .round(2).tolist()\n",
    "        return ';'.join([str(i) for i in portions])\n",
    "        \n",
    "    def number_of_genes(self, cancer):\n",
    "        return self.getCancer(cancer)['near_gene'].unique().shape[0]\n",
    "    \n",
    "    def getStats(self):\n",
    "        '''get stats table for matrixQTL'''\n",
    "        cancers = self.df['cancer'].unique().tolist()\n",
    "        numSNPs = []\n",
    "        numCells = []\n",
    "        numAssoc = []\n",
    "        top2Cells = []\n",
    "        top2CellsRates = []\n",
    "        for cancer in cancers:\n",
    "            numSNPs.append(self.NumOfSigSNPs(cancer))\n",
    "            numCells.append(self.NumOfSigCellTypes(cancer))\n",
    "            numAssoc.append(self.NumOfSigAssociations(cancer))\n",
    "            top2Cells.append(self.Top2CellTypes(cancer))\n",
    "            top2CellsRates.append(self.Top2CellTypesRates(cancer))\n",
    "        stats_df = pd.DataFrame({'Cancer':cancers,'SNPs':numSNPs,\n",
    "                                 'Cells':numCells,'Association':numAssoc,\n",
    "                                'Top2Cells':top2Cells,'Top2CellsPortion':top2CellsRates})\n",
    "        return stats_df"
   ]
  },
  {
   "cell_type": "code",
   "execution_count": 57,
   "metadata": {},
   "outputs": [],
   "source": [
    "# build matrixQTL stats for eur and all\n",
    "eur_qtl_stats_fn = qtl_path + '/r01_eur_tcgaQTL_stats.tsv'\n",
    "eur_qtl_fn = qtl_path + '/r01_eur_tcgaQTL.tsv'\n",
    "eur_qtl_df = pd.read_csv(eur_qtl_fn,sep='\\t',header=0)\n",
    "eur_obj = matrixQTL(eur_qtl_df)\n",
    "eur_stats_df = eur_obj.getStats()\n",
    "eur_stats_df.to_csv(eur_qtl_stats_fn,sep='\\t',index=False)\n",
    "\n",
    "all_qtl_stats_fn = qtl_path + '/r02_all_tcgaQTL_stats.tsv'\n",
    "all_qtl_fn = qtl_path + '/r02_all_tcgaQTL.tsv'\n",
    "all_qtl_df = pd.read_csv(all_qtl_fn,sep='\\t',header=0)\n",
    "all_obj = matrixQTL(all_qtl_df)\n",
    "all_stats_df = all_obj.getStats()\n",
    "all_stats_df.to_csv(all_qtl_stats_fn,sep='\\t',index=False)\n",
    "\n",
    "# #------- get shared association between eur and all\n",
    "cancers = eur_stats_df['Cancer'].tolist()\n",
    "numOverlapAssoc = []\n",
    "for cancer in cancers:\n",
    "    # 1. get shared association\n",
    "    eur_df = eur_obj.getCancer(cancer)\n",
    "    all_df = all_obj.getCancer(cancer)\n",
    "    merge_df = pd.merge(eur_df, all_df, on=['SNP','gene','cancer'])\n",
    "    numOverlapAssoc.append(merge_df[['SNP','gene']].drop_duplicates().shape[0])"
   ]
  },
  {
   "cell_type": "code",
   "execution_count": 58,
   "metadata": {},
   "outputs": [],
   "source": [
    "qtl_path = work_path + '/f03_qtl'\n",
    "merge_qtl_fn = qtl_path + '/r05_merge_stats.tsv'\n",
    "merge_stats_df = pd.merge(eur_stats_df, all_stats_df,on='Cancer',how='outer')\n",
    "merge_stats_df['overlap_assoc'] = pd.Series(numOverlapAssoc)\n",
    "merge_stats_df.to_csv(merge_qtl_fn,sep='\\t',index=False)\n",
    "merge_stats_df = pd.read_csv(merge_qtl_fn,sep='\\t',header=0)"
   ]
  },
  {
   "cell_type": "markdown",
   "metadata": {},
   "source": [
    "### Clump the results\n",
    "#### first we need to split the qtl results by cell type"
   ]
  },
  {
   "cell_type": "code",
   "execution_count": 83,
   "metadata": {},
   "outputs": [],
   "source": [
    "# import glob\n",
    "# import os\n",
    "# import pandas as pd\n",
    "# plink = '/hpc/grid/wip_drm_targetsciences/users/shangzhong/tumor/software/plink'\n",
    "# kg1_ref = '/hpc/grid/hgcb/workspace/projects/P002_reference_information/plink/EUR_1000G_HapMap2plus3_Final'\n",
    "# qtl_path = work_path + '/f03_qtl'\n",
    "# cell_qtl_path = work_path + '/f04_cell_gwas'\n",
    "# if not os.path.exists(cell_qtl_path):\n",
    "#     os.mkdir(cell_qtl_path)\n",
    "# qtl_fns = sorted(glob.glob(qtl_path + '/*/*_{r}_{s}_{m}.txt.gz'.format(r=race,s=score,m=mode)))\n",
    "# for qtl in qtl_fns:\n",
    "#     cancer = qtl.split('/')[-1].split('_')[0]\n",
    "#     cancer_path = cell_qtl_path + '/' + cancer\n",
    "#     if not os.path.exists(cancer_path):\n",
    "#         os.mkdir(cancer_path)\n",
    "#     qtl_df = pd.read_csv(qtl,sep='\\t',header=0,compression='gzip')\n",
    "#     cell_types = qtl_df['gene'].unique().tolist()\n",
    "#     for cell in cell_types:\n",
    "#         out_fn = cancer_path + '/' + cell + '_' + qtl.split('/')[-1]\n",
    "#         qtl_df.query('gene == @cell').to_csv(out_fn,sep='\\t',index=False,compression='gzip')"
   ]
  },
  {
   "cell_type": "markdown",
   "metadata": {},
   "source": [
    "#### the qtl is already annotated using rsid, so here we clump them using rsid"
   ]
  },
  {
   "cell_type": "code",
   "execution_count": 16,
   "metadata": {
    "scrolled": true
   },
   "outputs": [],
   "source": [
    "# clump\n",
    "plink = '/hpc/grid/wip_drm_targetsciences/users/shangzhong/tumor/software/plink'\n",
    "kg1_ref = '/hpc/grid/hgcb/workspace/projects/P002_reference_information/plink/EUR_1000G_HapMap2plus3_Final'\n",
    "clump_path = work_path + '/f05_clump'\n",
    "if not os.path.exists(clump_path):\n",
    "    os.mkdir(clump_path)\n",
    "\n",
    "cell_qtl_path = work_path + '/f04_cell_gwas'\n",
    "cancer_paths = [f for f in sorted(glob.glob(cell_qtl_path + '/*')) if os.path.isdir(f)]\n",
    "with open(clump_path + '/cmd.sh','w') as out_f:\n",
    "    for cancer_path in cancer_paths:\n",
    "        cancer = cancer_path.split('/')[-1]\n",
    "        cancer_clump_path = clump_path + '/' + cancer\n",
    "        if not os.path.exists(cancer_clump_path):\n",
    "            os.mkdir(cancer_clump_path)\n",
    "        qtl_fns = sorted(glob.glob(cancer_path + '/*.gz'))\n",
    "        for qtl in qtl_fns:\n",
    "            out_fn = cancer_clump_path + '/' + qtl.split('/')[-1]\n",
    "            log = out_fn + '.bsub.log'\n",
    "            cmd = ('bsub -o {log} -R \\\"select[hname!=amrndhl1296]\\\" \\\n",
    "                   \\\"{plink} --bfile {ref} --clump {qtl} \\\n",
    "                   --clump-snp-field marker \\\n",
    "                   --clump-field p-value \\\n",
    "                   --clump-p1 5e-8 --clump-p2 1 --clump-r2 0.8 --clump-kb 250 \\\n",
    "                   --out {out}\\\"').format(log=log,\n",
    "                        plink=plink,ref=kg1_ref,qtl=qtl,out=out_fn[:-7])\n",
    "    #         os.system(cmd)\n",
    "            out_f.write(cmd+'\\n')"
   ]
  },
  {
   "cell_type": "markdown",
   "metadata": {},
   "source": [
    "### merge the clump results"
   ]
  },
  {
   "cell_type": "code",
   "execution_count": 25,
   "metadata": {},
   "outputs": [],
   "source": [
    "mode = 'norm'\n",
    "score = 'cyto'\n",
    "race = 'all'"
   ]
  },
  {
   "cell_type": "code",
   "execution_count": null,
   "metadata": {
    "scrolled": true,
    "tags": []
   },
   "outputs": [],
   "source": [
    "import os, glob\n",
    "import pandas as pd\n",
    "#------------------- merge clump results of cancers\n",
    "def merge_clumpQTL(clump_path, out_fn,race,score,mode):\n",
    "    '''\n",
    "    merge traixQTL results of different cancers and cell types from TCGA.\n",
    "    '''\n",
    "    # ptype: population type 'eur' or 'all'\n",
    "    dfs = []\n",
    "    cancer_paths = [p for p in sorted(glob.glob(clump_path + '/*')) if os.path.isdir(p)]\n",
    "    for cancer_path in cancer_paths:\n",
    "        cancer = cancer_path.split('/')[-1]\n",
    "        clump_files = sorted(glob.glob(cancer_path + '/*_{c}_{r}_{s}_{m}.clumped'.format(\n",
    "                        c=cancer,r=race,s=score,m=mode)))\n",
    "        for clump in clump_files:\n",
    "            index = clump.split('/')[-1].split('_').index(cancer)\n",
    "            cell = '_'.join(clump.split('/')[-1].split('_')[:index])\n",
    "            df = pd.read_csv(clump,sep='\\t',header=0)\n",
    "            df['cancer'] = pd.Series([cancer]*df.shape[0])\n",
    "            df['cell'] = pd.Series([cell]*df.shape[0])\n",
    "            dfs.append(df)\n",
    "        \n",
    "    dfs = pd.concat(dfs)\n",
    "    dfs.to_csv(out_fn, sep='\\t',index=False)\n",
    "\n",
    "clump_path = work_path + '/f05_clump'\n",
    "# eur_clump_fn = clump_path + '/r01_eur_clmpTCGA.tsv'\n",
    "# merge_clumpQTL(clump_path,eur_clump_fn,'eur',score,mode)\n",
    "all_clump_fn = clump_path + '/r02_all_clmpTCGA.tsv'\n",
    "merge_clumpQTL(clump_path, all_clump_fn,'all',score,mode)"
   ]
  },
  {
   "cell_type": "markdown",
   "metadata": {},
   "source": [
    "4. get statistics after clumping at the cancer level"
   ]
  },
  {
   "cell_type": "code",
   "execution_count": 61,
   "metadata": {},
   "outputs": [],
   "source": [
    "import pandas as pd\n",
    "\n",
    "class clumpQTL:\n",
    "    '''\n",
    "    input is dataframe for all cancers\n",
    "    '''\n",
    "    def __init__(self, qtl_df):\n",
    "        self.df = qtl_df\n",
    "    \n",
    "    def getCancer(self,cancer):\n",
    "        return self.df.query('cancer == @cancer')\n",
    "    \n",
    "    def NumOfSigSNPs(self, cancer):\n",
    "        return self.getCancer(cancer)['SNP'].unique().shape[0]\n",
    "    \n",
    "    def getStatsCancerLevel(self):\n",
    "        '''get stats table for matrixQTL'''\n",
    "        cancers = self.df['cancer'].unique().tolist()\n",
    "        numSNPs = []\n",
    "        for cancer in cancers:\n",
    "            numSNPs.append(self.NumOfSigSNPs(cancer))\n",
    "        stats_df = pd.DataFrame({'Cancer':cancers,'SNPs':numSNPs})\n",
    "        return stats_df\n",
    "    \n",
    "    def getStatsCellLevel(self):\n",
    "        '''get stats table for clump at cell type level'''\n",
    "        stats_df = self.df[['cancer','cell']].value_counts().to_frame()\n",
    "        return stats_df\n",
    "    \n",
    "# build matrixQTL stats for eur and all\n",
    "eur_clp_fn = clump_path + '/r01_eur_clmpTCGA.tsv'\n",
    "eur_clp_df = pd.read_csv(eur_clp_fn,header=0, delim_whitespace=True)\n",
    "eur_clp_obj = clumpQTL(eur_clp_df)\n",
    "eur_clp_stats_df = eur_clp_obj.getStatsCellLevel()\n",
    "eur_clp_stats_fn = clump_path + '/r03_eur_clump_stats.tsv'\n",
    "eur_clp_stats_df.to_csv(eur_clp_stats_fn,sep='\\t')\n",
    "\n",
    "all_clp_fn = clump_path + '/r02_all_clmpTCGA.tsv'\n",
    "all_clp_df = pd.read_csv(all_clp_fn,delim_whitespace=True,header=0)\n",
    "all_clp_obj = clumpQTL(all_clp_df)\n",
    "all_clp_stats_df = all_clp_obj.getStatsCellLevel()\n",
    "all_clp_stats_fn = clump_path + '/r04_all_clump_stats.tsv'\n",
    "all_clp_stats_df.to_csv(all_clp_stats_fn,sep='\\t')"
   ]
  },
  {
   "cell_type": "code",
   "execution_count": 62,
   "metadata": {},
   "outputs": [],
   "source": [
    "#--------- merge the stats \n",
    "merge_clump_stats = pd.merge(eur_clp_stats_df, all_clp_stats_df,left_index=True,\n",
    "                            right_index=True)\n",
    "merge_stats_fn = clump_path + '/r05_merge_clump_stats.tsv'\n",
    "merge_clump_stats.sort_values(['cancer','cell']).to_csv(merge_stats_fn,sep='\\t')"
   ]
  },
  {
   "cell_type": "markdown",
   "metadata": {},
   "source": [
    "5. annotate clump results"
   ]
  },
  {
   "cell_type": "code",
   "execution_count": 100,
   "metadata": {},
   "outputs": [],
   "source": [
    "snp_rsid_map_fn = '/hpc/grid/wip_drm_targetsciences/projects/TCGA/SNP-Array/IMPUTE/vep_anno_vcf/snp_id_map.txt'\n",
    "rsid_vari_dict = {}\n",
    "with open(snp_rsid_map_fn) as in_f:\n",
    "    for line in in_f:\n",
    "        if line.startswith('#'): continue\n",
    "        snp,rsid = line.strip().split('\\t')\n",
    "        rsid_vari_dict[rsid] = snp"
   ]
  },
  {
   "cell_type": "code",
   "execution_count": 112,
   "metadata": {},
   "outputs": [],
   "source": [
    "import tabix\n",
    "def anno_clump_line(row, tabix_dict):\n",
    "    chrom = str(row['CHR'])\n",
    "    pos = int(row['BP'])\n",
    "    tb = tabix_dict['chr' + chrom]\n",
    "    records =tb.query(chrom, pos, pos+1)\n",
    "    for record in records:\n",
    "        return pd.Series([record[3], record[4],record[11],record[10]])\n",
    "eur_clump_qtl_anno_fn = clump_path + '/r06_eur_clmpTCGA_anno.tsv'\n",
    "eur_clump_qtl_fn = clump_path + '/r01_eur_clmpTCGA.tsv'\n",
    "eur_clump_qtl_df = pd.read_csv(eur_clump_qtl_fn,header=0,delim_whitespace=True)\n",
    "eur_clump_qtl_df[['Consequence','near_gene','near_50Kgene','CADD']] = \\\n",
    "            eur_clump_qtl_df.apply(lambda row:anno_clump_line(row,tabix_dict),axis=1)\n",
    "eur_clump_qtl_df.rename(columns={'SNP':'marker'},inplace=True) \n",
    "eur_clump_qtl_df['SNP'] = eur_clump_qtl_df['marker'].map(lambda x: rsid_vari_dict[x])\n",
    "eur_clump_qtl_df.to_csv(eur_clump_qtl_anno_fn,sep='\\t',index=False)"
   ]
  },
  {
   "cell_type": "code",
   "execution_count": 113,
   "metadata": {},
   "outputs": [],
   "source": [
    "all_clump_qtl_anno_fn = clump_path + '/r07_all_clmpTCGA_anno.tsv'\n",
    "all_clump_qtl_fn = clump_path + '/r02_all_clmpTCGA.tsv'\n",
    "all_clump_qtl_df = pd.read_csv(all_clump_qtl_fn,header=0,delim_whitespace=True)\n",
    "all_clump_qtl_df[['Consequence','near_gene','near_50Kgene','CADD']] = \\\n",
    "            all_clump_qtl_df.apply(lambda row:anno_clump_line(row,tabix_dict),axis=1)\n",
    "all_clump_qtl_df.rename(columns={'SNP':'marker'},inplace=True) \n",
    "all_clump_qtl_df['SNP'] = all_clump_qtl_df['marker'].map(lambda x: rsid_vari_dict[x])\n",
    "all_clump_qtl_df.to_csv(all_clump_qtl_anno_fn,sep='\\t',index=False)"
   ]
  },
  {
   "cell_type": "markdown",
   "metadata": {},
   "source": [
    "### META analysis\n",
    "#### get overlap cell types"
   ]
  },
  {
   "cell_type": "code",
   "execution_count": 32,
   "metadata": {},
   "outputs": [],
   "source": [
    "# metal\n",
    "import glob,os\n",
    "from functools import reduce\n",
    "def overlap_cells(a,b):\n",
    "    return list(set(a).intersection(set(b)))\n",
    "\n",
    "# snp_rsid_map_fn = '/hpc/grid/wip_drm_targetsciences/projects/TCGA/SNP-Array/IMPUTE/vep_anno_vcf/snp_id_map.txt'\n",
    "METAL = '/hpc/grid/wip_drm_targetsciences/users/shangzhong/software/generic-metal/metal'\n",
    "cell_qtl_path = work_path + '/f04_cell_gwas'\n",
    "meta_path = work_path + '/f06_meta_qtl'\n",
    "if not os.path.exists(meta_path):\n",
    "    os.mkdir(meta_path)\n",
    "\n",
    "studies = ['BLCA','BRCA','CESC','COAD','ESCA','HNSC','LUAD','LUSC','OV','PAAD',\n",
    "          'READ','STAD','THCA','THYM','UCEC']\n",
    "name = 'epithelial_meta'\n",
    "# studies = ['KIRC','KIRP']\n",
    "# name = 'kidney'\n",
    "race = 'all'\n",
    "\n",
    "# rsid_vari_dict = {}\n",
    "# with open(snp_rsid_map_fn) as in_f:\n",
    "#     for line in in_f:\n",
    "#         if line.startswith('#'): continue\n",
    "#         snp,rsid = line.strip().split('\\t')\n",
    "#         rsid_vari_dict[rsid] = snp\n",
    "    \n",
    "# 1. get overlap cell types\n",
    "cell_types = []\n",
    "for study in studies:\n",
    "    qtl_fns = glob.glob(cell_qtl_path+'/{c}/*_{c}_{r}_{s}_{m}.txt.gz'.format(\n",
    "                    c=study,r=race,s=score,m=mode))\n",
    "    qtl_fns = sorted(qtl_fns)\n",
    "    cells = []\n",
    "    for qtl in qtl_fns:\n",
    "        idx = qtl.split('/')[-1].split('_').index(study)\n",
    "        cells.append('_'.join(qtl.split('/')[-1].split('_')[:idx]))\n",
    "#         df = pd.read_csv(qtl,sep='\\t',header=0,compression='gzip')\n",
    "#         rsid_vari_dict.update(df.set_index('marker')['SNP'].to_dict())\n",
    "    cell_types.append(cells)\n",
    "cell_types = reduce(overlap_cells, cell_types)"
   ]
  },
  {
   "cell_type": "markdown",
   "metadata": {},
   "source": [
    "#### run METAL for each cell type"
   ]
  },
  {
   "cell_type": "code",
   "execution_count": 33,
   "metadata": {
    "scrolled": true
   },
   "outputs": [],
   "source": [
    "# 2. run METAL for each cell type\n",
    "analyze_path = meta_path + '/' + name\n",
    "if not os.path.exists(analyze_path):\n",
    "    os.mkdir(analyze_path)\n",
    "for cell in cell_types:\n",
    "    metal_files = [sorted(glob.glob(cell_qtl_path+'/{cancer}/{cell}_{cancer}_{r}_{s}_{m}*.gz'.format(\n",
    "                  cell=cell,cancer=s,r=race,s=score,m=mode)))[0] for s in studies]\n",
    "    config = analyze_path + '/config_{c}.txt'.format(c=cell)\n",
    "    with open(config,'w') as out_f:\n",
    "        config_dic = {'MARKER':'marker',\n",
    "                      'ALLELE':'REF ALT',\n",
    "                     'SEPARATOR':'TAB',\n",
    "                     'SCHEME':'STDERR',\n",
    "                     'EFFECT':'beta',\n",
    "                      'STDERR':'std',\n",
    "                      'PVALUE':'p-value',\n",
    "                     'OUTFILE':analyze_path+'/'+cell+'_'+name+'_'+race+ ' .txt'}\n",
    "        for k,v in config_dic.items():\n",
    "            out_f.write(k+' '+v+'\\n')\n",
    "        for qtl in metal_files:\n",
    "            out_f.write('PROCESS ' + qtl+'\\n')\n",
    "        out_f.write('ANALYZE HETEROGENEITY\\nQUIT')\n",
    "#     # run in jupyter\n",
    "#     cmd = '{metal} {config} {log}'.format(metal=METAL,config=config,\n",
    "#                                           log=analyze_path+'/log.txt')\n",
    "#     os.system(cmd)\n",
    "#     meta_res_fn = analyze_path+'/'+cell+'_'+name+'_'+race+'1.txt'\n",
    "#     meta_df = pd.read_csv(meta_res_fn,sep='\\t',header=0)\n",
    "#     meta_df = meta_df.sort_values('P-value')\n",
    "#     meta_df.to_csv(meta_res_fn,sep='\\t',index=False)\n",
    "    # run in bsub\n",
    "    cmd = 'bsub -q short -o {o}.bsub.log {metal} {config} {log}'.format(\n",
    "        o=analyze_path+'/'+cell+'_'+name+'_'+race,\n",
    "        metal=METAL,config=config,log=analyze_path+'/log.txt')\n",
    "    os.system(cmd)\n",
    "#     print(cmd)\n",
    "# for cell in cell_types:\n",
    "#     meta_res_fn = analyze_path+'/'+cell+'_'+name+'_'+race+'1.txt'\n",
    "#     meta_df = pd.read_csv(meta_res_fn,sep='\\t',header=0)\n",
    "#     meta_df = meta_df.sort_values('P-value')\n",
    "#     meta_df.to_csv(meta_res_fn,sep='\\t',index=False)"
   ]
  },
  {
   "cell_type": "markdown",
   "metadata": {},
   "source": [
    "#### merge the results for each meta analysis  "
   ]
  },
  {
   "cell_type": "code",
   "execution_count": 45,
   "metadata": {
    "scrolled": true
   },
   "outputs": [
    {
     "name": "stdout",
     "output_type": "stream",
     "text": [
      "analyze cancer epithelial_meta\n",
      "CD14.low._CD16.positive_monocyte_epithelial\n",
      "CD14.positive._CD16.negative_classical_monocyte_epithelial\n",
      "CD14.positive._CD16.positive_monocyte_epithelial\n",
      "CD16.positive._CD56.dim_natural_killer_cell_epithelial\n",
      "CD4.positive._alpha.beta_T_cell_epithelial\n",
      "CD8.positive._alpha.beta_T_cell_epithelial\n",
      "Cancer_associated_fibroblast_.CAF._epithelial\n",
      "T.helper_17_cell_epithelial\n",
      "T.helper_1_cell_epithelial\n",
      "T.helper_2_cell_epithelial\n",
      "T_follicular_helper_cell_epithelial\n",
      "alternatively_activated_macrophage_epithelial\n",
      "central_memory_CD4.positive._alpha.beta_T_cell_epithelial\n",
      "chondrocyte_epithelial\n",
      "class_switched_memory_B_cell_epithelial\n",
      "dendritic_cell_epithelial\n",
      "effector_memory_CD4.positive._alpha.beta_T_cell_epithelial\n",
      "effector_memory_CD8.positive._alpha.beta_T_cell_epithelial\n",
      "effector_memory_RA_CD8.positive._alpha.beta_T_cell_.TEMRA._epithelial\n",
      "endothelial_cell_epithelial\n",
      "eosinophil_epithelial\n",
      "epithelial_cell_epithelial\n",
      "fat_cell_epithelial\n",
      "fibroblast_epithelial\n",
      "gamma.delta_T_cell_epithelial\n",
      "granulocyte_epithelial\n",
      "inflammatory_macrophage_epithelial\n",
      "macrophage_epithelial\n",
      "mast_cell_epithelial\n",
      "mature_B_cell_epithelial\n",
      "mature_NK_T_cell_epithelial\n",
      "mature_natural_killer_cell_epithelial\n",
      "memory_B_cell_epithelial\n",
      "mesenchymal_cell_epithelial\n",
      "monocyte_epithelial\n",
      "myeloid_dendritic_cell_epithelial\n",
      "naive_B_cell_epithelial\n",
      "naive_thymus.derived_CD4.positive._alpha.beta_T_cell_epithelial\n",
      "naive_thymus.derived_CD8.positive._alpha.beta_T_cell_epithelial\n",
      "natural_killer_cell_epithelial\n",
      "neutrophil_epithelial\n",
      "osteoblast_epithelial\n",
      "plasma_cell_epithelial\n",
      "plasmacytoid_dendritic_cell_epithelial\n",
      "regulatory_T_cell_epithelial\n",
      "smooth_muscle_cell_epithelial\n",
      "stromal_cell_epithelial\n"
     ]
    }
   ],
   "source": [
    "# 3. merge the results for each meta analysis  \n",
    "dfs = []\n",
    "meta_path = work_path + '/f06_meta_qtl'\n",
    "analyze_path = meta_path + '/' + name\n",
    "print('analyze cancer',analyze_path.split('/')[-1])\n",
    "meta_files = sorted(glob.glob(analyze_path+'/*{r}*.txt'.format(r=race)))\n",
    "merge_meta_fn = meta_path+'/'+name+'_'+race+'.sig.tsv'\n",
    "\n",
    "# # code work for small results\n",
    "# for m in meta_files:\n",
    "#     cell = '_'.join(m.split('/')[-1].split('_')[:-3])\n",
    "#     df = pd.read_csv(m,sep='\\t',header=0)\n",
    "#     df['cell'] = pd.Series([cell]*df.shape[0])\n",
    "#     df.to_csv(m,sep='\\t',index=False)\n",
    "#     dfs.append(df)\n",
    "# dfs = pd.concat(dfs,sort=True)\n",
    "# dfs['SNP'] = dfs['MarkerName'].map(lambda x: rsid_vari_dict[x])\n",
    "# dfs.to_csv(merge_meta_fn,sep='\\t',index=False,compression='gzip')\n",
    "# dfs = pd.read_csv(merge_meta_fn,sep='\\t',header=0,compression='gzip')\n",
    "# sig_meta_df = dfs[dfs['P-value'].values < 5e-8]\n",
    "# sig_meta_df = sig_meta_df.reset_index(drop=True)\n",
    "\n",
    "# code work for large results\n",
    "header = True\n",
    "for m in meta_files:\n",
    "    cell = '_'.join(m.split('/')[-1].split('_')[:-2])\n",
    "    print(cell)\n",
    "    df = pd.read_csv(m,sep='\\t',header=0)\n",
    "    df['cell'] = pd.Series([cell]*df.shape[0])\n",
    "    df['SNP'] = df['MarkerName'].map(lambda x: rsid_vari_dict[x])\n",
    "    df = df[df['P-value'].values < 5e-8]\n",
    "    df = df.reset_index(drop=True)\n",
    "    if header:\n",
    "        df.to_csv(merge_meta_fn,sep='\\t',index=False)\n",
    "        header=False\n",
    "    else:\n",
    "        df.to_csv(merge_meta_fn,sep='\\t',index=False,header=False,mode='a')"
   ]
  },
  {
   "cell_type": "markdown",
   "metadata": {},
   "source": [
    "#### annotate meta analysis"
   ]
  },
  {
   "cell_type": "code",
   "execution_count": 46,
   "metadata": {},
   "outputs": [],
   "source": [
    "# annotate meta analysis\n",
    "def anno_meta_line(snp, tabix_dict):\n",
    "    chrom,pos = snp.split(':')[:2]\n",
    "    pos = int(pos)\n",
    "    tb = tabix_dict['chr' + chrom]\n",
    "    records = tb.query(chrom, pos, pos+1)\n",
    "    for record in records:\n",
    "        return pd.Series([record[6],record[3], record[4],record[11],record[10]])\n",
    "sig_meta_df = pd.read_csv(merge_meta_fn,sep='\\t',header=0)\n",
    "sig_meta_df[['rsid','Consequence','near_gene','near_50Kgene','CADD']] = \\\n",
    "            sig_meta_df.apply(lambda x:anno_meta_line(x['SNP'],tabix_dict),axis=1)\n",
    "sig_merge_meta_fn = merge_meta_fn.split('.')[0] + '.sig.tsv'\n",
    "sig_meta_df['with?'] = sig_meta_df['Direction'].map(lambda x: x.count('?'))\n",
    "sig_meta_df = sig_meta_df.sort_values(['with?','P-value'])\n",
    "sig_meta_df.to_csv(sig_merge_meta_fn, sep='\\t', index=False)"
   ]
  },
  {
   "cell_type": "code",
   "execution_count": 104,
   "metadata": {},
   "outputs": [
    {
     "data": {
      "text/plain": [
       "14    3294\n",
       "0      279\n",
       "13     170\n",
       "12      28\n",
       "8       25\n",
       "11       7\n",
       "9        4\n",
       "10       3\n",
       "Name: with?, dtype: int64"
      ]
     },
     "execution_count": 104,
     "metadata": {},
     "output_type": "execute_result"
    }
   ],
   "source": [
    "sig_meta_df['with?'].value_counts()"
   ]
  },
  {
   "cell_type": "code",
   "execution_count": null,
   "metadata": {},
   "outputs": [],
   "source": [
    "# # qq plot of meta analysis\n",
    "# qq_code = '/home/lis262/Code/Scripts/tumor_microenvironment/utils/m11_qqplot.R'\n",
    "# meta_path = work_path + '/f06_meta_qtl'\n",
    "# analyze_path = meta_path + '/' + name\n",
    "# print('analyze cancer',analyze_path.split('/')[-1])\n",
    "# meta_files = sorted(glob.glob(analyze_path+'/*{r}*.txt'.format(r=race)))"
   ]
  },
  {
   "cell_type": "code",
   "execution_count": 34,
   "metadata": {
    "scrolled": true
   },
   "outputs": [],
   "source": [
    "# positive control plot qq plot\n",
    "# brca_ov_path = '/hpc/grid/wip_drm_targetsciences/users/shangzhong/tumor/postive_control/f06_meta_qtl'\n",
    "# brca_ov_meta_path = brca_ov_path + '/brca_ov_meta'\n",
    "# brca_ov_qq_path = brca_ov_path + '/brca_ov_qqplot'\n",
    "# if not os.path.exists(brca_ov_qq_path):\n",
    "#     os.mkdir(brca_ov_qq_path)\n",
    "# rcode = '~/Code/Scripts/tumor_microenvironment/utils/m11_qqplot.R'\n",
    "\n",
    "# fns = glob.glob(brca_ov_meta_path + '/*eur1.txt')\n",
    "# for fn in fns:\n",
    "#     out = brca_ov_qq_path + '/' + fn.split('/')[-1][:-3] + 'png'\n",
    "#     log = brca_ov_qq_path + '/' + fn.split('/')[-1][:-3] + 'log'\n",
    "#     cmd = ('bsub -M 11457280 -o {log} \\\"Rscript {r} {in_f} {out}\\\"').format(\n",
    "#                         log=log,r=rcode,in_f=fn,out=out)\n",
    "#     print(cmd)\n",
    "# #     os.system(cmd)"
   ]
  },
  {
   "cell_type": "markdown",
   "metadata": {},
   "source": [
    "#### CLUMP META results"
   ]
  },
  {
   "cell_type": "code",
   "execution_count": 47,
   "metadata": {
    "scrolled": true
   },
   "outputs": [
    {
     "name": "stdout",
     "output_type": "stream",
     "text": [
      "clump cancer epithelial_meta all\n"
     ]
    }
   ],
   "source": [
    "# meta clump path\n",
    "meta_clump_path = work_path + '/f07_meta_clump'\n",
    "if not os.path.exists(meta_clump_path):\n",
    "        os.mkdir(meta_clump_path)\n",
    "plink = '/hpc/grid/wip_drm_targetsciences/users/shangzhong/tumor/software/plink'\n",
    "kg1_ref = '/hpc/grid/hgcb/workspace/projects/P002_reference_information/plink/EUR_1000G_HapMap2plus3_Final'\n",
    "# get files before clump\n",
    "meta_path = work_path + '/f06_meta_qtl'\n",
    "analyze_path = meta_path + '/' + name\n",
    "print('clump cancer',analyze_path.split('/')[-1],race)\n",
    "meta_files = sorted(glob.glob(analyze_path+'/*{r}*.txt'.format(r=race)))\n",
    "# out put clump files\n",
    "out_path = meta_clump_path + '/' + name\n",
    "if not os.path.exists(out_path):\n",
    "    os.mkdir(out_path)\n",
    "\n",
    "for meta in meta_files:\n",
    "    out_fn = out_path + '/' + meta.split('/')[-1]\n",
    "    log = out_fn + '.bsub.log'\n",
    "    cmd = ('bsub -o {log} -q short -R \\\"select[hname!=amrndhl1296]\\\" \\\n",
    "           \\\"{plink}  \\\n",
    "           --bfile {ref} --clump {qtl} --clump-snp-field MarkerName \\\n",
    "               --clump-field P-value \\\n",
    "               --clump-p1 5e-8 --clump-p2 1 --clump-r2 0.2 --clump-kb 250 \\\n",
    "               --out {out}\\\"').format(log=log,\n",
    "                    plink=plink,ref=kg1_ref,qtl=meta,out=out_fn[:-5])\n",
    "    os.system(cmd)\n",
    "#     print(cmd)"
   ]
  },
  {
   "cell_type": "markdown",
   "metadata": {},
   "source": [
    "#### Merge CLUMP META results"
   ]
  },
  {
   "cell_type": "code",
   "execution_count": 48,
   "metadata": {},
   "outputs": [],
   "source": [
    "out_path = meta_clump_path + '/' + name\n",
    "meta_clump_files = sorted(glob.glob(out_path + '/*{r}.clumped'.format(r=race)))\n",
    "merge_meta_clump_fn = meta_clump_path + '/' + name + '_' + race + '_clump.tsv'\n",
    "header = True\n",
    "for meta in meta_clump_files:\n",
    "    cell = '_'.join(meta.split('/')[-1].split('_')[:-2])\n",
    "    df = pd.read_csv(meta,delim_whitespace=True,header=0)\n",
    "    df['cell'] = pd.Series([cell] * df.shape[0])\n",
    "    df['Marker'] = df['SNP'].map(lambda x: rsid_vari_dict[x])\n",
    "    if header:\n",
    "        df.to_csv(merge_meta_clump_fn,sep='\\t',index=False,header=True)\n",
    "        header = False\n",
    "    else:\n",
    "        df.to_csv(merge_meta_clump_fn,sep='\\t',index=False,header=False,mode='a')\n",
    "\n",
    "meta_clump_df = pd.read_csv(merge_meta_clump_fn,delim_whitespace=True)"
   ]
  },
  {
   "cell_type": "markdown",
   "metadata": {},
   "source": [
    "#### annotate clumped meta results"
   ]
  },
  {
   "cell_type": "code",
   "execution_count": 49,
   "metadata": {},
   "outputs": [],
   "source": [
    "def anno_clump_line(row, tabix_dict):\n",
    "    chrom = str(row['CHR'])\n",
    "    pos = int(row['BP'])\n",
    "    tb = tabix_dict['chr' + chrom]\n",
    "    records =tb.query(chrom, pos, pos+1)\n",
    "    for record in records:\n",
    "        return pd.Series([record[3], record[4],record[11],record[10]])\n",
    "\n",
    "meta_clump_df[['Consequence','near_gene','near_50Kgene','CADD']] = \\\n",
    "    meta_clump_df.apply(lambda row: anno_clump_line(row, tabix_dict),axis=1)\n",
    "# add direction\n",
    "merge_meta_fn = meta_path+'/'+name+'_'+race+'.sig.tsv'\n",
    "dfs = pd.read_csv(merge_meta_fn,sep='\\t',header=0)\n",
    "rsid_dir_dict = dfs.set_index('MarkerName')['Direction'].to_dict()\n",
    "meta_clump_df['Direction'] = meta_clump_df['SNP'].map(lambda x: rsid_dir_dict[x])\n",
    "meta_clump_df['with?'] = meta_clump_df['Direction'].map(lambda x: x.count('?'))\n",
    "meta_clump_df = meta_clump_df.sort_values('P')\n",
    "meta_clump_df.to_csv(merge_meta_clump_fn,sep='\\t',index=False)"
   ]
  },
  {
   "cell_type": "code",
   "execution_count": 25,
   "metadata": {
    "scrolled": true
   },
   "outputs": [
    {
     "data": {
      "text/plain": [
       "natural_killer_cell_epithelial                                     9\n",
       "mature_natural_killer_cell_epithelial                              7\n",
       "effector_memory_CD8.positive._alpha.beta_T_cell_epithelial         2\n",
       "regulatory_T_cell_epithelial                                       2\n",
       "mesenchymal_cell_epithelial                                        1\n",
       "stromal_cell_epithelial                                            1\n",
       "T.helper_1_cell_epithelial                                         1\n",
       "granulocyte_epithelial                                             1\n",
       "alternatively_activated_macrophage_epithelial                      1\n",
       "naive_thymus.derived_CD8.positive._alpha.beta_T_cell_epithelial    1\n",
       "plasma_cell_epithelial                                             1\n",
       "Name: cell, dtype: int64"
      ]
     },
     "execution_count": 25,
     "metadata": {},
     "output_type": "execute_result"
    }
   ],
   "source": [
    "meta_clump_df['cell'].value_counts()"
   ]
  },
  {
   "cell_type": "markdown",
   "metadata": {},
   "source": [
    "### Coloc of TCGA with 23andme\n",
    "Generate the command to run"
   ]
  },
  {
   "cell_type": "code",
   "execution_count": 74,
   "metadata": {
    "scrolled": true
   },
   "outputs": [],
   "source": [
    "# run coloc \n",
    "def generate_coloc_cmd(coloc_path, qtl_res_fn, race, analyze_type, meta_name):\n",
    "    work_path = os.path.dirname(coloc_path)\n",
    "    df = pd.read_csv(qtl_res_fn,sep='\\t',header=0)\n",
    "    if analyze_type == 'meta':\n",
    "        df = df[df['with?'].values < 13]\n",
    "        df = df.reset_index(drop=True)\n",
    "    else:\n",
    "#         df = df.query('cancer != \"THYM\"')\n",
    "        pass\n",
    "    cmd_fn = coloc_path + '/'+ race +'_cmd.sh'\n",
    "    with open(cmd_fn,'w') as out_f:\n",
    "        for idx,row in df.iterrows():\n",
    "            if analyze_type == 'meta':\n",
    "                cell = '_'.join(row['cell'].split('_')[:-1]) # for meta analysis\n",
    "                snp = row['SNP'] # for meta analysis\n",
    "                out = coloc_path + '/'+cell+'_'+snp+'_'+race\n",
    "                cmd = 'bsub -o {out}.log -M 1000000 \\\n",
    "                 \\\"python ~/Code/Scripts/tumor_microenvironment/f04_wrap_coloc_meta.py -s {s} \\\n",
    "                 -n {n}  -c {c} -d {d} \\\n",
    "                 -r {r}\\\"'.format(out=out,s=snp,c=cell,d=work_path,r=race,n=meta_name)\n",
    "            elif analyze_type == 'single':\n",
    "                cell = row['cell']\n",
    "                snp = row['SNP'] # for single cancer\n",
    "                cancer = row['cancer'] # for single cancer\n",
    "                cancer_path = coloc_path + '/' + cancer\n",
    "                if not os.path.exists(cancer_path):\n",
    "                    os.mkdir(cancer_path)\n",
    "                out = '{p}/{c}_{cell}_{s}_{r}'.format(p=coloc_path,c=cancer,cell=cell,\n",
    "                                s='_'.join(snp.split(':')),r=race)\n",
    "                cmd = 'bsub -o {out}.log -M 1000000 \\\n",
    "                 \\\"python ~/Code/Scripts/tumor_microenvironment/f05_wrap_coloc_single_cancer.py \\\n",
    "                 -s {s} -n {n} -d {d} \\\n",
    "                 -c {c}  -r {r}\\\"'.format(out=out,n=cancer,d=work_path,s=snp,c=cell,r=race)\n",
    "            out_f.write(cmd + '\\n')\n",
    "    os.system('chmod 755 ' + cmd_fn)\n",
    "#### run coloc in meta mode\n",
    "name = 'epithelial_meta'\n",
    "\n",
    "coloc_path = work_path + '/f08_coloc_meta'\n",
    "if not os.path.exists(coloc_path):\n",
    "    os.mkdir(coloc_path)\n",
    "name_path = coloc_path + '/' + name\n",
    "if not os.path.exists(name_path):\n",
    "    os.mkdir(name_path)\n",
    "# meta_clump_path = work_path + '/f07_meta_clump/'\n",
    "# merge_meta_clump_fn = meta_clump_path + '/' + name + '_eur_clump.tsv'\n",
    "# generate_coloc_cmd(coloc_path, merge_meta_clump_fn, 'eur', 'meta', name)\n",
    "# merge_meta_clump_fn = meta_clump_path + '/' + name + '_all_clump.tsv'\n",
    "# generate_coloc_cmd(coloc_path, merge_meta_clump_fn, 'all', 'meta', name)\n",
    "\n",
    "#### run coloc for single cancer\n",
    "coloc_path = work_path + '/f09_coloc_single_cancer'\n",
    "if not os.path.exists(coloc_path):\n",
    "    os.mkdir(coloc_path)\n",
    "name_path = coloc_path + '/' + name\n",
    "\n",
    "clump_path = work_path + '/f05_clump'\n",
    "qtl_res_fn = clump_path + '/r06_eur_clmpTCGA_anno.tsv'\n",
    "generate_coloc_cmd(coloc_path, qtl_res_fn, 'eur', 'single', name)\n",
    "qtl_res_fn = clump_path + '/r07_all_clmpTCGA_anno.tsv'\n",
    "generate_coloc_cmd(coloc_path, qtl_res_fn, 'all', 'single', name)"
   ]
  },
  {
   "cell_type": "code",
   "execution_count": 79,
   "metadata": {},
   "outputs": [],
   "source": [
    "def rerun_failed_coloc(coloc_path):\n",
    "    '''get failed commands\n",
    "    '''\n",
    "    cmd_fn = glob.glob(coloc_path + '/*cmd.sh')[0]\n",
    "    raw_cmds = open(cmd_fn).readlines()\n",
    "    new_cmds = []\n",
    "    log_fns = glob.glob(coloc_path + '/*.log')\n",
    "    for log in log_fns:\n",
    "        suc = False\n",
    "        with open(log) as in_f:\n",
    "            for line in in_f:\n",
    "                if line.startswith('python '):\n",
    "                    cmd = line.strip()\n",
    "                if line.startswith('Successfully completed.'):\n",
    "                    suc = True\n",
    "                    os.remove(log)\n",
    "        if not suc:\n",
    "            new_cmds += [c for c in raw_cmds if cmd in c]\n",
    "#             os.remove(log)\n",
    "    with open(cmd_fn,'w') as out:\n",
    "        out.write(''.join(new_cmds))\n",
    "work_path = '/lustre/scratch/lis262/tumor/p04_cyto_norm_all_peer2step'\n",
    "coloc_path = work_path + '/f08_coloc_meta'\n",
    "rerun_failed_coloc(coloc_path)\n",
    "coloc_path = work_path + '/f09_coloc_single_cancer'\n",
    "rerun_failed_coloc(coloc_path)"
   ]
  },
  {
   "cell_type": "markdown",
   "metadata": {},
   "source": [
    "### Merge coloc results "
   ]
  },
  {
   "cell_type": "code",
   "execution_count": 68,
   "metadata": {},
   "outputs": [],
   "source": [
    "# merge the coloc results\n",
    "def merge_coloc_results(coloc_path, name, race):\n",
    "    '''mode: meta or single\n",
    "    '''\n",
    "    coloc_res_fns = sorted(glob.glob('{c}/{n}/*{r}*region.tsv'. \\\n",
    "                                format(c=coloc_path,n=name,r=race)))\n",
    "    out_fn = coloc_path+'/'+name+'_'+race+'.tsv'\n",
    "    with open(out_fn,'w') as out_h:\n",
    "        for fn in coloc_res_fns:\n",
    "            base_name = fn.split('/')[-1]\n",
    "            items = base_name.split('_')\n",
    "            dzz= items[0];\n",
    "            snp=items[-2]\n",
    "            cell = '_'.join(items[1:-3])\n",
    "            df = pd.read_csv(fn,sep='\\t',header=0)\n",
    "            score = round(df.loc['PP.H4.abf']['summary'],2)\n",
    "            if score > 0.5:\n",
    "                out_h.write('\\t'.join([dzz,snp,cell,str(score),race])+'\\n')\n",
    "def wrap_single_merge_coloc(coloc_path, race):\n",
    "    cancers = [f for f in sorted(glob.glob(coloc_path + '/*')) if os.path.isdir(f)]\n",
    "    for c in cancers:\n",
    "        can = c.split('/')[-1]\n",
    "        merge_coloc_results(coloc_path, can, race)\n",
    "        \n",
    "# work_path = '/lustre/scratch/lis262/tumor/p03_cyto_norm_eur_peer2step'\n",
    "# coloc_path = work_path + '/f08_coloc_meta'\n",
    "# name = 'epithelial_meta'\n",
    "# race = 'eur'\n",
    "\n",
    "# merge_coloc_results(coloc_path, name, race)\n",
    "\n",
    "race = 'eur'\n",
    "coloc_path = work_path + '/f09_coloc_single_cancer'\n",
    "wrap_single_merge_coloc(coloc_path, race)"
   ]
  },
  {
   "cell_type": "markdown",
   "metadata": {},
   "source": [
    "### Overlap with autoimmune significant hits sent by jasmine\n",
    "Strategy: for each qtl results, check the snps in autoimmune results \n",
    "that are close to it."
   ]
  },
  {
   "cell_type": "code",
   "execution_count": 27,
   "metadata": {},
   "outputs": [],
   "source": [
    "def build_tree_for_ai(ai_fn):\n",
    "    # this function build tree for autoimmune gwas results\n",
    "    ai_df = pd.read_csv(ai_fn,sep='\\t',header=0)\n",
    "    ai_df = ai_df[['Disease','IndexSNP_riskAllele','chr','pos']]\n",
    "    ai_df = ai_df.groupby(['Disease','IndexSNP_riskAllele','chr']).first()\n",
    "    ai_df = ai_df.reset_index(level=['Disease','IndexSNP_riskAllele','chr'])\n",
    "    chrom_snp_dict = {}\n",
    "    for idx, row in ai_df.iterrows():\n",
    "        chrom = str(row['chr'])\n",
    "        snp = row['IndexSNP_riskAllele']\n",
    "        pos = int(row['pos']) - 1\n",
    "        if chrom in chrom_snp_dict:\n",
    "            chrom_snp_dict[chrom][pos-5e4:pos+5e4] = [snp,pos]\n",
    "        else:\n",
    "            inter = IntervalTree()\n",
    "            inter[pos-5e5:pos+5e5] = [snp,pos]\n",
    "            chrom_snp_dict[chrom] = inter\n",
    "    return chrom_snp_dict\n",
    "\n",
    "def check_inter_snp_row(row,chrom_snp_dict):\n",
    "    '''this for each row of qtl results check all the autoimmune snps that\n",
    "    are within 1M windows\n",
    "    '''\n",
    "    chrom = 'chr' + str(row['CHR'])\n",
    "    pos = row['BP']\n",
    "    inter = sorted(chrom_snp_dict[chrom][pos])\n",
    "    if inter == []:\n",
    "        res = ['-','-']\n",
    "    else:\n",
    "        idx_snps = []\n",
    "        dist = []\n",
    "        for i in inter:\n",
    "            idx_snps.append(i[2][0])\n",
    "            dist.append(str(i[2][1] - pos))\n",
    "        res = [';'.join(idx_snps),';'.join(dist)]\n",
    "    return pd.Series(res)\n",
    "\n",
    "def qtl_overlap_other_snps(ai_fn, qtl_fn):\n",
    "    chrom_snp_dict = build_tree_for_ai(ai_fn)\n",
    "    qtl_df = pd.read_csv(qtl_fn,sep='\\t',header=0)\n",
    "    qtl_df[['ai_snp','dist']] = qtl_df.apply(lambda row: \\\n",
    "                        check_inter_snp_row(row,chrom_snp_dict),axis=1)\n",
    "    qtl_df = qtl_df.query('ai_snp != \"-\"')\n",
    "    return qtl_df"
   ]
  },
  {
   "cell_type": "code",
   "execution_count": 29,
   "metadata": {},
   "outputs": [],
   "source": [
    "path = '/hpc/grid/wip_drm_targetsciences/users/shangzhong/tumor'\n",
    "positive_ctrl_path = path + '/positive_control'\n",
    "ai_fn = positive_ctrl_path + '/AutoimmuneSNPs.tsv'\n",
    "# # norm eur \n",
    "qtl_fn = path + '/p01_cyto_norm_qtl/f05_clump/r06_eur_clmpTCGA_anno.tsv'\n",
    "qtl_df = qtl_overlap_other_snps(ai_fn, qtl_fn)\n",
    "qtl_df.to_csv(positive_ctrl_path+'/cyto_norm_eur_with_ai.tsv',sep='\\t',index=False)\n",
    "# norm all\n",
    "qtl_fn = path + '/p01_cyto_norm_qtl/f05_clump/r07_all_clmpTCGA_anno.tsv'\n",
    "qtl_df = qtl_overlap_other_snps(ai_fn, qtl_fn)\n",
    "qtl_df.to_csv(positive_ctrl_path+'/cyto_norm_all_with_ai.tsv',sep='\\t',index=False)\n",
    "# peer1step eur\n",
    "qtl_fn = path + '/p09_cyto_norm_2step_peer_qtl/f05_clump/r06_eur_clmpTCGA_anno.tsv'\n",
    "qtl_df = qtl_overlap_other_snps(ai_fn, qtl_fn)\n",
    "qtl_df.to_csv(positive_ctrl_path+'/cyto_peer_eur_with_ai.tsv',sep='\\t',index=False)\n",
    "qtl_fn = path + '/p09_cyto_norm_2step_peer_qtl/f05_clump/r07_all_clmpTCGA_anno.tsv'\n",
    "qtl_df = qtl_overlap_other_snps(ai_fn, qtl_fn)\n",
    "qtl_df.to_csv(positive_ctrl_path+'/cyto_peer_all_with_ai.tsv',sep='\\t',index=False)"
   ]
  },
  {
   "cell_type": "markdown",
   "metadata": {},
   "source": [
    "### Compare the QTL\n",
    "This is to compare significant hits between different methods"
   ]
  },
  {
   "cell_type": "code",
   "execution_count": 108,
   "metadata": {},
   "outputs": [],
   "source": [
    "res_path = '/hpc/grid/wip_drm_targetsciences/users/shangzhong/tumor'\n",
    "def get_eur_all_df(path):\n",
    "    work_path = path + '/f03_qtl'\n",
    "    eur_fn = work_path + '/r03_eur_tcga_QTL_anno.tsv'\n",
    "    eur_df = pd.read_csv(eur_fn,sep='\\t',header=0)\n",
    "    all_fn = work_path + '/r04_all_tcga_QTL_anno.tsv'\n",
    "    all_df = pd.read_csv(all_fn,sep='\\t',header=0)\n",
    "    return eur_df, all_df\n",
    "\n",
    "p01_cyto_norm_eur_df,p01_cyto_norm_all_df = get_eur_all_df(res_path+'/p01_cyto_norm_qtl')\n",
    "p08_cyto_norm_eur_df,p08_cyto_norm_all_df = get_eur_all_df(res_path+'/p08_cyto_norm_1step_peer_qtl')\n",
    "p03_cyto_norm_eur_df,p03_cyto_norm_all_df = get_eur_all_df(res_path+'/p03_cyto_log_qtl')\n",
    "p09_cyto_norm_eur_df,p09_cyto_norm_all_df = get_eur_all_df(res_path+'/p09_cyto_norm_2step_peer_qtl')"
   ]
  },
  {
   "cell_type": "code",
   "execution_count": 114,
   "metadata": {},
   "outputs": [],
   "source": [
    "# overlap between norm and purity\n",
    "def get_qtl_overlap(df1,df2):\n",
    "    cancers = sorted(df1['cancer'].unique().tolist())\n",
    "    numOverlapAssoc = []\n",
    "    obj1 = matrixQTL(df1)\n",
    "    obj2 = matrixQTL(df2)\n",
    "    qtl_merge_df = []\n",
    "    for cancer in cancers:\n",
    "        # 1. get shared association\n",
    "        obj1_df = obj1.getCancer(cancer)\n",
    "        obj2_df = obj2.getCancer(cancer)\n",
    "        merge_df = pd.merge(obj1_df, obj2_df, on=['SNP','cell','cancer'])\n",
    "        numOverlapAssoc.append(merge_df[['SNP','cell']].drop_duplicates().shape[0])\n",
    "        qtl_merge_df.append(pd.merge(obj1_df, obj2_df, on=['SNP','cell','cancer'],how='outer'))\n",
    "\n",
    "    stats1 = obj1.getStats()\n",
    "    stats2 = obj2.getStats()\n",
    "    merge_df = pd.merge(stats1, stats2, on='Cancer',how='outer')\n",
    "    merge_df['overlap_assoc'] = pd.Series(numOverlapAssoc)\n",
    "    qtl_merge_df = pd.concat(qtl_merge_df)\n",
    "    return merge_df, qtl_merge_df"
   ]
  },
  {
   "cell_type": "code",
   "execution_count": 155,
   "metadata": {},
   "outputs": [],
   "source": [
    "out_path = '/hpc/grid/wip_drm_targetsciences/users/shangzhong/tumor/qtl_cmp'\n",
    "# merge_df = get_qtl_overlap(p01_cyto_norm_eur_df,p08_cyto_norm_eur_df)\n",
    "# merge_df.to_csv(out_path + '/cyto_norm_vs_peer1step_eur.tsv',sep='\\t',index=False)\n",
    "# merge_df = get_qtl_overlap(p01_cyto_norm_all_df,p08_cyto_norm_all_df)\n",
    "# merge_df.to_csv(out_path + '/cyto_norm_vs_peer1step_all.tsv',sep='\\t',index=False)\n",
    "# merge_df = get_qtl_overlap(p03_cyto_norm_eur_df,p08_cyto_norm_eur_df)\n",
    "# merge_df.to_csv(out_path + '/cyto_log_vs_peer1step_eur.tsv',sep='\\t',index=False)\n",
    "# merge_df = get_qtl_overlap(p03_cyto_norm_all_df,p08_cyto_norm_all_df)\n",
    "# merge_df.to_csv(out_path + '/cyto_log_vs_peer1step_all.tsv',sep='\\t',index=False)\n",
    "eur_merge_df, eur_qtl_merge_df = get_qtl_overlap(p01_cyto_norm_eur_df,p09_cyto_norm_eur_df)\n",
    "# merge_df.to_csv(out_path + '/cyto_norm_vs_peer2step_eur.tsv',sep='\\t',index=False)\n",
    "eur_qtl_merge_df.to_csv(out_path + '/cyto_norm_vs_peer2step_eur_qtl.tsv',sep='\\t',index=False)\n",
    "all_merge_df,all_qtl_merge_df = get_qtl_overlap(p01_cyto_norm_all_df,p09_cyto_norm_all_df)\n",
    "# merge_df.to_csv(out_path + '/cyto_norm_vs_peer2step_all.tsv',sep='\\t',index=False)\n",
    "all_qtl_merge_df.to_csv(out_path + '/cyto_norm_vs_peer2step_all_qtl.tsv',sep='\\t',index=False)"
   ]
  },
  {
   "cell_type": "code",
   "execution_count": 187,
   "metadata": {},
   "outputs": [
    {
     "name": "stdout",
     "output_type": "stream",
     "text": [
      "there are 179 genes in eur norm\n",
      "there are 262 genes in all norm\n",
      "there are 383 genes in norm\n",
      "\n",
      "there are 176 genes in eur peer\n",
      "there are 247 genes in all peer\n",
      "there are 373 genes in peer\n",
      "\n",
      "there are 112 genes overlap in eur norm and peer\n",
      "there are 202 genes in overlap in all norm and peer\n",
      "there are 274 genes in overlap in all norm and peer\n"
     ]
    }
   ],
   "source": [
    "class merge_qtl():\n",
    "    def __init__(self, qtl_df):\n",
    "        self.df = qtl_df\n",
    "    \n",
    "    def get_nearest_genes(self,col):\n",
    "        '''col is column of the beta_x or beta_y'''\n",
    "        genes = self.df.query('beta_{c} == beta_{c}'.format(c=col)) \\\n",
    "                         ['near_gene_'+col].unique().tolist()\n",
    "        return genes\n",
    "    \n",
    "    def get_genes_50k(self,col):\n",
    "        '''col is column of the beta_x or beta_y'''\n",
    "        genes = self.df.query('beta_{c} == beta_{c}'.format(c=col)) \\\n",
    "                        ['near_50Kgene_'+col].unique().tolist()\n",
    "        genes_tolist = []\n",
    "        for g in genes:\n",
    "            genes_tolist.extend(g.split(';'))\n",
    "        genes_tolist = list(set(genes_tolist))\n",
    "        if '-' in genes_tolist:\n",
    "            genes_tolist.remove('-')\n",
    "        return genes_tolist\n",
    "    \n",
    "    def get_all_genes(self,col):\n",
    "        nearest = self.get_nearest_genes(col)\n",
    "        near_50k = self.get_genes_50k(col)\n",
    "        return list(set(nearest+near_50k))\n",
    "        \n",
    "    def get_overlap_neartes_genes(self):\n",
    "        genes1 = self.get_nearest_genes('x')\n",
    "        genes2 = self.get_nearest_genes('y')\n",
    "        overlap_genes = list(set(genes1).intersection(genes2))\n",
    "        return overlap_genes\n",
    "    \n",
    "    def get_overlap_neartes_genes(self):\n",
    "        genes1 = self.get_genes_50k('x')\n",
    "        genes2 = self.get_genes_50k('y')\n",
    "        overlap_genes = list(set(genes1).intersection(genes2))\n",
    "        return overlap_genes\n",
    "    \n",
    "    def get_overlap_all_genes(self):\n",
    "        genes1 = self.get_all_genes('x')\n",
    "        genes2 = self.get_all_genes('y')\n",
    "        overlap_genes = list(set(genes1).intersection(genes2))\n",
    "        return overlap_genes\n",
    "    \n",
    "# eur\n",
    "eur_merge_obj = merge_qtl(eur_qtl_merge_df)\n",
    "eur_norm_genes = eur_merge_obj.get_all_genes('x')\n",
    "eur_peer_genes = eur_merge_obj.get_all_genes('y')\n",
    "eur_overlap_genes = eur_merge_obj.get_overlap_all_genes()\n",
    "# all\n",
    "all_merge_obj = merge_qtl(all_qtl_merge_df)\n",
    "all_norm_genes = all_merge_obj.get_all_genes('x')\n",
    "all_peer_genes = all_merge_obj.get_all_genes('y')\n",
    "all_overlap_genes = all_merge_obj.get_overlap_all_genes()\n",
    "\n",
    "norm_genes = list(set(eur_norm_genes + all_norm_genes))\n",
    "peer_genes = list(set(eur_peer_genes + all_peer_genes))\n",
    "norm_peer_ovlp_genes = list(set(norm_genes).intersection(peer_genes))\n",
    "\n",
    "print('there are',len(eur_norm_genes),'genes in eur norm')\n",
    "print('there are',len(all_norm_genes),'genes in all norm')\n",
    "print('there are',len(norm_genes),'genes in norm\\n')\n",
    "\n",
    "print('there are',len(eur_peer_genes),'genes in eur peer')\n",
    "print('there are',len(all_peer_genes),'genes in all peer')\n",
    "print('there are',len(peer_genes),'genes in peer\\n')\n",
    "\n",
    "print('there are',len(eur_overlap_genes),'genes overlap in eur norm and peer')\n",
    "print('there are',len(all_overlap_genes),'genes in overlap in all norm and peer')\n",
    "print('there are',len(norm_peer_ovlp_genes),'genes in overlap in all norm and peer')"
   ]
  },
  {
   "cell_type": "markdown",
   "metadata": {},
   "source": [
    "### Do case control gwas"
   ]
  },
  {
   "cell_type": "code",
   "execution_count": 6,
   "metadata": {},
   "outputs": [],
   "source": [
    "#====== get samples to study\n",
    "cancer = 'BRCA'\n",
    "pp_cancer_dict = meta_df.set_index('bcr_patient_barcode')['type'].to_dict()\n",
    "clst_fn = '/hpc/grid/wip_drm_targetsciences/users/shangzhong/tumor/p06_cluster/cluster.txt'\n",
    "clst_df = pd.read_csv(clst_fn,sep='\\t',header=0)\n",
    "clst_df['id'] = clst_df['row_id'].map(lambda x:x.split(' ')[1]) \n",
    "clst_df['cancer'] = clst_df['id'].map(lambda x: pp_cancer_dict[x] if x in pp_cancer_dict else '-')\n",
    "clst_df.to_csv(clst_fn,sep='\\t',index=False)\n",
    "\n",
    "dplt_sps = clst_df.query('cancer == @cancer and Stratification == \"2\"')['id'].tolist()\n",
    "inft_sps = clst_df.query('cancer == @cancer and Stratification == \"3\"')['id'].tolist()\n",
    "samples = dplt_sps + inft_sps\n",
    "# overlap with full tcga sample id\n",
    "tcga_fam = '/lustre/scratch/lis262/tumor/p06_cluster/tcga.fam'\n",
    "tcga_fam_df = pd.read_csv(tcga_fam,sep=' ',header=None,names=['#FID','IID',1,2,3,4])\n",
    "tcga_fam_df['id'] = tcga_fam_df['#FID'].map(lambda x: '-'.join(x.split('-')[:3]))\n",
    "tcga_fam_df = tcga_fam_df.query('id in @samples')\n",
    "sp_fn = os.path.dirname(tcga_fam)+'/'+cancer+'_sample.txt'\n",
    "tcga_fam_df['IID'].to_csv(sp_fn,sep=' ',index=False,header=None)"
   ]
  },
  {
   "cell_type": "code",
   "execution_count": 7,
   "metadata": {},
   "outputs": [],
   "source": [
    "# prepare plink format\n",
    "plink2 = '/hpc/grid/wip_drm_targetsciences/users/shangzhong/tumor/software/plink2'\n",
    "raw_path = '/hpc/grid/wip_drm_targetsciences/projects/TCGA/SNP-Array/IMPUTE'\n",
    "run_path = path + '/p06_cluster'\n",
    "plink_path = run_path + '/plink'\n",
    "if not os.path.exists(plink_path):\n",
    "    os.mkdir(plink_path)\n",
    "plink_fns = []\n",
    "for i in range(1,23):\n",
    "    dose_fn = raw_path + '/chr{i}.dose.vcf.gz'.format(i=str(i))\n",
    "    out = plink_path + '/' + dose_fn.split('/')[-1][:-7]\n",
    "    plink_fns.append(out)\n",
    "    log = plink_path + '/chr' + str(i) + '.log'\n",
    "    cmd = ('bsub -M 1500000 -o {log} \\\"{p} --vcf {v} dosage=DS --extract-if-info \\'R2 >= 0.3\\' \\\n",
    "         --make-pgen --keep {s} --out {o}\\\"').format(log=log,p=plink2,\n",
    "                                            v=dose_fn,s=sp_fn,o=out)\n",
    "#     os.system(cmd)\n",
    "#     print(cmd)"
   ]
  },
  {
   "cell_type": "code",
   "execution_count": 22,
   "metadata": {},
   "outputs": [
    {
     "name": "stdout",
     "output_type": "stream",
     "text": [
      "924 samples have covariate info\n"
     ]
    }
   ],
   "source": [
    "# covariation files\n",
    "id_fid_dict = tcga_fam_df.set_index('id')['IID'].to_dict()\n",
    "covari_fn = path + '/f02_covariates.tsv'\n",
    "covari_df = pd.read_csv(covari_fn,sep='\\t',header=0,index_col=0)\n",
    "covari_df = covari_df[covari_df.index.isin(samples)]\n",
    "covari_samples = covari_df.index.tolist()\n",
    "print(len(covari_samples),'samples have covariate info')\n",
    "covari_df.index.name = 'covariate'\n",
    "if covari_df['gender'].tolist().count(1) in \\\n",
    "         [0,covari_df.shape[0] - covari_df['gender'].isna().sum()]:\n",
    "    covari_df = covari_df.drop('gender')\n",
    "columns = covari_df.columns.to_list()\n",
    "covari_df['FID'] = covari_df.index.map(lambda x:id_fid_dict[x])\n",
    "covari_df['IID'] = covari_df['FID']\n",
    "covari_df['pheno'] = covari_df.index.map(lambda x:'1' if x in dplt_sps else '2')\n",
    "covari_fn = run_path + '/pheno.txt'\n",
    "covari_df[['IID']+columns+['pheno']].to_csv(covari_fn,sep='\\t',index=False)"
   ]
  },
  {
   "cell_type": "code",
   "execution_count": 30,
   "metadata": {},
   "outputs": [],
   "source": [
    "# run plink\n",
    "plink_res_path = run_path + '/plink_res'\n",
    "if not os.path.exists(plink_res_path):\n",
    "    os.mkdir(plink_res_path)\n",
    "for i in range(2,23):\n",
    "    pfile = plink_path + '/chr{i}.dose'.format(i=str(i))\n",
    "    log = plink_res_path + '/chr{i}.log'.format(i=str(i))\n",
    "    cmd = ('bsub -q short -M 1000000 -o {log} \\\"{p} --pfile {pf} \\\n",
    "           --glm --pheno {pheno} --pheno-name pheno \\\n",
    "           --covar-name PC1,PC2,PC3,PC4,gender,age --covar-variance-standardize \\\n",
    "           --out {out}/chr{i}\\\"').format(log=log, p=plink2,pf=pfile,\n",
    "                                pheno=covari_fn,out=plink_res_path,i=str(i))\n",
    "#     print(cmd)\n",
    "#     os.system(cmd)"
   ]
  },
  {
   "cell_type": "code",
   "execution_count": null,
   "metadata": {},
   "outputs": [],
   "source": [
    "# get results of case control study\n",
    "fns = sorted(glob.glob(plink_res_path + '/*.hybrid'))\n",
    "merge_fn = run_path + '/gwas_res.txt'\n",
    "head = True\n",
    "for fn in fns:\n",
    "    df = pd.read_csv(fn,sep='\\t',header=0)\n",
    "    df = df.query('TEST == \"ADD\" and P < 5e-8')\n",
    "    if head:\n",
    "        df.to_csv(merge_fn,sep='\\t',index=False)\n",
    "    else:\n",
    "        df.to_csv(merge_fn,sep='\\t',index=False,header=False,mode='a')"
   ]
  },
  {
   "cell_type": "markdown",
   "metadata": {},
   "source": [
    "#### TCGA eQTL"
   ]
  },
  {
   "cell_type": "code",
   "execution_count": 46,
   "metadata": {},
   "outputs": [],
   "source": [
    "# download TCGA eQTL results\n",
    "cancers = ['ACC','BLCA','BRCA','CESC','CHOL','COAD',\n",
    "            'ESCA','HNSC','KICH','KIRC','KIRP','LIHC',\n",
    "            'LUAD','LUSC','MESO','OV','PAAD','PRAD',\n",
    "            'READ','SKCM','STAD','THCA','THYM','UCEC']\n",
    "for c in cancers:\n",
    "    cmd = ('wget http://gong_lab.hzau.edu.cn/PancanQTL/static/download/{c}_tumor.cis_eQTL.xls'.format(\n",
    "            c=c))\n",
    "#     os.system(cmd)\n",
    "    cmd = ('wget http://gong_lab.hzau.edu.cn/PancanQTL/static/download/{c}_tumor.trans_eQTL.xls'.format(\n",
    "            c=c))\n",
    "#     os.system(cmd)"
   ]
  },
  {
   "cell_type": "code",
   "execution_count": 30,
   "metadata": {},
   "outputs": [
    {
     "name": "stderr",
     "output_type": "stream",
     "text": [
      "/hpc/grid/wip_drm_targetsciences/users/shangzhong/.conda/envs/hail/lib/python3.7/site-packages/IPython/core/interactiveshell.py:3156: DtypeWarning: Columns (2) have mixed types.Specify dtype option on import or set low_memory=False.\n",
      "  interactivity=interactivity, compiler=compiler, result=result)\n"
     ]
    }
   ],
   "source": [
    "eqtl_path = '/hpc/grid/wip_drm_targetsciences/users/shangzhong/tumor/p07_tcga_eQTL'\n",
    "columns = ['marker','chr','pos','allel','gene','SNP']\n",
    "cis_fn = eqtl_path + '/cis.txt'\n",
    "cis_df = pd.read_csv(cis_fn,header=0,sep='\\t',names=columns)\n",
    "trans_fn = eqtl_path + '/trans.txt'\n",
    "trans_df = pd.read_csv(trans_fn,header=0,sep='\\t',names=columns)"
   ]
  },
  {
   "cell_type": "code",
   "execution_count": 90,
   "metadata": {},
   "outputs": [],
   "source": [
    "qtl_fn = f'{work_path}/f05_clump/r07_all_clmpTCGA_anno.tsv'\n",
    "qtl_df = pd.read_csv(qtl_fn,sep='\\t',header=0)\n",
    "qtl_df = qtl_df[['CHR','SNP','BP','P','cancer','cell','Consequence','near_gene','CADD']]\n",
    "\n",
    "cis_merge = pd.merge(qtl_df,cis_df,how='inner',left_on='SNP',right_on='marker')\n",
    "trans_merge = pd.merge(qtl_df,trans_df,how='inner',left_on='SNP',right_on='marker')\n",
    "\n",
    "cis_merge.to_csv(f'{path}/p07_tcga_eQTL/cis_merge_with2peer_all.tsv',\n",
    "                sep='\\t',index=False)"
   ]
  },
  {
   "cell_type": "markdown",
   "metadata": {},
   "source": [
    "### overlap with eQTL catalog"
   ]
  },
  {
   "cell_type": "code",
   "execution_count": null,
   "metadata": {
    "scrolled": true
   },
   "outputs": [],
   "source": [
    "# overlap with eqtl catalog, take long time\n",
    "import requests, sys\n",
    "def get_eqtl_catalog(rsid, columns):\n",
    "#     rsid = 'rs200141179'\n",
    "    server = \"https://www.ebi.ac.uk\"\n",
    "    ext = \"/eqtl/api/associations?variant_id=\" + rsid\n",
    "\n",
    "    r = requests.get(server+ext, headers={ \"Content-Type\" : \"application/json\"})\n",
    "\n",
    "    if not r.ok:\n",
    "      r.raise_for_status()\n",
    "      sys.exit()\n",
    "\n",
    "    decoded = r.json()\n",
    "    \n",
    "    lines = []\n",
    "    for idx, row in decoded['_embedded']['associations'].items():\n",
    "        items = [str(row[c]) for c in columns]\n",
    "        lines.append(items)\n",
    "    return lines\n",
    "\n",
    "def overlap_with_eqtl_catalog(tcga_qtl_fn, out_fn):\n",
    "    clump_df = pd.read_csv(tcga_qtl_fn,header=0,delim_whitespace=True)\n",
    "    catalog_columns = ['chromosome','position','ref','alt','rsid','gene_id',\\\n",
    "               'beta','pvalue','maf','qtl_group','study_id']\n",
    "    with open(out_fn,'w') as out:\n",
    "        clump_columns = ['CHR','BP','P','cancer','cell','Consequence',\n",
    "                         'near_gene','near_50Kgene','CADD']\n",
    "        out.write('\\t'.join(clump_columns+catalog_columns) + '\\n')\n",
    "        for idx, row in clump_df.iterrows():\n",
    "            rsid = row['marker']\n",
    "            lines = get_eqtl_catalog(rsid,catalog_columns)\n",
    "            for line in lines:\n",
    "                out_line = [str(row[c]) for c in clump_columns] + line\n",
    "                out.write('\\t'.join(out_line) + '\\n')\n",
    "    catalog_df = pd.read_csv(out_fn, sep='\\t',header=0)\n",
    "    catalog_df = catalog_df.query('pvalue < 5e-6')\n",
    "    catalog_df.to_csv(out_fn,sep='\\t',index=False)\n",
    "    \n",
    "clump_path = work_path + '/f05_clump'\n",
    "eur_clump_fn = clump_path + '/r06_eur_clmpTCGA_anno.tsv'\n",
    "eur_catalog_fn = clump_path + '/r08_eur_clmpCatalog.tsv'\n",
    "overlap_with_eqtl_catalog(eur_clump_fn, eur_catalog_fn)"
   ]
  },
  {
   "cell_type": "markdown",
   "metadata": {},
   "source": [
    "# Merge all evidences for TME qtl genes"
   ]
  },
  {
   "cell_type": "code",
   "execution_count": 57,
   "metadata": {
    "scrolled": true
   },
   "outputs": [],
   "source": [
    "# download the data with tier level for each gene\n",
    "gene_level_path = work_path + '/f14_gene_level'\n",
    "os.makedirs(gene_level_path,exist_ok=True)\n",
    "\n",
    "tier_fn = gene_level_path + '/new_tier_genes.tsv'\n",
    "tier_df = pd.read_csv(tier_fn,sep='\\t',header=0)"
   ]
  },
  {
   "cell_type": "code",
   "execution_count": 58,
   "metadata": {},
   "outputs": [],
   "source": [
    "def gene_clump_from_snp_clump(clump_qtl_fn, gene_clump_qtl_fn):\n",
    "    clump_qtl_df = pd.read_csv(clump_qtl_fn,sep='\\t',header=0)\n",
    "    clump_qtl_df['qtl_score'] = -np.log10(clump_qtl_df['P'])\n",
    "    max_log = clump_qtl_df['qtl_score'].max()\n",
    "    min_log = clump_qtl_df['qtl_score'].min()\n",
    "    clump_qtl_df['qtl_score'] = (clump_qtl_df['qtl_score'] - min_log) / (max_log - min_log)\n",
    "    gene_info_dict = {}\n",
    "    for idx, row in clump_qtl_df.iterrows():\n",
    "        try:\n",
    "            genes = [row['near_gene']] + row['near_50Kgene'].split(';')\n",
    "            genes = list(set(genes))\n",
    "            if '-' in genes:\n",
    "                genes.remove('-')\n",
    "            for gene in genes:\n",
    "                gene_info_dict.setdefault(gene,[[] for i in range(8)])\n",
    "                gene_info_dict[gene][0].append(row['marker'])\n",
    "                gene_info_dict[gene][1].append(row['cancer'])\n",
    "                gene_info_dict[gene][2].append(str(row['CADD']))            \n",
    "                gene_info_dict[gene][3].append(row['survival_count'])\n",
    "                gene_info_dict[gene][4].append(str(row['survival_pval']))\n",
    "                gene_info_dict[gene][5].append(row['survival'])\n",
    "                gene_info_dict[gene][6].append(row['cell'])\n",
    "                gene_info_dict[gene][7].append(str(row['qtl_score']))\n",
    "        except:\n",
    "            continue\n",
    "\n",
    "    for k,v in gene_info_dict.items():\n",
    "        values = [';'.join(i) for i in v]\n",
    "        gene_info_dict[k] = values\n",
    "\n",
    "    columns = ['rsid','cancer','CADD','survival_count','survival_pval',\n",
    "               'survival_sig','cyto_cell','qtl_score']\n",
    "    clump_qtl_df = pd.DataFrame.from_dict(gene_info_dict,orient='index',columns=columns)\n",
    "    clump_qtl_df.index.name = 'Gene'\n",
    "    clump_qtl_df.to_csv(gene_clump_qtl_fn,sep='\\t')\n",
    "    return clump_qtl_df\n",
    "\n",
    "# eur transfer\n",
    "clump_qtl_fn = work_path + '/f13_survival/r06_eur_clmpTCGA_anno.tsv'\n",
    "gene_clump_qtl_fn = work_path + '/f13_survival/eur_gene_clmpTCGA_anno.tsv'\n",
    "clump_qtl_df = gene_clump_from_snp_clump(clump_qtl_fn, gene_clump_qtl_fn)\n",
    "# all trasfer\n",
    "clump_qtl_fn = work_path + '/f13_survival/r07_all_clmpTCGA_anno.tsv'\n",
    "gene_clump_qtl_fn = work_path + '/f13_survival/all_gene_clmpTCGA_anno.tsv'\n",
    "clump_qtl_df = gene_clump_from_snp_clump(clump_qtl_fn, gene_clump_qtl_fn)"
   ]
  },
  {
   "cell_type": "code",
   "execution_count": 59,
   "metadata": {
    "scrolled": true
   },
   "outputs": [],
   "source": [
    "tier_df = pd.merge(tier_df,clump_qtl_df,how='outer',left_on='Gene',right_index=True)\n",
    "# tier_df[['rsid','cancer','CADD','survival_count','survival_pval','survival']] = \\\n",
    "#                   tier_df.apply(lambda x:\n",
    "#                   pd.Series(gene_info_dict[x['Gene']]) if x['Gene'] in gene_info_dict \\\n",
    "#                                 else pd.Series(['-','-','-']),axis=1)"
   ]
  },
  {
   "cell_type": "code",
   "execution_count": 60,
   "metadata": {
    "scrolled": true
   },
   "outputs": [],
   "source": [
    "# scrna data\n",
    "def get_expressed_cells(row):\n",
    "    genes = row[row > 0].index.tolist()\n",
    "    if genes == []:\n",
    "        return '-'\n",
    "    else:\n",
    "        return ';'.join(genes)\n",
    "    \n",
    "def get_first_two_cell_lines(row):\n",
    "    row = row[:-1]\n",
    "    snd,fst = row.sort_values()[-2:].index.tolist()\n",
    "    return pd.Series([fst,snd])\n",
    "\n",
    "def rank_cell_by_expression(row, cell_dic):\n",
    "    ctypes = row[row>0].sort_values(ascending=False).index.tolist()\n",
    "    main_ctypes = []\n",
    "    for c in ctypes:\n",
    "        main_c = cell_dic[c]\n",
    "        if main_c not in main_ctypes:\n",
    "            main_ctypes.append(main_c)\n",
    "    return ';'.join(main_ctypes)\n",
    "\n",
    "def filter_order_gene(row,order_dic):\n",
    "    gene = row['Gene']\n",
    "    ctypes = row['scRNA_cell'].split(';')\n",
    "    if gene not in order_dic:\n",
    "        return '-'\n",
    "    else:\n",
    "        order_genes = order_dic[gene].split(';')\n",
    "        res = []\n",
    "        for c in order_genes:\n",
    "            if c in ctypes:\n",
    "                res.append(c)\n",
    "        if res == []:\n",
    "            return '-'\n",
    "        else:\n",
    "            return ';'.join(res)\n",
    "        \n",
    "    \n",
    "# build dic from cell to main cell lineage\n",
    "cell2main_fn = gene_level_path + '/cell2maincell.txt'\n",
    "cell2main_df = pd.read_csv(cell2main_fn,sep='\\t',header=None)\n",
    "cell2main_dic = cell2main_df.set_index(0)[1].to_dict()\n",
    "    \n",
    "scrna_fn = gene_level_path + '/scRNA.tsv'\n",
    "scrna_df = pd.read_csv(scrna_fn,sep='\\t',header=0,index_col=0)\n",
    "scrna_df['cells'] = scrna_df.apply(lambda x:get_expressed_cells(x),axis=1)\n",
    "\n",
    "scrna_cell_dic = scrna_df['cells'].to_dict()\n",
    "tier_df['scRNA_cell'] = tier_df['Gene'].map(lambda x: scrna_cell_dic[x] \n",
    "                        if x in scrna_cell_dic else '-')\n",
    "scrna_full_fn = gene_level_path + '/qian.cellres.2020.pan.cancer.scrna.avg.wts.AveExp.tsv'\n",
    "scrna_full_df = pd.read_csv(scrna_full_fn,sep='\\t',header=0,index_col=0)\n",
    "scrna_full_df = scrna_full_df[scrna_full_df.sum(axis=1) > 0]\n",
    "scrna_full_df['scRNA_cell_order'] = scrna_full_df.apply(lambda x:\n",
    "                            rank_cell_by_expression(x,cell2main_dic),axis=1)\n",
    "order_dic = scrna_full_df['scRNA_cell_order'].to_dict()\n",
    "# tier_df['scRNA_cell_order'] = tier_df['Gene'].map(lambda x:order_dic[x] if x in order_dic else '-')\n",
    "tier_df['scRNA_cell'] = tier_df.apply(lambda x:filter_order_gene(x,order_dic),axis=1)\n",
    "tier_df['scRNA_first_cell'] = tier_df['scRNA_cell'].map(lambda x:x.split(';')[0] \n",
    "                            if len(x.split(';')) >= 1 else '-')\n",
    "tier_df['scRNA_second_cell'] = tier_df['scRNA_cell'].map(lambda x:x.split(';')[1] \n",
    "                            if len(x.split(';')) >= 2 else '-')"
   ]
  },
  {
   "cell_type": "markdown",
   "metadata": {},
   "source": [
    "## Merge TCGA cis eQTL"
   ]
  },
  {
   "cell_type": "code",
   "execution_count": 61,
   "metadata": {},
   "outputs": [],
   "source": [
    "# integrate tcga cis eQTL\n",
    "cis_eqtl_fn = path + '/p07_tcga_eQTL/cis.txt'\n",
    "cis_eqtl_df = pd.read_csv(cis_eqtl_fn,sep='\\t',header=0,low_memory=False)\n",
    "rsid_gene_dic = cis_eqtl_df.set_index('eQTLs')['egenes'].to_dict()\n",
    "del cis_eqtl_df\n",
    "\n",
    "# tcga cis eQTL\n",
    "def add_tcga_eqtl(rsid,rsid_gene_dic):\n",
    "    if rsid == '-' or rsid != rsid:\n",
    "        return '-'\n",
    "    rsids = rsid.split(';')\n",
    "    res = []\n",
    "    for i in rsids:\n",
    "        if i in rsid_gene_dic:\n",
    "            res.append(rsid_gene_dic[i])\n",
    "        else:\n",
    "            continue\n",
    "    return ';'.join(res)\n",
    "tier_df['TCGA_eQTL'] = tier_df['rsid'].map(lambda x:add_tcga_eqtl(x,rsid_gene_dic))"
   ]
  },
  {
   "cell_type": "markdown",
   "metadata": {},
   "source": [
    "## Merge eQTL catalog"
   ]
  },
  {
   "cell_type": "code",
   "execution_count": 63,
   "metadata": {},
   "outputs": [],
   "source": [
    "# eQTL catalog\n",
    "def get_eqtl_catalog_gene_info_dict(catalog_df):\n",
    "    gene_info_dict = {}\n",
    "    for idx, row in catalog_df.iterrows():\n",
    "        try:\n",
    "            genes = [row['near_gene']] + row['near_50Kgene'].split(';')\n",
    "            genes = list(set(genes))\n",
    "            if '-' in genes:\n",
    "                genes.remove('-')\n",
    "            for gene in genes:\n",
    "                gene_info_dict.setdefault(gene,[[] for i in range(3)])\n",
    "                if gene_info_dict[gene][0] != [] and \\\n",
    "                    row['rsid'] == gene_info_dict[gene][0][-1]: continue\n",
    "                gene_info_dict[gene][0].append(row['rsid'])\n",
    "#                 gene_info_dict[gene][1].append(str(row['pvalue']))\n",
    "                gene_info_dict[gene][1].append(str(row['qtl_group']))\n",
    "                gene_info_dict[gene][2].append(str(row['study_id']))\n",
    "        except:\n",
    "            continue\n",
    "    for k,v in gene_info_dict.items():\n",
    "        values = [';'.join(i) for i in v]\n",
    "        gene_info_dict[k] = values\n",
    "    return gene_info_dict\n",
    "\n",
    "clump_path  = work_path + '/f05_clump'\n",
    "eur_catalog_fn = clump_path + '/r08_eur_clmpCatalog.tsv'\n",
    "eur_catalog_df = pd.read_csv(eur_catalog_fn,sep='\\t',header=0)\n",
    "eur_catalog_dict = get_eqtl_catalog_gene_info_dict(eur_catalog_df)\n",
    "tier_df[['ecat_rsid','ecat_group','ecat_study']] = tier_df.apply(lambda x:\\\n",
    "        pd.Series(eur_catalog_dict[x['Gene']]) if x['Gene'] in eur_catalog_dict \\\n",
    "        else pd.Series(['-']*3),axis=1)"
   ]
  },
  {
   "cell_type": "code",
   "execution_count": 15,
   "metadata": {},
   "outputs": [],
   "source": [
    "# merge overlap with 23&me and gwas catalog\n",
    "gwas_23me_fn = work_path + '/f14_gene_level/gwas_23me.tsv'\n",
    "gwas_23me_df = pd.read_csv(gwas_23me_fn, sep='\\t', header=0)\n",
    "tier_df = pd.merge(tier_df,gwas_23me_df,how='left',left_on='Gene',right_on='target gene')"
   ]
  },
  {
   "cell_type": "code",
   "execution_count": 16,
   "metadata": {},
   "outputs": [],
   "source": [
    "merge_fn = work_path + '/f14_gene_level/merge_evidence.tsv'\n",
    "tier_df.sort_values('cancer',ascending=False).to_csv(merge_fn,sep='\\t',index=False)"
   ]
  },
  {
   "cell_type": "markdown",
   "metadata": {},
   "source": [
    "## Retreive data4cure information"
   ]
  },
  {
   "cell_type": "code",
   "execution_count": 21,
   "metadata": {},
   "outputs": [],
   "source": [
    "merge_fn = work_path + '/f14_gene_level/merge_evidence.tsv'\n",
    "tier_df = pd.read_csv(merge_fn,sep='\\t',header=0)\n",
    "d4c_path = work_path + '/f14_gene_level/gene_pathway_cancer'\n",
    "cancer_score_fn = d4c_path + '/Cancer_Evidence.tsv'\n",
    "pathway_path = d4c_path + '/pathway_membership'\n",
    "kegg_fn = pathway_path + '/KEGG.txt'\n",
    "reactome_fn = pathway_path + '/REACTOME.txt'"
   ]
  },
  {
   "cell_type": "code",
   "execution_count": 22,
   "metadata": {},
   "outputs": [],
   "source": [
    "def gene_kegg_path(kegg_fn):\n",
    "    kegg_dic = {}\n",
    "    with open(kegg_fn) as in_h:\n",
    "        for line in in_h:\n",
    "            items = line.strip().split('\\t')\n",
    "            kegg_dic[items[0]] = ';'.join(items[1:])\n",
    "    return kegg_dic\n",
    "kegg_dic = gene_kegg_path(kegg_fn)\n",
    "tier_df['KEGG'] = tier_df['Gene'].map(lambda x: kegg_dic[x] if x in kegg_dic else '-')\n",
    "reactome_dic = gene_kegg_path(reactome_fn)\n",
    "tier_df['Reactome'] = tier_df['Gene'].map(lambda x: reactome_dic[x] \\\n",
    "                                          if x in reactome_dic else '-')\n",
    "# cancer evidence\n",
    "try:\n",
    "    del tier_df['BI score']\n",
    "except:\n",
    "    pass\n",
    "cancer_score_df = pd.read_csv(cancer_score_fn,sep='\\t',header=0)\n",
    "tier_df = pd.merge(tier_df,cancer_score_df[['gene','BI score']],left_on='Gene',\n",
    "                  right_on='gene',how='left')\n",
    "del tier_df['gene']\n",
    "tier_df.to_csv(merge_fn,sep='\\t',index=False)"
   ]
  },
  {
   "cell_type": "markdown",
   "metadata": {},
   "source": [
    "## add complexes"
   ]
  },
  {
   "cell_type": "code",
   "execution_count": 23,
   "metadata": {},
   "outputs": [],
   "source": [
    "from collections import defaultdict\n",
    "cplx_fn = work_path + '/f14_gene_level/Enriched_complexes_NR_Combined_data.tsv'\n",
    "cplx_df = pd.read_csv(cplx_fn,sep='\\t',header=0)\n",
    "gene_cplx = defaultdict(list)\n",
    "for idx,row in cplx_df.iterrows():\n",
    "    genes = row['Members_Overlap'][1:-1].split(',')\n",
    "    genes = [g[1:-1] for g in genes]\n",
    "    for g in genes:\n",
    "        gene_cplx[g].append(row['Complex'])\n",
    "for k,v in gene_cplx.items():\n",
    "    gene_cplx[k] = ';'.join(list(set(v)))\n",
    "tier_df['complex'] = tier_df['Gene'].map(lambda x:gene_cplx[x] if x in gene_cplx else '-')"
   ]
  },
  {
   "cell_type": "code",
   "execution_count": 24,
   "metadata": {},
   "outputs": [],
   "source": [
    "tier_df.sort_values(['TCGA QTL TME score','Integrative Gene prioritization score',\n",
    "                     'BI score'],ascending=False).to_csv(merge_fn,sep='\\t',index=False)"
   ]
  },
  {
   "cell_type": "code",
   "execution_count": 25,
   "metadata": {},
   "outputs": [],
   "source": [
    "tier_df.to_csv(merge_fn,sep='\\t',index=False)"
   ]
  },
  {
   "cell_type": "markdown",
   "metadata": {},
   "source": [
    "## Overlap all eQTL with the results"
   ]
  },
  {
   "cell_type": "code",
   "execution_count": 54,
   "metadata": {},
   "outputs": [],
   "source": [
    "qtlbase_path = '/hpc/grid/wip_drm_targetsciences/projects/Resource/epigenetics/QTLbase/'\n",
    "qtlbase_meta_fn = f'{qtlbase_path}/QTLbase_LinDA_meta.tsv'\n",
    "qtlbase_meta_df = pd.read_csv(qtlbase_meata_fn, sep='\\t',header=0)\n",
    "qtlbase_meta_df['Sourceid'] = qtlbase_meta_df['Sourceid'].astype('str')\n",
    "tissue_dict = qtlbase_meta_df.set_index('Sourceid')['Tissue'].to_dict()"
   ]
  },
  {
   "cell_type": "code",
   "execution_count": 69,
   "metadata": {},
   "outputs": [],
   "source": [
    "fn = '/hpc/grid/wip_drm_targetsciences/projects/Resource/epigenetics/QTLbase/eQTL.gz'\n",
    "out = '/hpc/grid/wip_drm_targetsciences/projects/Resource/epigenetics/QTLbase/eQTL_sig.gz'\n",
    "head = True\n",
    "for df in pd.read_csv(fn,sep='\\t',header=0,chunksize=1e5,compression='gzip'):\n",
    "    sub_df = df.query('Pvalue < 5e-8')\n",
    "    if head:\n",
    "        sub_df.to_csv(out,sep='\\t',index=False,compression='gzip')\n",
    "        head = False\n",
    "    else:\n",
    "        sub_df.to_csv(out,sep='\\t',index=False,compression='gzip',mode='a',header=None)"
   ]
  },
  {
   "cell_type": "code",
   "execution_count": 70,
   "metadata": {},
   "outputs": [],
   "source": [
    "import gzip\n",
    "gene_dict = {}\n",
    "with gzip.open(out,'rt') as f:\n",
    "    for line in f:\n",
    "        if line.startswith('SNP_chr'):\n",
    "            continue\n",
    "        items = line.strip().split('\\t')\n",
    "        snp = ':'.join(items[:2])\n",
    "        gene = items[2]\n",
    "        tissue = tissue_dict[items[-1]]\n",
    "        if gene not in gene_dict:\n",
    "            gene_dict[gene] = [[snp],[tissue]]\n",
    "        else:\n",
    "            gene_dict[gene][0].append(snp)\n",
    "            gene_dict[gene][1].append(tissue)"
   ]
  },
  {
   "cell_type": "code",
   "execution_count": 77,
   "metadata": {},
   "outputs": [],
   "source": [
    "# tier_df['qtl_base_snp'] = tier_df['Gene'].map(lambda x: ','.join(gene_dict[x][0]) \\\n",
    "#                                             if x in gene_dict else '-')\n",
    "tier_df['qtl_base_tissue'] = tier_df['Gene'].map(lambda x: \n",
    "        ','.join(list(set(gene_dict[x][1]))) if x in gene_dict else '-')"
   ]
  },
  {
   "cell_type": "markdown",
   "metadata": {},
   "source": [
    "## Overlap with gwas catalog studies"
   ]
  },
  {
   "cell_type": "code",
   "execution_count": 97,
   "metadata": {},
   "outputs": [],
   "source": [
    "def add_gwas_catalog(row, snp_trait_dict):\n",
    "    if row['rsid'] != row['rsid']:\n",
    "        return '-'\n",
    "    snps = str(row['rsid']).split(';')\n",
    "    res = []\n",
    "    for snp in snps:\n",
    "        try:\n",
    "            res.append(','.join(snp_trait_dict[snp]))\n",
    "        except:\n",
    "            continue\n",
    "    if res == []:\n",
    "        return '-'"
   ]
  },
  {
   "cell_type": "code",
   "execution_count": 253,
   "metadata": {},
   "outputs": [],
   "source": [
    "gwas_catalog_path = f'{work_path}/f14_gene_level/gwas_catalog'\n",
    "gwas_fns = sorted(glob.glob(f'{gwas_catalog_path}/*.tsv'))\n",
    "for gwas_fn in gwas_fns:\n",
    "    head = 'pmid_' + gwas_fn.split('/')[-1].split('.')[0]\n",
    "    gwas_df = pd.read_csv(gwas_fn,sep='\\t',header=0)\n",
    "    snp_trait_dict = {k:list(v) for k,v in gwas_df.groupby('SNPS')['MAPPED_TRAIT']}\n",
    "    gene_trait_dict = {k:list(v) for k,v in gwas_df.groupby('MAPPED_GENE')['MAPPED_TRAIT']}\n",
    "#     tier_df[head] = tier_df.apply(lambda row: add_gwas_catalog(row,snp_trait_dict),axis=1)\n",
    "    tier_df[head] = tier_df['Gene'].map(lambda x: ','.join(gene_trait_dict[x]) \\\n",
    "                                        if x in gene_trait_dict else '-')"
   ]
  },
  {
   "cell_type": "code",
   "execution_count": 254,
   "metadata": {},
   "outputs": [],
   "source": [
    "tier_df.to_csv(merge_fn,sep='\\t',index=False)"
   ]
  },
  {
   "cell_type": "code",
   "execution_count": 177,
   "metadata": {},
   "outputs": [],
   "source": [
    "# get all rsid then submit to biomart to get the position\n",
    "all_rsids = [f for sub in tier_df['rsid'].tolist() for f in str(sub).split(';')]\n",
    "funseq_fn = f'{work_path}/f14_gene_level/functional_clinical/FunSeq2_annotated.All_SNPs.stats.v3_gene_centric_merged_w_rainbowTable.tsv'\n",
    "funseq_df = pd.read_csv(funseq_fn,sep='\\t',header=0)\n",
    "all_rsids.extend([f for sub in funseq_df['Associated SNPs'].tolist() for f in str(sub).split(',')])\n",
    "cli_fn = f'{work_path}/f14_gene_level/functional_clinical/20200211.B9991003_all_SNPs.filtered.txt'\n",
    "cli_df = pd.read_csv(cli_fn, sep='\\t',header=0)\n",
    "all_rsids.extend([f for sub in cli_df['SNP'].tolist() for f in str(sub).split(',')])\n",
    "all_rsids = list(set(all_rsids))\n",
    "\n",
    "with open(f'{work_path}/f14_gene_level/functional_clinical/rsid.txt','w') as f:\n",
    "    f.write('\\n'.join(all_rsids))"
   ]
  },
  {
   "cell_type": "code",
   "execution_count": 192,
   "metadata": {},
   "outputs": [],
   "source": [
    "# build {rsid:pos}\n",
    "id_fn = f'{work_path}/f14_gene_level/functional_clinical/mart_export.txt'\n",
    "# transfer for avline snps\n",
    "id_df = pd.read_csv(id_fn,sep='\\t',header=0)\n",
    "id_df = id_df[~id_df['Chromosome/scaffold name'].map(lambda x:'H' in x)]\n",
    "id_df['snp'] = id_df['Chromosome/scaffold name'].astype('str') + ':' + \\\n",
    "                  + id_df['Chromosome/scaffold position start (bp)'].astype('str')\n",
    "rsid_pos_dict = id_df.set_index('Variant name')['snp'].to_dict()"
   ]
  },
  {
   "cell_type": "code",
   "execution_count": 242,
   "metadata": {},
   "outputs": [],
   "source": [
    "tb = tabix.open('/hpc/grid/wip_drm_targetsciences/projects/Resource/epigenetics/QTLbase/eQTL.gz')\n",
    "def get_eqtl_results(vari, gene, tb, tissue_dict):\n",
    "    '''input is variants, and reference gene, then find the qtlbase crosscheck\n",
    "    '''\n",
    "    if vari == '-' or vari != vari:\n",
    "        return '-'\n",
    "    ids = re.split('[,;]',vari)\n",
    "    res = []\n",
    "    for i in ids:\n",
    "        sub_t = []\n",
    "        if i == '-':\n",
    "            sub_t.append('-')\n",
    "            continue\n",
    "        chrom, pos = i.split(':')\n",
    "        chrom = str(chrom)\n",
    "        pos = int(pos)\n",
    "        try:\n",
    "            records = tb.query(chrom, pos,pos+1)\n",
    "            tissue = ''\n",
    "            record = ''\n",
    "            for record in records:\n",
    "                q_gene = record[2]\n",
    "                if q_gene == gene:\n",
    "                    tissue = tissue_dict[str(record[-1])]\n",
    "                    sub_t.append(tissue)\n",
    "            if tissue == '':\n",
    "                sub_t.append('-')\n",
    "        except:\n",
    "            sub_t.append('-')\n",
    "        sub_t = ','.join(sub_t)\n",
    "        res.append(sub_t)\n",
    "    return ';'.join(res)"
   ]
  },
  {
   "cell_type": "code",
   "execution_count": 216,
   "metadata": {
    "scrolled": true
   },
   "outputs": [],
   "source": [
    "cli_df['vari'] = cli_df['SNP'].map(lambda x: rsid_pos_dict[x] if x in rsid_pos_dict else '-')\n",
    "cli_df['eQTL_tissue'] = cli_df.apply(lambda x: \\\n",
    "        get_eqtl_results(x['vari'],x['Gene_SNP'].split('_')[0],tb,tissue_dict),axis=1)\n",
    "cli_df.to_csv(f'{work_path}/f14_gene_level/functional_clinical/20200211.B9991003_all_SNPs.filtered.QTLbase.txt',\n",
    "             sep='\\t',index=False)"
   ]
  },
  {
   "cell_type": "code",
   "execution_count": 243,
   "metadata": {},
   "outputs": [],
   "source": [
    "def get_pos_from_rsid(rsid, rsid_pos_dict):\n",
    "    if rsid != rsid:\n",
    "        return '-'\n",
    "    res = []\n",
    "    ids = re.split('[,;]', rsid)\n",
    "    for i in ids:\n",
    "        try:\n",
    "            res.append(rsid_pos_dict[i])\n",
    "        except:\n",
    "            res.append('-')\n",
    "    return ';'.join(res)\n",
    "    \n",
    "funseq_df['vari'] = funseq_df['Associated SNPs'].map(lambda x:\n",
    "                    get_pos_from_rsid(x, rsid_pos_dict))\n",
    "funseq_df['QTLbase'] = funseq_df.apply(lambda row: \n",
    "            get_eqtl_results(row['vari'], row['target gene'], tb, tissue_dict),axis=1)"
   ]
  },
  {
   "cell_type": "code",
   "execution_count": 245,
   "metadata": {},
   "outputs": [],
   "source": [
    "funseq_df.to_csv(f'{work_path}/f14_gene_level/functional_clinical/FunSeq2_annotated.All_SNPs.stats.v3_gene_centric_merged_w_rainbowTable.QTLbase.tsv',\n",
    "             sep='\\t',index=False)"
   ]
  },
  {
   "cell_type": "markdown",
   "metadata": {},
   "source": [
    "## Merge all evidence for eur, all, norm, and peer results"
   ]
  },
  {
   "cell_type": "code",
   "execution_count": 115,
   "metadata": {
    "scrolled": true
   },
   "outputs": [],
   "source": [
    "def merge_addition_qtl(evi_fn, add_fns, prevs):\n",
    "    merge_evi_df = pd.read_csv(merge,sep='\\t',header=0)\n",
    "    for add_fn,prev in zip(add_fns,prevs):\n",
    "        add_df = pd.read_csv(add_fn,sep='\\t',header=0)\n",
    "        columns = add_df.columns.tolist()\n",
    "        add_df.columns = ['Gene'] + [f'{prev}_{c}' for c in columns[1:]]\n",
    "        merge_evi_df = pd.merge(merge_evi_df, add_df, on = 'Gene', how = 'outer')\n",
    "    return merge_evi_df\n",
    "\n",
    "prev = ['norm_all','peer_eur','peer_all']\n",
    "merge = f'{path}/p01_cyto_norm_qtl/f14_gene_level/merge_evidence.tsv'\n",
    "add_fns = [f'{path}/p01_cyto_norm_qtl/f13_survival/all_gene_clmpTCGA_anno.tsv',\n",
    "    f'{path}/p09_cyto_norm_2step_peer_qtl/f13_survival/eur_gene_clmpTCGA_anno.tsv',\n",
    "    f'{path}/p09_cyto_norm_2step_peer_qtl/f13_survival/all_gene_clmpTCGA_anno.tsv']\n",
    "merge_evi_df = merge_addition_qtl(merge, add_fns, prev)"
   ]
  },
  {
   "cell_type": "code",
   "execution_count": 116,
   "metadata": {},
   "outputs": [],
   "source": [
    "# build dic from cell to main cell lineage\n",
    "cell2main_fn = gene_level_path + '/cell2maincell.txt'\n",
    "cell2main_df = pd.read_csv(cell2main_fn,sep='\\t',header=None)\n",
    "cell2main_dic = cell2main_df.set_index(0)[1].to_dict()\n",
    "    \n",
    "scrna_fn = gene_level_path + '/scRNA.tsv'\n",
    "scrna_df = pd.read_csv(scrna_fn,sep='\\t',header=0,index_col=0)\n",
    "scrna_df['cells'] = scrna_df.apply(lambda x:get_expressed_cells(x),axis=1)\n",
    "\n",
    "scrna_cell_dic = scrna_df['cells'].to_dict()\n",
    "merge_evi_df['scRNA_cell'] = merge_evi_df['Gene'].map(lambda x: scrna_cell_dic[x] \n",
    "                        if x in scrna_cell_dic else '-')\n",
    "scrna_full_fn = gene_level_path + '/qian.cellres.2020.pan.cancer.scrna.avg.wts.AveExp.tsv'\n",
    "scrna_full_df = pd.read_csv(scrna_full_fn,sep='\\t',header=0,index_col=0)\n",
    "scrna_full_df = scrna_full_df[scrna_full_df.sum(axis=1) > 0]\n",
    "scrna_full_df['scRNA_cell_order'] = scrna_full_df.apply(lambda x:\n",
    "                            rank_cell_by_expression(x,cell2main_dic),axis=1)\n",
    "order_dic = scrna_full_df['scRNA_cell_order'].to_dict()\n",
    "merge_evi_df['scRNA_cell'] = merge_evi_df.apply(lambda x:filter_order_gene(x,order_dic),axis=1)\n",
    "merge_evi_df['scRNA_first_cell'] = merge_evi_df['scRNA_cell'].map(lambda x:x.split(';')[0] \n",
    "                            if len(x.split(';')) >= 1 else '-')\n",
    "merge_evi_df['scRNA_second_cell'] = merge_evi_df['scRNA_cell'].map(lambda x:x.split(';')[1] \n",
    "                            if len(x.split(';')) >= 2 else '-')"
   ]
  },
  {
   "cell_type": "code",
   "execution_count": 117,
   "metadata": {},
   "outputs": [],
   "source": [
    "out_fn = f'{path}/merge_evidence.tsv'\n",
    "merge_evi_df.to_csv(out_fn,sep='\\t',index=False)"
   ]
  },
  {
   "cell_type": "markdown",
   "metadata": {},
   "source": [
    "# Create imputation reference panel using UKBB"
   ]
  },
  {
   "cell_type": "code",
   "execution_count": 329,
   "metadata": {},
   "outputs": [],
   "source": [
    "pd.set_option('display.max_columns', None)"
   ]
  },
  {
   "cell_type": "code",
   "execution_count": null,
   "metadata": {
    "scrolled": true
   },
   "outputs": [],
   "source": [
    "# 1. extract the sample ids for downstream analysis\n",
    "meta_fn = '/lustre/workspace/projects/IB/P20_002_eWAS//data/master_488k_AnthropometicplusNullPhe_forGENESIS_Freeze.RDS'\n",
    "impute_path = f'/hpc/grid/wip_drm_targetsciences/users/shangzhong/ukbb/impute/'\n",
    "ukb_wes_bfile = '/lustre/workspace/projects/IB/UKBB_450K_REGEN/data/plink/UKB_Freeze_450.GL.splitmulti'\n",
    "import pyreadr\n",
    "res = pyreadr.read_r(meta_fn)\n",
    "meta_df = res[None]\n",
    "meta_df = meta_df.query('inVCF == \"YES\"')\n",
    "eur_df = meta_df[meta_df['in.largest.EU.unrel.subset'].values == \"PASS\"].sample(n=35000,random_state=1)\n",
    "other_df = meta_df[meta_df['in.largest.EU.subset'].values == 'FAIL'].sample(n=10000,random_state=1)\n",
    "sample_df = pd.concat([eur_df, other_df])\n",
    "sample_df['IID'] = sample_df['IID'].map(lambda x: str(x).split('.')[0])"
   ]
  },
  {
   "cell_type": "markdown",
   "metadata": {},
   "source": [
    "## Extract samples for WES data\n",
    "1. define the samples to extract\n",
    "2. extract the plink file for the samples\n",
    "3. remove the singletons of the variants"
   ]
  },
  {
   "cell_type": "code",
   "execution_count": 490,
   "metadata": {},
   "outputs": [],
   "source": [
    "# 1. define the samples to extract\n",
    "vcf_ids = sample_df['vcfID'].tolist()\n",
    "fids = [str(i).split('.')[0] for i in sample_df['f.eid'].tolist()]\n",
    "vcf_ids_fn = f'{impute_path}/keep_vcfids.txt'\n",
    "sample_df[['vcfID','vcfID']].to_csv(vcf_ids_fn, sep='\\t',header=None, index=False)\n",
    "chip_ids_fn = f'{impute_path}/keep_chipids.txt'\n",
    "sample_df[['IID','IID']].to_csv(chip_ids_fn, sep='\\t',header=None, index=False)\n",
    "\n",
    "sample_id_map_fn = f'{impute_path}/sample_id_map.txt'\n",
    "sample_df['old_fid'] = 0\n",
    "sample_df['old_iid'] = sample_df['IID'] + '_' + sample_df['IID']\n",
    "sample_df[['old_fid','old_iid','vcfID','vcfID']].to_csv(sample_id_map_fn,sep='\\t',\n",
    "                                                header=None,index=False)"
   ]
  },
  {
   "cell_type": "code",
   "execution_count": 375,
   "metadata": {
    "collapsed": true,
    "jupyter": {
     "outputs_hidden": true
    }
   },
   "outputs": [
    {
     "name": "stdout",
     "output_type": "stream",
     "text": [
      "/hpc/grid/wip_drm_targetsciences/users/shangzhong/software/plink2 --bfile /lustre/workspace/projects/IB/UKBB_450K_REGEN/data/plink/UKB_Freeze_450.GL.splitmulti --keep /hpc/grid/wip_drm_targetsciences/users/shangzhong/ukbb/impute//keep_vcfids.txt --make-bed --out /hpc/grid/wip_drm_targetsciences/users/shangzhong/ukbb/impute//wes\n"
     ]
    }
   ],
   "source": [
    "# 2. extract subsampels for wes data\n",
    "plink2 = '/hpc/grid/wip_drm_targetsciences/users/shangzhong/software/plink2'\n",
    "\n",
    "vcf_bfile = f'{impute_path}/wes'\n",
    "cmd = f'{plink2} --bfile {ukb_wes_bfile} --keep {vcf_ids_fn} --make-bed --out {vcf_bfile}'\n",
    "print(cmd)"
   ]
  },
  {
   "cell_type": "code",
   "execution_count": 441,
   "metadata": {},
   "outputs": [
    {
     "name": "stdout",
     "output_type": "stream",
     "text": [
      "/hpc/grid/wip_drm_targetsciences/users/shangzhong/software/plink2 --bfile /hpc/grid/wip_drm_targetsciences/users/shangzhong/ukbb/impute//wes --freq counts --out /hpc/grid/wip_drm_targetsciences/users/shangzhong/ukbb/impute//wes_freq\n"
     ]
    }
   ],
   "source": [
    "# 3. remove singletons\n",
    "# first calculate the frequency\n",
    "wes_freq_fn = f'{impute_path}/wes_freq'\n",
    "cmd = f'{plink2} --bfile {vcf_bfile} --freq counts --out {wes_freq_fn}'\n",
    "print(cmd)"
   ]
  },
  {
   "cell_type": "code",
   "execution_count": 457,
   "metadata": {},
   "outputs": [],
   "source": [
    "rm_wes_snp_fn = f'{impute_path}/rm_wes_snps.txt'\n",
    "for chunk in pd.read_csv(f'{wes_freq_fn}.acount',sep='\\t',header=0,chunksize=1e5):\n",
    "    chunk['ref_cts'] = chunk['OBS_CT'] - chunk['ALT_CTS']\n",
    "    sub = chunk.query('(ALT_CTS <= 1) or (ref_cts <=1)')\n",
    "    sub['ID'].to_csv(rm_wes_snp_fn, header=None, index=False,mode='a')"
   ]
  },
  {
   "cell_type": "code",
   "execution_count": 459,
   "metadata": {},
   "outputs": [
    {
     "name": "stdout",
     "output_type": "stream",
     "text": [
      "/hpc/grid/wip_drm_targetsciences/users/shangzhong/software/plink2 --bfile /hpc/grid/wip_drm_targetsciences/users/shangzhong/ukbb/impute//wes --exclude /hpc/grid/wip_drm_targetsciences/users/shangzhong/ukbb/impute//rm_wes_snps.txt --make-bed          --out /hpc/grid/wip_drm_targetsciences/users/shangzhong/ukbb/impute//wes_rmsnp\n"
     ]
    }
   ],
   "source": [
    "wes_rmsnp_fn = f'{impute_path}/wes_rmsnp'\n",
    "cmd = f'{plink2} --bfile {vcf_bfile} --exclude {rm_wes_snp_fn} --make-bed \\\n",
    "         --out {wes_rmsnp_fn}'\n",
    "print(cmd)"
   ]
  },
  {
   "cell_type": "markdown",
   "metadata": {},
   "source": [
    "## Extract samples for chip data\n",
    "1. extract data for specific samples.\n",
    "2. remove low quality variants\n",
    "3. decide reference allele for the variants and generate new rsid\n",
    "4. transfer the chip plink data to vcf format\n",
    "5. liftover to GRCh38\n",
    "6. change the variant id to chr:pos:ref:alt\n",
    "7. ready to merge with WES data.\n",
    "change sample id to vcf id"
   ]
  },
  {
   "cell_type": "code",
   "execution_count": 378,
   "metadata": {
    "collapsed": true,
    "jupyter": {
     "outputs_hidden": true
    }
   },
   "outputs": [
    {
     "name": "stdout",
     "output_type": "stream",
     "text": [
      "/hpc/grid/wip_drm_targetsciences/users/shangzhong/software/plink2 --bfile /hpc/grid/hgcb/workspace/projects/P015_UKBiobank_Resource/genotype_data_500K/called_Mar2018/merged/ukb_called_v2 --keep /hpc/grid/wip_drm_targetsciences/users/shangzhong/ukbb/impute//keep_chipids.txt --make-bed --out /hpc/grid/wip_drm_targetsciences/users/shangzhong/ukbb/impute//chip\n"
     ]
    }
   ],
   "source": [
    "# 1. extract samples for specific samples for chip data\n",
    "chip_bfile = '/hpc/grid/hgcb/workspace/projects/P015_UKBiobank_Resource/genotype_data_500K/called_Mar2018/merged/ukb_called_v2'\n",
    "array_bfile = f'{impute_path}/chip'\n",
    "cmd = f'{plink2} --bfile {chip_bfile} --keep {chip_ids_fn} --make-bed --out {array_bfile}'\n",
    "print(cmd)"
   ]
  },
  {
   "cell_type": "code",
   "execution_count": 386,
   "metadata": {},
   "outputs": [
    {
     "name": "stdout",
     "output_type": "stream",
     "text": [
      "/hpc/grid/wip_drm_targetsciences/users/shangzhong/software/plink2 --bfile /hpc/grid/wip_drm_targetsciences/users/shangzhong/ukbb/impute//chip --missing --hardy --out /hpc/grid/wip_drm_targetsciences/users/shangzhong/ukbb/impute//chip\n"
     ]
    }
   ],
   "source": [
    "# 2.1 remove low quality variants for chip data, get missing and hardy data\n",
    "chip_qc_fn = f'{impute_path}/chip'\n",
    "cmd = f'{plink2} --bfile {array_bfile} --missing --hardy --out {chip_qc_fn}'\n",
    "# os.system(cmd)\n",
    "print(cmd)"
   ]
  },
  {
   "cell_type": "code",
   "execution_count": 398,
   "metadata": {},
   "outputs": [
    {
     "name": "stdout",
     "output_type": "stream",
     "text": [
      "/hpc/grid/wip_drm_targetsciences/users/shangzhong/software/plink2 --bfile /hpc/grid/wip_drm_targetsciences/users/shangzhong/ukbb/impute//chip --exclude /hpc/grid/wip_drm_targetsciences/users/shangzhong/ukbb/impute//chip_rm_snps.txt --make-bed                --out /hpc/grid/wip_drm_targetsciences/users/shangzhong/ukbb/impute//chip_rm_snps\n"
     ]
    }
   ],
   "source": [
    "# 2.2 remove low quality snps\n",
    "vmiss_fn = f'{chip_qc_fn}.vmiss'\n",
    "vmiss_df = pd.read_csv(vmiss_fn, sep='\\t', header=0)\n",
    "hwe_fn = f'{chip_qc_fn}.hardy'\n",
    "hwe_df = pd.read_csv(hwe_fn, sep='\\t', header=0)\n",
    "rm_snps = vmiss_df.query('F_MISS > 0.1')['ID'].tolist() + \\\n",
    "          hwe_df.query('P < 1e-15')['ID'].tolist()\n",
    "rm_snps = list(set(rm_snps))\n",
    "rm_snps_fn = f'{impute_path}/chip_rm_snps.txt'\n",
    "with open(rm_snps_fn, 'w') as f:\n",
    "    f.write('\\n'.join(rm_snps))\n",
    "rm_snp_bfile = f'{impute_path}/chip_rm_snps'\n",
    "cmd = f'{plink2} --bfile {array_bfile} --exclude {rm_snps_fn} --make-bed \\\n",
    "               --out {rm_snp_bfile}'\n",
    "print(cmd)\n",
    "# os.system(cmd)"
   ]
  },
  {
   "cell_type": "code",
   "execution_count": 405,
   "metadata": {},
   "outputs": [],
   "source": [
    "# # 3. decide the reference allele\n",
    "# from Bio import SeqIO\n",
    "# hg19_fa = '/hpc/grid/wip_drm_targetsciences/projects/Ensembl/genome/hg19.fa'\n",
    "# hg19_idx = SeqIO.index(hg19_fa,'fasta')\n",
    "\n",
    "# chip_bim = f'{impute_path}/chip_rm_snps.bim'\n",
    "# chip_bim_df = pd.read_csv(chip_bim,sep='\\t',header=None)\n",
    "\n",
    "# ref4plink_fn = f'{impute_path}/chip_ref_allele.txt'\n",
    "# with open(ref4plink_fn,'w') as f:\n",
    "#     for i in range(1,23):\n",
    "#         seq = hg19_idx[f'chr{i}'].seq\n",
    "#         sub_df = chip_bim_df[chip_bim_df[0].values==i]\n",
    "#         for idx, row in sub_df.iterrows():\n",
    "#             if len(row[4]) == len(row[5]):\n",
    "#                 ref = seq[row[3]-1:row[3]]\n",
    "#             else:\n",
    "#                 ref1 = seq[row[3]-1:row[3]-1+len(row[4])]\n",
    "#                 ref2 = seq[row[3]-1:row[3]-1+len(row[5])]\n",
    "#                 if ref1 == row[4]:\n",
    "#                     ref = ref1\n",
    "#                 if ref2 == row[5]:\n",
    "#                     ref = ref2\n",
    "#             f.write('\\t'.join([str(row[1]),str(ref)])+'\\n')"
   ]
  },
  {
   "cell_type": "code",
   "execution_count": 488,
   "metadata": {
    "collapsed": true,
    "jupyter": {
     "outputs_hidden": true
    }
   },
   "outputs": [
    {
     "name": "stdout",
     "output_type": "stream",
     "text": [
      "/hpc/grid/wip_drm_targetsciences/users/shangzhong/software/plink2 --bfile /hpc/grid/wip_drm_targetsciences/users/shangzhong/ukbb/impute//chip_rm_snps --recode vcf bgz --ref-from-fa /hpc/grid/wip_drm_targetsciences/projects/Ensembl/genome/hg19.fa          --out /hpc/grid/wip_drm_targetsciences/users/shangzhong/ukbb/impute//chip_rm_snps\n"
     ]
    }
   ],
   "source": [
    "# 3. transfer bfile to vcf file\n",
    "rm_snp_vcf = f'{impute_path}/chip_rm_snps'\n",
    "cmd = f'{plink2} --bfile {rm_snp_bfile} --recode vcf bgz --ref-from-fa {hg19_fa} \\\n",
    "         --out {rm_snp_vcf}'\n",
    "print(cmd)"
   ]
  },
  {
   "cell_type": "code",
   "execution_count": 486,
   "metadata": {
    "collapsed": true,
    "jupyter": {
     "outputs_hidden": true
    }
   },
   "outputs": [
    {
     "name": "stdout",
     "output_type": "stream",
     "text": [
      "singularity run -B /:/media /hpc/grid/wip_drm_targetsciences/users/shangzhong/container/crossmap4gwas_0.6.sif CrossMap.py vcf --compress       /GRCh37_to_GRCh38.chain.gz /media//hpc/grid/wip_drm_targetsciences/users/shangzhong/ukbb/impute//chip_rm_snps.vcf.gz /media//hpc/grid/wip_drm_targetsciences/users/shangzhong/publicDB/gatk_homo38_index/hg38.fasta       /media//hpc/grid/wip_drm_targetsciences/users/shangzhong/ukbb/impute//chip_rm_snps38.vcf\n"
     ]
    }
   ],
   "source": [
    "# 4. liftover to GRCh38\n",
    "crossmap = '/hpc/grid/wip_drm_targetsciences/users/shangzhong/container/crossmap4gwas_0.6.sif'\n",
    "hg38_fa = '/hpc/grid/wip_drm_targetsciences/users/shangzhong/publicDB/gatk_homo38_index/hg38.fasta'\n",
    "chip_38_vcf = f'{impute_path}/chip_rm_snps38.vcf'\n",
    "cmd = f'singularity run -B /:/media {crossmap} CrossMap.py vcf --compress \\\n",
    "      /GRCh37_to_GRCh38.chain.gz /media/{rm_snp_vcf}.vcf.gz /media/{hg38_fa} \\\n",
    "      /media/{chip_38_vcf}'\n",
    "print(cmd)"
   ]
  },
  {
   "cell_type": "code",
   "execution_count": 487,
   "metadata": {},
   "outputs": [
    {
     "name": "stdout",
     "output_type": "stream",
     "text": [
      "/hpc/grid/wip_drm_targetsciences/users/shangzhong/software/plink2 --vcf /hpc/grid/wip_drm_targetsciences/users/shangzhong/ukbb/impute//chip_rm_snps38.vcf.gz --make-bed --out /hpc/grid/wip_drm_targetsciences/users/shangzhong/ukbb/impute//chip_rm_snps38\n"
     ]
    }
   ],
   "source": [
    "# 5. transfer to plink38\n",
    "chip_bfile38 = f'{impute_path}/chip_rm_snps38'\n",
    "cmd = f'{plink2} --vcf {chip_38_vcf}.gz --make-bed --out {chip_bfile38}'\n",
    "print(cmd)"
   ]
  },
  {
   "cell_type": "code",
   "execution_count": 438,
   "metadata": {},
   "outputs": [],
   "source": [
    "# 6. change the variant id to chr:pos:ref:alt\n",
    "id38_fn = f'{impute_path}/chip_rm_snps38_snpid.txt'\n",
    "with gzip.open(f'{chip_38_vcf}.gz','rt') as f, open(id38_fn,'w') as out_h: \n",
    "    for line in f:\n",
    "        if line.startswith('#'):\n",
    "            continue\n",
    "        else:\n",
    "            chrom,pos,rsid,ref,alt = line.split('\\t')[:5]\n",
    "            if len(ref) > len(alt): # del\n",
    "                 snpid = ':'.join([chrom, pos, 'D', str(len(ref)-len(alt))])\n",
    "            elif len(ref) > len(alt):\n",
    "                snpid = ':'.join([chrom, pos, 'I', str(len(alt)-len(ref))])\n",
    "            else:\n",
    "                snpid = ':'.join([chrom, pos, ref, alt])\n",
    "        out_h.write('\\t'.join([rsid, snpid])+'\\n')"
   ]
  },
  {
   "cell_type": "code",
   "execution_count": 440,
   "metadata": {
    "collapsed": true,
    "jupyter": {
     "outputs_hidden": true
    }
   },
   "outputs": [
    {
     "name": "stdout",
     "output_type": "stream",
     "text": [
      "/hpc/grid/wip_drm_targetsciences/users/shangzhong/software/plink2 --bfile /hpc/grid/wip_drm_targetsciences/users/shangzhong/ukbb/impute//chip_rm_snps38 --update-name /hpc/grid/wip_drm_targetsciences/users/shangzhong/ukbb/impute//chip_rm_snps38_snpid.txt --make-bed          --out /hpc/grid/wip_drm_targetsciences/users/shangzhong/ukbb/impute//chip_rm_snps38newid\n"
     ]
    }
   ],
   "source": [
    "new38id_bfile = f'{impute_path}/chip_rm_snps38newid'\n",
    "cmd = f'{plink2} --bfile {chip_bfile38} --update-name {id38_fn} --make-bed \\\n",
    "         --out {new38id_bfile}'\n",
    "print(cmd)"
   ]
  },
  {
   "cell_type": "code",
   "execution_count": 493,
   "metadata": {
    "collapsed": true,
    "jupyter": {
     "outputs_hidden": true
    }
   },
   "outputs": [
    {
     "name": "stdout",
     "output_type": "stream",
     "text": [
      "/hpc/grid/wip_drm_targetsciences/users/shangzhong/software/plink2 --bfile /hpc/grid/wip_drm_targetsciences/users/shangzhong/ukbb/impute//chip_rm_snps38newid --update-ids /hpc/grid/wip_drm_targetsciences/users/shangzhong/ukbb/impute//sample_id_map.txt --make-bed          --out /hpc/grid/wip_drm_targetsciences/users/shangzhong/ukbb/impute//chip_rm_snps38newsp\n"
     ]
    }
   ],
   "source": [
    "new38sp_bfile = f'{impute_path}/chip_rm_snps38newsp'\n",
    "sample_id_map_fn = f'{impute_path}/sample_id_map.txt'\n",
    "cmd = f'{plink2} --bfile {new38id_bfile} --update-ids {sample_id_map_fn} --make-bed \\\n",
    "         --out {new38sp_bfile}'\n",
    "print(cmd)"
   ]
  },
  {
   "cell_type": "code",
   "execution_count": 471,
   "metadata": {
    "collapsed": true,
    "jupyter": {
     "outputs_hidden": true
    }
   },
   "outputs": [
    {
     "name": "stderr",
     "output_type": "stream",
     "text": [
      "/hpc/grid/wip_drm_targetsciences/users/shangzhong/.conda/envs/hail/lib/python3.7/site-packages/IPython/core/interactiveshell.py:3156: DtypeWarning: Columns (0) have mixed types.Specify dtype option on import or set low_memory=False.\n",
      "  interactivity=interactivity, compiler=compiler, result=result)\n"
     ]
    }
   ],
   "source": [
    "# 7. get overlap variants between chip and grch38.\n",
    "chip_snps_final_bim = f'{impute_path}/chip_rm_snps38newid.bim'\n",
    "wes_snps_final_bim = f'{impute_path}/wes_rmsnp.bim'\n",
    "chip_snps_final = pd.read_csv(chip_snps_final_bim,sep='\\t',header=None)[1].tolist()\n",
    "wes_snps_final = pd.read_csv(wes_snps_final_bim,sep='\\t',header=None)[1].tolist()\n",
    "common_snps = list(set(chip_snps_final).intersection(wes_snps_final))\n",
    "common_snps_fn = f'{impute_path}/commono_snps.txt'\n",
    "with open(common_snps_fn,'w') as f:\n",
    "    f.write('\\n'.join(common_snps))"
   ]
  },
  {
   "cell_type": "code",
   "execution_count": 474,
   "metadata": {
    "collapsed": true,
    "jupyter": {
     "outputs_hidden": true
    }
   },
   "outputs": [
    {
     "name": "stdout",
     "output_type": "stream",
     "text": [
      "/hpc/grid/wip_drm_targetsciences/users/shangzhong/software/plink2 --bfile /hpc/grid/wip_drm_targetsciences/users/shangzhong/ukbb/impute//wes_rmsnp --exclude /hpc/grid/wip_drm_targetsciences/users/shangzhong/ukbb/impute//commono_snps.txt --make-bed            --out /hpc/grid/wip_drm_targetsciences/users/shangzhong/ukbb/impute//wes4merge\n"
     ]
    }
   ],
   "source": [
    "# remove variants in wes\n",
    "wes_rmsnp_fn = f'{impute_path}/wes_rmsnp'\n",
    "wes4merge = f'{impute_path}/wes4merge'\n",
    "cmd = f'{plink2} --bfile {wes_rmsnp_fn} --exclude {common_snps_fn} --make-bed \\\n",
    "           --out {wes4merge}'\n",
    "print(cmd)"
   ]
  },
  {
   "cell_type": "code",
   "execution_count": 494,
   "metadata": {},
   "outputs": [
    {
     "name": "stdout",
     "output_type": "stream",
     "text": [
      "/hpc/grid/wip_drm_targetsciences/users/shangzhong/software/plink --bfile /hpc/grid/wip_drm_targetsciences/users/shangzhong/ukbb/impute//wes4merge --bmerge /hpc/grid/wip_drm_targetsciences/users/shangzhong/ukbb/impute//chip_rm_snps38newsp --make-bed --out /hpc/grid/wip_drm_targetsciences/users/shangzhong/ukbb/impute//merge\n"
     ]
    }
   ],
   "source": [
    "# 8 merge chip and wes snps\n",
    "merge = f'{impute_path}/merge'\n",
    "new38sp_bfile = f'{impute_path}/chip_rm_snps38newsp'\n",
    "cmd = f'{plink} --bfile {wes4merge} --bmerge {new38sp_bfile} --make-bed --out {merge}'\n",
    "print(cmd)"
   ]
  },
  {
   "cell_type": "markdown",
   "metadata": {},
   "source": [
    "## Run Eagle to prepare reference panel"
   ]
  },
  {
   "cell_type": "code",
   "execution_count": null,
   "metadata": {},
   "outputs": [],
   "source": [
    "eagle = '/hpc/grid/wip_drm_targetsciences/users/shangzhong/software/Eagle_v2.4.1/eagle'\n",
    "gemap_fn = '/hpc/grid/wip_drm_targetsciences/users/shangzhong/software/Eagle_v2.4.1/tables/genetic_map_hg38_withX.txt.gz'\n",
    "phase_path = f'{impute_path}/phase'\n",
    "os.makedirs(phase_path,exist_ok=True)\n",
    "thread = 9\n",
    "for i in range(1,23):\n",
    "    cmd = f'{eagle} --geneticMapFile {gemap_fn} --bfile={merge} --chrom {i} \\\n",
    "                --outPrefix={phase_path}/chr{i} --numThreads {thread}'\n",
    "    log = f'{phase_path}/log_chr{i}.txt'\n",
    "    bsub = f'bsub -o {log} -M 65147617500 -n {thread} -R \\\"select[hname!=amrndhl1296]\\\" \\\n",
    "          -R \\\"span[ptile={thread}]\\\" -q long \\\"{cmd}\\\"'\n",
    "#     os.system(bsub)\n",
    "    print(bsub)"
   ]
  },
  {
   "cell_type": "code",
   "execution_count": null,
   "metadata": {},
   "outputs": [],
   "source": [
    "# change eagle to vcf format\n",
    "shapeit = '/hpc/grid/wip_drm_targetsciences/users/shangzhong/software/shapeit.v2.904.3.10.0-693.11.6.el7.x86_64/bin/shapeit'\n",
    "hap_fns = glob.glob(f'{phase_path}/*.haps')\n",
    "phase_vcf_path = f'{phase_path}/vcf'\n",
    "os.makedirs(phase_vcf_path, exist_ok=True)\n",
    "for hap in hap_fns:\n",
    "    out = f'{phase_vcf_path}/' + hap.split('/')[-1].split('.')[0]\n",
    "    log = out + '.log.txt'\n",
    "    cmd = (f'{shapeit} -convert --input-haps {hap[:-5]} --output-vcf {out}.vcf')\n",
    "    bsub = f'bsub -o {log} -M 65147617500 -R \\\"select[hname!=amrndhl1296]\\\" \\\n",
    "           -q medium \\\"{cmd}\\\"'\n",
    "#     os.system(bsub)\n",
    "#     print(bsub)\n",
    "vcf_fns = glob.glob(f'{phase_vcf_path}/*.vcf')\n",
    "for vcf in vcf_fns:\n",
    "    out = f'{phase_vcf_path}/' + vcf.split('/')[-1].split('.')[0]\n",
    "    log = out + '.log.txt'\n",
    "    cmd = (f'gzip {vcf}')\n",
    "    bsub = f'bsub -o {log} -M 65147617500 -R \\\"select[hname!=amrndhl1296]\\\" \\\n",
    "           -q medium \\\"{cmd}\\\"'\n",
    "#     os.system(bsub)\n",
    "    print(bsub)"
   ]
  },
  {
   "cell_type": "code",
   "execution_count": null,
   "metadata": {
    "scrolled": true
   },
   "outputs": [],
   "source": [
    "# m3vcf file format transfer\n",
    "from natsort import natsorted\n",
    "mm3_path = f'{phase_path}/m3vcf'\n",
    "os.makedirs(mm3_path,exist_ok=True)\n",
    "minimac3 = '/hpc/grid/wip_drm_targetsciences/users/shangzhong/container/minimac3_2.0.1.sif'\n",
    "vcf_fns = natsorted(glob.glob(f'{phase_vcf_path}/*.vcf'))\n",
    "for vcf in vcf_fns[:21]:\n",
    "    pre = f'/media/{mm3_path}/' + vcf.split('/')[-1].split('.')[0]\n",
    "    log = pre + '.log'\n",
    "    cmd = f'singularity run -B /:/media {minimac3} Minimac3 --refHaps /media/{vcf} \\\n",
    "            --processReference --prefix {pre}'\n",
    "    bsub = f'bsub -o {log} -M 65147617500 -R \\\"select[hname!=amrndhl1296]\\\" \\\n",
    "           -q medium \\\"{cmd}\\\"'\n",
    "#     os.system(bsub)\n",
    "    print(bsub)"
   ]
  },
  {
   "cell_type": "markdown",
   "metadata": {},
   "source": [
    "## Impute using minimac4"
   ]
  },
  {
   "cell_type": "code",
   "execution_count": null,
   "metadata": {},
   "outputs": [],
   "source": [
    "minimac4 = '/hpc/grid/wip_drm_targetsciences/users/shangzhong/container/minimac4_1.0.1.sif'\n",
    "mm4_path = f'{impute_path}/mm4'\n",
    "os.makedirs(mm4_path, exist_ok=True)\n",
    "thread = 6\n",
    "for i in range(1,23):\n",
    "    m3vcf = f'{mm3_path}/chr{i}.m3vcf.gz'\n",
    "    in_vcf = f'{plink_path}/vcf/chr{i}.vcf.gz'\n",
    "    out = f'{mm4_path}/chr{i}'\n",
    "    log = out + '.log.txt'\n",
    "    cmd = f'singularity run -B /:/media {minimac4} minimac4 --refHaps /media/{m3vcf} \\\n",
    "           --ignoreDuplicates --haps /media/{in_vcf} --prefix /media/{out}  \\\n",
    "        --cpus {thread}'\n",
    "    bsub = f'bsub -o {log} -M 65147617500 -n {thread} -R \\\"select[hname!=amrndhl1296]\\\" \\\n",
    "          -R \\\"span[ptile={thread}]\\\" -q medium \\\"{cmd}\\\"'\n",
    "#     os.system(bsub)\n",
    "    print(bsub)"
   ]
  },
  {
   "cell_type": "markdown",
   "metadata": {
    "tags": []
   },
   "source": [
    "#### get rna box plot with genotype\n",
    "##### example\n",
    "python ~/Code/Scripts/tumor_microenvironment/utils/m06_boxplotSNPgtCountTCGArnaseq.py -s 19:14169134:A:G -g ENSG00000187867 -t THCA -p eur -o PALM3.png -r THCA_tpm.tsv\n",
    "\n",
    "python ~/Code/Scripts/tumor_microenvironment/utils/m06_boxplotSNPgtCountCytoScore.py -s -s 3:104702543:C:T -c effector_memory_CD8.positive._alpha.beta_T_cell -t CESC -p all -o ALCAM.png"
   ]
  },
  {
   "cell_type": "markdown",
   "metadata": {},
   "source": [
    "## Overlap tcga results with scQTL results"
   ]
  },
  {
   "cell_type": "code",
   "execution_count": 2,
   "metadata": {},
   "outputs": [],
   "source": [
    "import pandas as pd"
   ]
  },
  {
   "cell_type": "markdown",
   "metadata": {},
   "source": [
    "#### overlap at gene level"
   ]
  },
  {
   "cell_type": "code",
   "execution_count": 3,
   "metadata": {},
   "outputs": [],
   "source": [
    "sc_path = '/hpc/grid/wip_drm_targetsciences/users/shangzhong/tumor/p01_cyto_norm_qtl/f16_scQTL'\n",
    "sc_fn = f'{sc_path}/scQTL.tsv'\n",
    "sc_df = pd.read_csv(sc_fn,sep='\\t',header=0)\n",
    "sc_rsid = sc_df['SNP'].unique().tolist()"
   ]
  },
  {
   "cell_type": "code",
   "execution_count": 4,
   "metadata": {},
   "outputs": [
    {
     "name": "stdout",
     "output_type": "stream",
     "text": [
      "{'BLK', 'MICA', 'HLA-B'}\n"
     ]
    }
   ],
   "source": [
    "sc_genes = pd.read_csv(f'{sc_path}/sc_genes.txt',header=None)[0].tolist()\n",
    "tcga_genes = pd.read_csv(f'{sc_path}/tcga_genes.txt',header=None)[0].tolist()\n",
    "print(set(tcga_genes).intersection(sc_genes))"
   ]
  },
  {
   "cell_type": "markdown",
   "metadata": {},
   "source": [
    "#### overlap at SNP level"
   ]
  },
  {
   "cell_type": "code",
   "execution_count": 36,
   "metadata": {},
   "outputs": [],
   "source": [
    "# eur clump results\n",
    "tcga_eur_fn = '/hpc/grid/wip_drm_targetsciences/users/shangzhong/tumor/p09_cyto_norm_2step_peer_qtl/f05_clump/r06_eur_clmpTCGA_anno.tsv'\n",
    "tcga_eur_df = pd.read_csv(tcga_eur_fn,sep='\\t',header=0)\n",
    "rsids = []\n",
    "for idx,row in tcga_eur_df.iterrows():\n",
    "    rsids.append(row['marker'])\n",
    "    snd_ids = [i[:-3] for i in row['SP2'].split(',')]\n",
    "    rsids.extend(snd_ids)\n",
    "inter_rsids = set(rsids).intersection(sc_rsid)"
   ]
  },
  {
   "cell_type": "code",
   "execution_count": 5,
   "metadata": {},
   "outputs": [],
   "source": [
    "# eur\n",
    "tcga_eur_fn = '/hpc/grid/wip_drm_targetsciences/users/shangzhong/tumor/p01_cyto_norm_qtl/f03_qtl/r03_eur_tcga_QTL_anno.tsv'\n",
    "tcga_eur_df = pd.read_csv(tcga_eur_fn,sep='\\t',header=0)\n",
    "tcga_eur_rsid = tcga_eur_df['marker'].unique().tolist()\n",
    "eur_inter_rsid = set(tcga_eur_rsid).intersection(sc_rsid)\n",
    "tcga_eur_df = tcga_eur_df.query('marker in @eur_inter_rsid')\n",
    "tcga_eur_df.to_csv(f'{sc_path}/tcga_eur_overlap.tsv',sep='\\t',index=False)"
   ]
  },
  {
   "cell_type": "code",
   "execution_count": 15,
   "metadata": {},
   "outputs": [],
   "source": [
    "# all\n",
    "tcga_eur_fn = '/hpc/grid/wip_drm_targetsciences/users/shangzhong/tumor/p01_cyto_norm_qtl/f03_qtl/r04_all_tcga_QTL_anno.tsv'\n",
    "tcga_eur_df = pd.read_csv(tcga_eur_fn,sep='\\t',header=0)\n",
    "tcga_eur_rsid = tcga_eur_df['marker'].unique().tolist()\n",
    "eur_inter_rsid = set(tcga_eur_rsid).intersection(sc_rsid)\n",
    "tcga_eur_df = tcga_eur_df.query('marker in @eur_inter_rsid')\n",
    "# tcga_eur_df.to_csv(f'{sc_path}/tcga_all_overlap.tsv',sep='\\t',index=False)"
   ]
  },
  {
   "cell_type": "code",
   "execution_count": 7,
   "metadata": {},
   "outputs": [],
   "source": [
    "# eur peer\n",
    "tcga_eur_fn = '/hpc/grid/wip_drm_targetsciences/users/shangzhong/tumor/p09_cyto_norm_2step_peer_qtl/f03_qtl/r03_eur_tcga_QTL_anno.tsv'\n",
    "tcga_eur_df = pd.read_csv(tcga_eur_fn,sep='\\t',header=0)\n",
    "tcga_eur_rsid = tcga_eur_df['marker'].unique().tolist()\n",
    "eur_inter_rsid = set(tcga_eur_rsid).intersection(sc_rsid)\n",
    "tcga_eur_df = tcga_eur_df.query('marker in @eur_inter_rsid')\n",
    "tcga_eur_df.to_csv(f'{sc_path}/tcga_eur_peer_overlap.tsv',sep='\\t',index=False)"
   ]
  },
  {
   "cell_type": "code",
   "execution_count": 9,
   "metadata": {},
   "outputs": [],
   "source": [
    "# all peer\n",
    "tcga_eur_fn = '/hpc/grid/wip_drm_targetsciences/users/shangzhong/tumor/p09_cyto_norm_2step_peer_qtl/f03_qtl/r04_all_tcga_QTL_anno.tsv'\n",
    "tcga_eur_df = pd.read_csv(tcga_eur_fn,sep='\\t',header=0)\n",
    "tcga_eur_rsid = tcga_eur_df['marker'].unique().tolist()\n",
    "eur_inter_rsid = set(tcga_eur_rsid).intersection(sc_rsid)\n",
    "tcga_eur_df = tcga_eur_df.query('marker in @eur_inter_rsid')\n",
    "tcga_eur_df.to_csv(f'{sc_path}/tcga_all_peer_overlap.tsv',sep='\\t',index=False)"
   ]
  },
  {
   "cell_type": "markdown",
   "metadata": {},
   "source": [
    "## Overlap with the CRISPRa results"
   ]
  },
  {
   "cell_type": "code",
   "execution_count": 3,
   "metadata": {},
   "outputs": [],
   "source": [
    "from intervaltree import Interval, IntervalTree\n",
    "crspr_path = '//hpc/grid/wip_drm_targetsciences/users/shangzhong/tumor/p01_cyto_norm_qtl/f15_CRISPRa_rna/'\n",
    "map_fn = f'{crspr_path}/map2hg.txt'\n",
    "map_df = pd.read_csv(map_fn,sep='\\t',header=None,\n",
    "                     names=['q','r','pid','len','mm','gap','qs','qe','ss','se','e','bit'])"
   ]
  },
  {
   "cell_type": "code",
   "execution_count": 4,
   "metadata": {},
   "outputs": [],
   "source": [
    "count_df = pd.DataFrame(map_df['q'].value_counts())\n",
    "count_df = count_df.query('q <= 5')\n",
    "uniq = count_df.index.tolist()\n",
    "map_df = map_df.query('q in @uniq')"
   ]
  },
  {
   "cell_type": "code",
   "execution_count": 73,
   "metadata": {},
   "outputs": [],
   "source": [
    "chr_tree = {}\n",
    "for i in range(1,23):\n",
    "    chr_tree[i] = IntervalTree()\n",
    "for idx,row in map_df.iterrows():\n",
    "    try:\n",
    "        chrom = int(row['r'][3:])\n",
    "    except:\n",
    "        continue\n",
    "    lo = min(row['ss'],row['se']) - 1\n",
    "    hi = max(row['ss'],row['se'])\n",
    "    chr_tree[chrom][lo:hi] = row['q']"
   ]
  },
  {
   "cell_type": "code",
   "execution_count": 67,
   "metadata": {},
   "outputs": [],
   "source": [
    "def overlap_crispr(tcga_eur_fn):\n",
    "    tcga_eur_df = pd.read_csv(tcga_eur_fn,sep='\\t',header=0)\n",
    "    inter_snp = []\n",
    "    inter_grna = []\n",
    "    for idx, row in tcga_eur_df.iterrows():\n",
    "        chrom,pos = row['SNP'].split(':')[:2]\n",
    "        pos = int(pos)\n",
    "        chrom = int(chrom)\n",
    "        intersect = sorted(chr_tree[chrom][pos-1])\n",
    "        if intersect != []:\n",
    "            for i in intersect:\n",
    "                inter_snp.append(row['SNP'])\n",
    "                inter_grna.append(i[2])\n",
    "    print(inter_snp, inter_grna)"
   ]
  },
  {
   "cell_type": "code",
   "execution_count": 74,
   "metadata": {},
   "outputs": [
    {
     "name": "stdout",
     "output_type": "stream",
     "text": [
      "[] []\n",
      "[] []\n",
      "[] []\n",
      "[] []\n"
     ]
    }
   ],
   "source": [
    "tcga_eur_fn = '/hpc/grid/wip_drm_targetsciences/users/shangzhong/tumor/p01_cyto_norm_qtl/f03_qtl/r03_eur_tcga_QTL_anno.tsv'\n",
    "overlap_crispr(tcga_eur_fn)\n",
    "tcga_all_fn = '/hpc/grid/wip_drm_targetsciences/users/shangzhong/tumor/p01_cyto_norm_qtl/f03_qtl/r04_all_tcga_QTL_anno.tsv'\n",
    "overlap_crispr(tcga_all_fn)\n",
    "tcga_eur_peer_fn = '/hpc/grid/wip_drm_targetsciences/users/shangzhong/tumor/p09_cyto_norm_2step_peer_qtl/f03_qtl/r03_eur_tcga_QTL_anno.tsv'\n",
    "overlap_crispr(tcga_eur_peer_fn)\n",
    "tcga_all_peer_fn = '/hpc/grid/wip_drm_targetsciences/users/shangzhong/tumor/p09_cyto_norm_2step_peer_qtl/f03_qtl/r04_all_tcga_QTL_anno.tsv'\n",
    "overlap_crispr(tcga_all_peer_fn)"
   ]
  },
  {
   "cell_type": "markdown",
   "metadata": {},
   "source": [
    "## Mendelian randomization"
   ]
  },
  {
   "cell_type": "code",
   "execution_count": 2,
   "metadata": {},
   "outputs": [],
   "source": [
    "import tabix,gzip\n",
    "mr_path = '/hpc/grid/wip_drm_targetsciences/users/shangzhong/tumor/p01_cyto_norm_qtl/f17_mr'\n",
    "surv_fn = f'{mr_path}/survival_mx_num_all.txt'\n",
    "out_fn = f'{mr_path}/survival.txt'\n",
    "clin_path = '/hpc/grid/wip_drm_targetsciences/users/shangzhong/tumor/Clinical'"
   ]
  },
  {
   "cell_type": "markdown",
   "metadata": {},
   "source": [
    "add information to the survival results"
   ]
  },
  {
   "cell_type": "code",
   "execution_count": 3,
   "metadata": {
    "scrolled": true,
    "tags": []
   },
   "outputs": [
    {
     "name": "stderr",
     "output_type": "stream",
     "text": [
      "/hpc/grid/wip_drm_targetsciences/users/shangzhong/.conda/envs/general/lib/python3.10/site-packages/pandas/core/arraylike.py:397: RuntimeWarning: divide by zero encountered in log\n",
      "  result = getattr(ufunc, method)(*inputs, **kwargs)\n",
      "/hpc/grid/wip_drm_targetsciences/users/shangzhong/.conda/envs/general/lib/python3.10/site-packages/pandas/core/arraylike.py:397: RuntimeWarning: divide by zero encountered in log\n",
      "  result = getattr(ufunc, method)(*inputs, **kwargs)\n",
      "/hpc/grid/wip_drm_targetsciences/users/shangzhong/.conda/envs/general/lib/python3.10/site-packages/pandas/core/arraylike.py:397: RuntimeWarning: divide by zero encountered in log\n",
      "  result = getattr(ufunc, method)(*inputs, **kwargs)\n",
      "/hpc/grid/wip_drm_targetsciences/users/shangzhong/.conda/envs/general/lib/python3.10/site-packages/pandas/core/arraylike.py:397: RuntimeWarning: divide by zero encountered in log\n",
      "  result = getattr(ufunc, method)(*inputs, **kwargs)\n",
      "/hpc/grid/wip_drm_targetsciences/users/shangzhong/.conda/envs/general/lib/python3.10/site-packages/pandas/core/arraylike.py:397: RuntimeWarning: divide by zero encountered in log\n",
      "  result = getattr(ufunc, method)(*inputs, **kwargs)\n",
      "/hpc/grid/wip_drm_targetsciences/users/shangzhong/.conda/envs/general/lib/python3.10/site-packages/pandas/core/arraylike.py:397: RuntimeWarning: divide by zero encountered in log\n",
      "  result = getattr(ufunc, method)(*inputs, **kwargs)\n",
      "/hpc/grid/wip_drm_targetsciences/users/shangzhong/.conda/envs/general/lib/python3.10/site-packages/pandas/core/arraylike.py:397: RuntimeWarning: divide by zero encountered in log\n",
      "  result = getattr(ufunc, method)(*inputs, **kwargs)\n",
      "/hpc/grid/wip_drm_targetsciences/users/shangzhong/.conda/envs/general/lib/python3.10/site-packages/pandas/core/arraylike.py:397: RuntimeWarning: divide by zero encountered in log\n",
      "  result = getattr(ufunc, method)(*inputs, **kwargs)\n",
      "/hpc/grid/wip_drm_targetsciences/users/shangzhong/.conda/envs/general/lib/python3.10/site-packages/pandas/core/arraylike.py:397: RuntimeWarning: divide by zero encountered in log\n",
      "  result = getattr(ufunc, method)(*inputs, **kwargs)\n",
      "/hpc/grid/wip_drm_targetsciences/users/shangzhong/.conda/envs/general/lib/python3.10/site-packages/pandas/core/arraylike.py:397: RuntimeWarning: divide by zero encountered in log\n",
      "  result = getattr(ufunc, method)(*inputs, **kwargs)\n",
      "/hpc/grid/wip_drm_targetsciences/users/shangzhong/.conda/envs/general/lib/python3.10/site-packages/pandas/core/arraylike.py:397: RuntimeWarning: divide by zero encountered in log\n",
      "  result = getattr(ufunc, method)(*inputs, **kwargs)\n",
      "/hpc/grid/wip_drm_targetsciences/users/shangzhong/.conda/envs/general/lib/python3.10/site-packages/pandas/core/arraylike.py:397: RuntimeWarning: divide by zero encountered in log\n",
      "  result = getattr(ufunc, method)(*inputs, **kwargs)\n",
      "/hpc/grid/wip_drm_targetsciences/users/shangzhong/.conda/envs/general/lib/python3.10/site-packages/pandas/core/arraylike.py:397: RuntimeWarning: divide by zero encountered in log\n",
      "  result = getattr(ufunc, method)(*inputs, **kwargs)\n",
      "/hpc/grid/wip_drm_targetsciences/users/shangzhong/.conda/envs/general/lib/python3.10/site-packages/pandas/core/arraylike.py:397: RuntimeWarning: divide by zero encountered in log\n",
      "  result = getattr(ufunc, method)(*inputs, **kwargs)\n",
      "/hpc/grid/wip_drm_targetsciences/users/shangzhong/.conda/envs/general/lib/python3.10/site-packages/pandas/core/arraylike.py:397: RuntimeWarning: divide by zero encountered in log\n",
      "  result = getattr(ufunc, method)(*inputs, **kwargs)\n",
      "/hpc/grid/wip_drm_targetsciences/users/shangzhong/.conda/envs/general/lib/python3.10/site-packages/pandas/core/arraylike.py:397: RuntimeWarning: divide by zero encountered in log\n",
      "  result = getattr(ufunc, method)(*inputs, **kwargs)\n",
      "/hpc/grid/wip_drm_targetsciences/users/shangzhong/.conda/envs/general/lib/python3.10/site-packages/pandas/core/arraylike.py:397: RuntimeWarning: divide by zero encountered in log\n",
      "  result = getattr(ufunc, method)(*inputs, **kwargs)\n",
      "/hpc/grid/wip_drm_targetsciences/users/shangzhong/.conda/envs/general/lib/python3.10/site-packages/pandas/core/arraylike.py:397: RuntimeWarning: divide by zero encountered in log\n",
      "  result = getattr(ufunc, method)(*inputs, **kwargs)\n",
      "/hpc/grid/wip_drm_targetsciences/users/shangzhong/.conda/envs/general/lib/python3.10/site-packages/pandas/core/arraylike.py:397: RuntimeWarning: divide by zero encountered in log\n",
      "  result = getattr(ufunc, method)(*inputs, **kwargs)\n",
      "/hpc/grid/wip_drm_targetsciences/users/shangzhong/.conda/envs/general/lib/python3.10/site-packages/pandas/core/arraylike.py:397: RuntimeWarning: divide by zero encountered in log\n",
      "  result = getattr(ufunc, method)(*inputs, **kwargs)\n",
      "/hpc/grid/wip_drm_targetsciences/users/shangzhong/.conda/envs/general/lib/python3.10/site-packages/pandas/core/arraylike.py:397: RuntimeWarning: divide by zero encountered in log\n",
      "  result = getattr(ufunc, method)(*inputs, **kwargs)\n",
      "/hpc/grid/wip_drm_targetsciences/users/shangzhong/.conda/envs/general/lib/python3.10/site-packages/pandas/core/arraylike.py:397: RuntimeWarning: divide by zero encountered in log\n",
      "  result = getattr(ufunc, method)(*inputs, **kwargs)\n",
      "/hpc/grid/wip_drm_targetsciences/users/shangzhong/.conda/envs/general/lib/python3.10/site-packages/pandas/core/arraylike.py:397: RuntimeWarning: divide by zero encountered in log\n",
      "  result = getattr(ufunc, method)(*inputs, **kwargs)\n",
      "/hpc/grid/wip_drm_targetsciences/users/shangzhong/.conda/envs/general/lib/python3.10/site-packages/pandas/core/arraylike.py:397: RuntimeWarning: divide by zero encountered in log\n",
      "  result = getattr(ufunc, method)(*inputs, **kwargs)\n",
      "/hpc/grid/wip_drm_targetsciences/users/shangzhong/.conda/envs/general/lib/python3.10/site-packages/pandas/core/arraylike.py:397: RuntimeWarning: divide by zero encountered in log\n",
      "  result = getattr(ufunc, method)(*inputs, **kwargs)\n",
      "/hpc/grid/wip_drm_targetsciences/users/shangzhong/.conda/envs/general/lib/python3.10/site-packages/pandas/core/arraylike.py:397: RuntimeWarning: divide by zero encountered in log\n",
      "  result = getattr(ufunc, method)(*inputs, **kwargs)\n",
      "/hpc/grid/wip_drm_targetsciences/users/shangzhong/.conda/envs/general/lib/python3.10/site-packages/pandas/core/arraylike.py:397: RuntimeWarning: divide by zero encountered in log\n",
      "  result = getattr(ufunc, method)(*inputs, **kwargs)\n",
      "/hpc/grid/wip_drm_targetsciences/users/shangzhong/.conda/envs/general/lib/python3.10/site-packages/pandas/core/arraylike.py:397: RuntimeWarning: divide by zero encountered in log\n",
      "  result = getattr(ufunc, method)(*inputs, **kwargs)\n",
      "/hpc/grid/wip_drm_targetsciences/users/shangzhong/.conda/envs/general/lib/python3.10/site-packages/pandas/core/arraylike.py:397: RuntimeWarning: divide by zero encountered in log\n",
      "  result = getattr(ufunc, method)(*inputs, **kwargs)\n",
      "/hpc/grid/wip_drm_targetsciences/users/shangzhong/.conda/envs/general/lib/python3.10/site-packages/pandas/core/arraylike.py:397: RuntimeWarning: divide by zero encountered in log\n",
      "  result = getattr(ufunc, method)(*inputs, **kwargs)\n"
     ]
    }
   ],
   "source": [
    "def get_info(x,i):\n",
    "    idx = x.index('_chr')\n",
    "    gene = x[:idx]\n",
    "    snd = x[idx+1:].split('_')\n",
    "    res = [gene] + snd\n",
    "    if len(res) != 5:\n",
    "        print(x)\n",
    "        raise \n",
    "    return res[i]\n",
    "\n",
    "head = True\n",
    "for chunk in pd.read_csv(surv_fn, sep='\\t', header=0, chunksize=1e6):\n",
    "    chunk['id'] = chunk.index\n",
    "    chunk = chunk[~chunk['id'].map(lambda x: x.startswith('NA_'))]\n",
    "    del chunk['id']\n",
    "#     chunk[['chr','pos','ref','alt','gene']] = chunk.index.map(lambda x: get_info(x))\n",
    "    chunk['chr'] = chunk.index.map(lambda x: get_info(x,1))\n",
    "    chunk['pos'] = chunk.index.map(lambda x: get_info(x,2))\n",
    "    chunk['ref'] = chunk.index.map(lambda x: get_info(x,3))\n",
    "    chunk['alt'] = chunk.index.map(lambda x: get_info(x,4))\n",
    "    chunk['gene'] = chunk.index.map(lambda x: get_info(x,0))\n",
    "    # \n",
    "    chunk['Interaction_term_coef'] = np.log(chunk['Interaction_term_expCoef'])\n",
    "    chunk['Interaction_term_sd'] = (np.log(chunk['Interaction_term_high_CI95']) - \\\n",
    "              np.log(chunk['Interaction_term_low_CI95'])) / 2 / 1.96\n",
    "    # Avelumab_BSC_arm\n",
    "    chunk['Avelumab_BSC_arm_coef'] = np.log(chunk['Avelumab_BSC_arm_expCoef'])\n",
    "    chunk['Avelumab_BSC_arm_sd'] = (np.log(chunk['Avelumab_BSC_arm_high_CI95']) - \\\n",
    "              np.log(chunk['Avelumab_BSC_arm_low_CI95'])) / 2 / 1.96\n",
    "    # BSC_arm\n",
    "    chunk['BSC_arm_coef'] = np.log(chunk['BSC_arm_expCoef'])\n",
    "    chunk['BSC_arm_sd'] = (np.log(chunk['BSC_arm_high_CI95']) - \\\n",
    "              np.log(chunk['BSC_arm_low_CI95'])) / 2 / 1.96\n",
    "    \n",
    "    cols = chunk.columns.tolist()\n",
    "    fst_cols = ['chr','pos','ref','alt','gene']\n",
    "    new_cols = fst_cols + [c for c in cols if c not in fst_cols]\n",
    "    if head:\n",
    "        chunk[new_cols].to_csv(out_fn,sep='\\t',index=False)\n",
    "        head = False\n",
    "    else:\n",
    "        chunk[new_cols].to_csv(out_fn,sep='\\t',mode='a',header=None,index=False)"
   ]
  },
  {
   "cell_type": "markdown",
   "metadata": {},
   "source": [
    "get blca significant associations"
   ]
  },
  {
   "cell_type": "code",
   "execution_count": 4,
   "metadata": {},
   "outputs": [],
   "source": [
    "def get_cell_b_sd(row,cell_path):\n",
    "    snp = row['SNP']\n",
    "    cell = row['cell']\n",
    "    chrom,pos,ref,alt = snp.split(':')\n",
    "    pos = int(pos)\n",
    "    fn = f'{cell_path}/{cell}.txt.gz'\n",
    "    tb = tabix.open(fn)\n",
    "    records = tb.query(str(chrom),pos,pos+1)\n",
    "    beta = std = ''\n",
    "    for record in records:\n",
    "        ref1 = record[9]\n",
    "        alt1 = record[8]\n",
    "        if ref1 == ref and alt == alt1:\n",
    "            beta = record[4]\n",
    "            std = record[10]\n",
    "    return pd.Series([beta, std])"
   ]
  },
  {
   "cell_type": "code",
   "execution_count": 5,
   "metadata": {},
   "outputs": [],
   "source": [
    "def get_coxph_b_sd(row, mr_path):\n",
    "    snp = row['SNP']\n",
    "    cell = row['cell']\n",
    "    chrom,pos,ref,alt = snp.split(':')\n",
    "    chrom = 'chr' + chrom\n",
    "    pos = int(pos)\n",
    "    fn = f'{mr_path}/survival.txt.gz'\n",
    "    with gzip.open(fn,'rt') as f:\n",
    "        head = f.readline()\n",
    "        head = head.strip().split('\\t')\n",
    "    tb = tabix.open(fn)\n",
    "    records = tb.query(str(chrom),pos,pos+1)\n",
    "    beta_ave = std_ave = p_ave =  ''\n",
    "    beta_bsc = std_bsc = p_bsc =  ''\n",
    "    beta_inter = std_inter = p_inter =  ''\n",
    "    for record in records:\n",
    "        dic = {k:v for k,v in zip(head,record)}\n",
    "        ref1 = record[2]\n",
    "        alt1 = record[3]\n",
    "        if ref1 == ref and alt == alt1:\n",
    "            beta_ave = dic['Avelumab_BSC_arm_coef']\n",
    "            std_ave = dic['Avelumab_BSC_arm_sd']\n",
    "            p_ave = dic['Avelumab_BSC_arm_pval']\n",
    "            beta_bsc = dic['BSC_arm_coef']\n",
    "            std_bsc = dic['BSC_arm_sd']\n",
    "            p_bsc = dic['BSC_arm_pval']\n",
    "            beta_inter = dic['Interaction_term_coef']\n",
    "            std_inter = dic['Interaction_term_sd']\n",
    "            p_inter = dic['Interaction_term_pval']\n",
    "    return pd.Series([beta_ave, std_ave, p_ave, \\\n",
    "        beta_bsc, std_bsc, p_bsc, beta_inter, std_inter, p_inter])"
   ]
  },
  {
   "cell_type": "markdown",
   "metadata": {},
   "source": [
    "Get WGS and WES BLCA allele frequency and add this information to the summary datas"
   ]
  },
  {
   "cell_type": "code",
   "execution_count": 6,
   "metadata": {
    "scrolled": true
   },
   "outputs": [],
   "source": [
    "# get wes frequency\n",
    "wes_freq_fn = f'{clin_path}/BLCA/WES/plink/germ_newSp38.afreq'\n",
    "wes_freq_df = pd.read_csv(wes_freq_fn,sep='\\t',header=0)\n",
    "wes_snp_freq_dict = wes_freq_df.set_index('ID')['ALT_FREQS'].to_dict()\n",
    "# get wgs frequencey\n",
    "wgs_freq_fn = f'{clin_path}/BLCA/WGS/plink/germ_newSp38.afreq'\n",
    "wgs_freq_df = pd.read_csv(wgs_freq_fn,sep='\\t',header=0)\n",
    "wgs_snp_freq_dict = wgs_freq_df.set_index('ID')['ALT_FREQS'].to_dict()"
   ]
  },
  {
   "cell_type": "code",
   "execution_count": 7,
   "metadata": {},
   "outputs": [],
   "source": [
    "# get blca results\n",
    "wes_blca_fn = f'{clin_path}/BLCA/WES/matrixQTL/clump_sig_anno5e5.tsv'\n",
    "wes_blca_df = pd.read_csv(wes_blca_fn,sep='\\t',header=0)\n",
    "wes_blca_df.drop(columns=['F','BP','TOTAL','NSIG','S05','S01','S001','S0001'],inplace=True)\n",
    "# add allele frequency\n",
    "wes_blca_df['wes_af'] = wes_blca_df['SNP'].map(lambda x: wes_snp_freq_dict[x])\n",
    "wes_blca_df['ref'] = wes_blca_df['SNP'].map(lambda x:x.split(':')[2])\n",
    "wes_blca_df['alt'] = wes_blca_df['SNP'].map(lambda x:x.split(':')[3])"
   ]
  },
  {
   "cell_type": "markdown",
   "metadata": {},
   "source": [
    "build snp_rsid dictionary for WGS data"
   ]
  },
  {
   "cell_type": "code",
   "execution_count": 8,
   "metadata": {},
   "outputs": [],
   "source": [
    "wgs_anno_fn = '/lustre/workspace/projects/BLCA/Results/snp_indel/anno50k.vep.tsv.gz'\n",
    "snp_rsid_dict = {}\n",
    "with gzip.open(wgs_anno_fn,'rt') as f:\n",
    "    head = f.readline().strip().split('\\t')\n",
    "    for line in f:\n",
    "        items = line.strip().split('\\t')\n",
    "        dic = {k:v for k,v in zip(head,items)}\n",
    "        snp_rsid_dict[':'.join(items[:4])] = dic['Existing_variation']"
   ]
  },
  {
   "cell_type": "markdown",
   "metadata": {},
   "source": [
    "merge blca WES QTL summary and clinical cox summary data"
   ]
  },
  {
   "cell_type": "code",
   "execution_count": 10,
   "metadata": {
    "tags": []
   },
   "outputs": [],
   "source": [
    "cell_path = f'{clin_path}/BLCA/WES/matrixQTL/cell_qtl/'\n",
    "# add blca wes beta and std values\n",
    "wes_blca_df[['cell_beta','cell_std']] = wes_blca_df.apply(lambda x:\n",
    "                            get_cell_b_sd(x,cell_path),axis=1)\n",
    "# add cox value\n",
    "wes_blca_df[['ave_bsc_beta','ave_bsc_std','ave_bsc_pval','bsc_beta','bsc_std','bsc_pval',\n",
    "             'inter_beta','inter_std','inter_pval']] = \\\n",
    "  wes_blca_df.apply(lambda x:get_coxph_b_sd(x, mr_path),axis=1)\n",
    "wes_blca_df['wgs_af'] = wes_blca_df['SNP'].map(lambda x:wgs_snp_freq_dict[x] \\\n",
    "                                               if x in wgs_snp_freq_dict else '')"
   ]
  },
  {
   "cell_type": "markdown",
   "metadata": {},
   "source": [
    "Map the snps using R2 > 0.8"
   ]
  },
  {
   "cell_type": "code",
   "execution_count": 12,
   "metadata": {},
   "outputs": [],
   "source": [
    "def get_ld_snp(row,tb,group,cox_snps,head):\n",
    "    columns = ['ave_bsc_beta','ave_bsc_std','ave_bsc_pval','bsc_beta','bsc_std','bsc_pval',\n",
    "             'inter_beta','inter_std','inter_pval']\n",
    "    if row['bsc_beta'] != '':\n",
    "        return pd.Series([row[c] for c in columns])\n",
    "    \n",
    "    snps = row['SNP']\n",
    "    sub_groups = [g for g in group if row['SNP'] in g]\n",
    "    if sub_groups == []:\n",
    "        return pd.Series([''] * 9)\n",
    "    else:\n",
    "        inter = set(sub_groups[0]).intersection(cox_snps)\n",
    "        if inter == set():\n",
    "            return pd.Series([''] * 9)\n",
    "        else:  # can find the overlap\n",
    "            chrom,pos,ref,alt = inter[0].split(':')\n",
    "            records = tb.query(f'chr{chrom}',int(pos),int(pos)+1)\n",
    "            beta_ave = std_ave = p_ave =  ''\n",
    "            beta_bsc = std_bsc = p_bsc =  ''\n",
    "            beta_inter = std_inter = p_inter =  ''\n",
    "            for record in records:\n",
    "                dic = {k:v for k,v in zip(head,record)}\n",
    "                ref1 = record[2]\n",
    "                alt1 = record[3]\n",
    "                if ref1 == ref and alt == alt1:\n",
    "                    beta_ave = dic['Avelumab_BSC_arm_coef']\n",
    "                    std_ave = dic['Avelumab_BSC_arm_sd']\n",
    "                    p_ave = dic['Avelumab_BSC_arm_pval']\n",
    "                    beta_bsc = dic['BSC_arm_coef']\n",
    "                    std_bsc = dic['BSC_arm_sd']\n",
    "                    p_bsc = dic['BSC_arm_pval']\n",
    "                    beta_inter = dic['Interaction_term_coef']\n",
    "                    std_inter = dic['Interaction_term_sd']\n",
    "                    p_inter = dic['Interaction_term_pval']\n",
    "            return pd.Series([beta_ave, std_ave, p_ave, \\\n",
    "                beta_bsc, std_bsc, p_bsc, beta_inter, std_inter, p_inter])"
   ]
  },
  {
   "cell_type": "code",
   "execution_count": 13,
   "metadata": {},
   "outputs": [],
   "source": [
    "# get blca coxph all snps\n",
    "surv_fn = f'{mr_path}/survival.txt.gz'\n",
    "cox_snps = []\n",
    "with gzip.open(surv_fn,'rt') as f:\n",
    "    head = f.readline()\n",
    "    head = head.strip().split('\\t')\n",
    "    for line in f:\n",
    "        cox_snps.append(':'.join(line.strip().split('\\t')[:4]))\n",
    "# tabix for fast access\n",
    "tb = tabix.open(surv_fn)"
   ]
  },
  {
   "cell_type": "code",
   "execution_count": 109,
   "metadata": {
    "scrolled": true,
    "tags": []
   },
   "outputs": [],
   "source": [
    "# prepare mr into goups\n",
    "wes_ld_snp_fn = f'{clin_path}//BLCA/WES/matrixQTL/mr_clump_sig_anno5e7.tsv'\n",
    "wes_ld_snp_df = pd.read_csv(wes_ld_snp_fn,sep='\\t',header=0)\n",
    "group = []\n",
    "for idx, row in wes_ld_snp_df.iterrows():\n",
    "    sub = [row['SNP']] + [s.split('(')[0] for s in row['SP2'].split(',')]\n",
    "    group.append(tuple(sub))\n",
    "\n",
    "wes_blca_df[['ave_bsc_beta','ave_bsc_std','ave_bsc_pval','bsc_beta','bsc_std','bsc_pval',\n",
    "             'inter_beta','inter_std','inter_pval']] = \\\n",
    "        wes_blca_df.apply(lambda row: get_ld_snp(row,tb,group,cox_snps,head),axis=1)"
   ]
  },
  {
   "cell_type": "code",
   "execution_count": 14,
   "metadata": {},
   "outputs": [],
   "source": [
    "wes_wgs_mr_fn = f'{mr_path}/wes_wgs_mr.txt'\n",
    "wes_blca_df.to_csv(wes_wgs_mr_fn,sep='\\t',index=False)"
   ]
  },
  {
   "cell_type": "code",
   "execution_count": 128,
   "metadata": {},
   "outputs": [
    {
     "data": {
      "text/html": [
       "<div>\n",
       "<style scoped>\n",
       "    .dataframe tbody tr th:only-of-type {\n",
       "        vertical-align: middle;\n",
       "    }\n",
       "\n",
       "    .dataframe tbody tr th {\n",
       "        vertical-align: top;\n",
       "    }\n",
       "\n",
       "    .dataframe thead th {\n",
       "        text-align: right;\n",
       "    }\n",
       "</style>\n",
       "<table border=\"1\" class=\"dataframe\">\n",
       "  <thead>\n",
       "    <tr style=\"text-align: right;\">\n",
       "      <th></th>\n",
       "      <th>CHR</th>\n",
       "      <th>SNP</th>\n",
       "      <th>P</th>\n",
       "      <th>SP2</th>\n",
       "      <th>cell</th>\n",
       "      <th>Gene</th>\n",
       "      <th>near_50kgene</th>\n",
       "      <th>Consequence</th>\n",
       "      <th>rsid</th>\n",
       "      <th>gnomad</th>\n",
       "      <th>CADD</th>\n",
       "      <th>wes_af</th>\n",
       "      <th>ref</th>\n",
       "      <th>alt</th>\n",
       "      <th>cell_beta</th>\n",
       "      <th>cell_std</th>\n",
       "      <th>wgs_af</th>\n",
       "      <th>ave_bsc_beta</th>\n",
       "      <th>ave_bsc_std</th>\n",
       "      <th>ave_bsc_pval</th>\n",
       "      <th>bsc_beta</th>\n",
       "      <th>bsc_std</th>\n",
       "      <th>bsc_pval</th>\n",
       "      <th>inter_beta</th>\n",
       "      <th>inter_std</th>\n",
       "      <th>inter_pval</th>\n",
       "    </tr>\n",
       "  </thead>\n",
       "  <tbody>\n",
       "    <tr>\n",
       "      <th>0</th>\n",
       "      <td>9</td>\n",
       "      <td>9:63813856:C:T</td>\n",
       "      <td>2.010000e-11</td>\n",
       "      <td>9:63813636:C:T(1),9:63813678:C:A(1),9:63813743...</td>\n",
       "      <td>CD14.low_CD16.positive_monocyte.sort</td>\n",
       "      <td>RNA5SP284,CR786580.1,DUX4L50,-</td>\n",
       "      <td>NaN</td>\n",
       "      <td>downstream_gene_variant,intron_variant,downstr...</td>\n",
       "      <td>rs772773000</td>\n",
       "      <td>-</td>\n",
       "      <td>4.330</td>\n",
       "      <td>0.467890</td>\n",
       "      <td>C</td>\n",
       "      <td>T</td>\n",
       "      <td>-1.14355405576293</td>\n",
       "      <td>0.16693891183156967</td>\n",
       "      <td></td>\n",
       "      <td></td>\n",
       "      <td></td>\n",
       "      <td></td>\n",
       "      <td></td>\n",
       "      <td></td>\n",
       "      <td></td>\n",
       "      <td></td>\n",
       "      <td></td>\n",
       "      <td></td>\n",
       "    </tr>\n",
       "    <tr>\n",
       "      <th>1</th>\n",
       "      <td>9</td>\n",
       "      <td>9:62801764:T:C</td>\n",
       "      <td>2.580000e-11</td>\n",
       "      <td>9:62801058:C:T(1),9:62801067:T:C(1),9:62801070...</td>\n",
       "      <td>CD14.low_CD16.positive_monocyte.sort</td>\n",
       "      <td>RNA5SP283,LINC01410,AL512625.3,-</td>\n",
       "      <td>NaN</td>\n",
       "      <td>downstream_gene_variant,intron_variant,non_cod...</td>\n",
       "      <td>rs10907850</td>\n",
       "      <td>-</td>\n",
       "      <td>10.71</td>\n",
       "      <td>0.467544</td>\n",
       "      <td>T</td>\n",
       "      <td>C</td>\n",
       "      <td>-1.15667833031977</td>\n",
       "      <td>0.16982996791474603</td>\n",
       "      <td></td>\n",
       "      <td></td>\n",
       "      <td></td>\n",
       "      <td></td>\n",
       "      <td></td>\n",
       "      <td></td>\n",
       "      <td></td>\n",
       "      <td></td>\n",
       "      <td></td>\n",
       "      <td></td>\n",
       "    </tr>\n",
       "    <tr>\n",
       "      <th>2</th>\n",
       "      <td>9</td>\n",
       "      <td>9:137882854:C:G</td>\n",
       "      <td>1.290000e-09</td>\n",
       "      <td>9:137646235:T:C(1),9:137710750:A:G(1),9:137710...</td>\n",
       "      <td>CD14.low_CD16.positive_monocyte.sort</td>\n",
       "      <td>CACNA1B,AL772363.1</td>\n",
       "      <td>EHMT1,CACNA1B</td>\n",
       "      <td>missense_variant,non_coding_transcript_exon_va...</td>\n",
       "      <td>rs4422842</td>\n",
       "      <td>0.5</td>\n",
       "      <td>9.051</td>\n",
       "      <td>0.530564</td>\n",
       "      <td>C</td>\n",
       "      <td>G</td>\n",
       "      <td>0.948986351726361</td>\n",
       "      <td>0.15366042647228997</td>\n",
       "      <td></td>\n",
       "      <td></td>\n",
       "      <td></td>\n",
       "      <td></td>\n",
       "      <td></td>\n",
       "      <td></td>\n",
       "      <td></td>\n",
       "      <td></td>\n",
       "      <td></td>\n",
       "      <td></td>\n",
       "    </tr>\n",
       "    <tr>\n",
       "      <th>3</th>\n",
       "      <td>9</td>\n",
       "      <td>9:110404512:A:T</td>\n",
       "      <td>1.050000e-08</td>\n",
       "      <td>9:110156229:GGTT:G(1),9:110156535:C:T(1),9:110...</td>\n",
       "      <td>CD14.low_CD16.positive_monocyte.sort</td>\n",
       "      <td>SVEP1</td>\n",
       "      <td>SVEP1</td>\n",
       "      <td>missense_variant</td>\n",
       "      <td>rs3739451</td>\n",
       "      <td>0.1722</td>\n",
       "      <td>21.5</td>\n",
       "      <td>0.583832</td>\n",
       "      <td>A</td>\n",
       "      <td>T</td>\n",
       "      <td>1.28112887134126</td>\n",
       "      <td>0.22037782833383407</td>\n",
       "      <td>0.174242</td>\n",
       "      <td>0.035330160008542756</td>\n",
       "      <td>0.239433470591229</td>\n",
       "      <td>0.882694284005658</td>\n",
       "      <td>0.84345240302798</td>\n",
       "      <td>0.25932921108383905</td>\n",
       "      <td>0.0011444327337386</td>\n",
       "      <td>-0.8379537114245544</td>\n",
       "      <td>0.35220710267957633</td>\n",
       "      <td>0.0173546468658525</td>\n",
       "    </tr>\n",
       "    <tr>\n",
       "      <th>4</th>\n",
       "      <td>9</td>\n",
       "      <td>9:33796674:T:C</td>\n",
       "      <td>2.050000e-08</td>\n",
       "      <td>9:33547801:T:C(1),9:33547886:C:T(1),9:33548692...</td>\n",
       "      <td>CD14.low_CD16.positive_monocyte.sort</td>\n",
       "      <td>PRSS3,UBE2R2-AS1,-</td>\n",
       "      <td>PRSS3,UBE2R2</td>\n",
       "      <td>synonymous_variant,intron_variant,regulatory_r...</td>\n",
       "      <td>rs77765166</td>\n",
       "      <td>0.00165</td>\n",
       "      <td>8.236</td>\n",
       "      <td>0.469762</td>\n",
       "      <td>T</td>\n",
       "      <td>C</td>\n",
       "      <td>-1.14222573124944</td>\n",
       "      <td>0.20065441997974487</td>\n",
       "      <td></td>\n",
       "      <td></td>\n",
       "      <td></td>\n",
       "      <td></td>\n",
       "      <td></td>\n",
       "      <td></td>\n",
       "      <td></td>\n",
       "      <td></td>\n",
       "      <td></td>\n",
       "      <td></td>\n",
       "    </tr>\n",
       "  </tbody>\n",
       "</table>\n",
       "</div>"
      ],
      "text/plain": [
       "   CHR              SNP             P  \\\n",
       "0    9   9:63813856:C:T  2.010000e-11   \n",
       "1    9   9:62801764:T:C  2.580000e-11   \n",
       "2    9  9:137882854:C:G  1.290000e-09   \n",
       "3    9  9:110404512:A:T  1.050000e-08   \n",
       "4    9   9:33796674:T:C  2.050000e-08   \n",
       "\n",
       "                                                 SP2  \\\n",
       "0  9:63813636:C:T(1),9:63813678:C:A(1),9:63813743...   \n",
       "1  9:62801058:C:T(1),9:62801067:T:C(1),9:62801070...   \n",
       "2  9:137646235:T:C(1),9:137710750:A:G(1),9:137710...   \n",
       "3  9:110156229:GGTT:G(1),9:110156535:C:T(1),9:110...   \n",
       "4  9:33547801:T:C(1),9:33547886:C:T(1),9:33548692...   \n",
       "\n",
       "                                   cell                              Gene  \\\n",
       "0  CD14.low_CD16.positive_monocyte.sort    RNA5SP284,CR786580.1,DUX4L50,-   \n",
       "1  CD14.low_CD16.positive_monocyte.sort  RNA5SP283,LINC01410,AL512625.3,-   \n",
       "2  CD14.low_CD16.positive_monocyte.sort                CACNA1B,AL772363.1   \n",
       "3  CD14.low_CD16.positive_monocyte.sort                             SVEP1   \n",
       "4  CD14.low_CD16.positive_monocyte.sort                PRSS3,UBE2R2-AS1,-   \n",
       "\n",
       "    near_50kgene                                        Consequence  \\\n",
       "0            NaN  downstream_gene_variant,intron_variant,downstr...   \n",
       "1            NaN  downstream_gene_variant,intron_variant,non_cod...   \n",
       "2  EHMT1,CACNA1B  missense_variant,non_coding_transcript_exon_va...   \n",
       "3          SVEP1                                   missense_variant   \n",
       "4   PRSS3,UBE2R2  synonymous_variant,intron_variant,regulatory_r...   \n",
       "\n",
       "          rsid   gnomad   CADD    wes_af ref alt          cell_beta  \\\n",
       "0  rs772773000        -  4.330  0.467890   C   T  -1.14355405576293   \n",
       "1   rs10907850        -  10.71  0.467544   T   C  -1.15667833031977   \n",
       "2    rs4422842      0.5  9.051  0.530564   C   G  0.948986351726361   \n",
       "3    rs3739451   0.1722   21.5  0.583832   A   T   1.28112887134126   \n",
       "4   rs77765166  0.00165  8.236  0.469762   T   C  -1.14222573124944   \n",
       "\n",
       "              cell_std    wgs_af          ave_bsc_beta        ave_bsc_std  \\\n",
       "0  0.16693891183156967                                                      \n",
       "1  0.16982996791474603                                                      \n",
       "2  0.15366042647228997                                                      \n",
       "3  0.22037782833383407  0.174242  0.035330160008542756  0.239433470591229   \n",
       "4  0.20065441997974487                                                      \n",
       "\n",
       "        ave_bsc_pval          bsc_beta              bsc_std  \\\n",
       "0                                                             \n",
       "1                                                             \n",
       "2                                                             \n",
       "3  0.882694284005658  0.84345240302798  0.25932921108383905   \n",
       "4                                                             \n",
       "\n",
       "             bsc_pval           inter_beta            inter_std  \\\n",
       "0                                                                 \n",
       "1                                                                 \n",
       "2                                                                 \n",
       "3  0.0011444327337386  -0.8379537114245544  0.35220710267957633   \n",
       "4                                                                 \n",
       "\n",
       "           inter_pval  \n",
       "0                      \n",
       "1                      \n",
       "2                      \n",
       "3  0.0173546468658525  \n",
       "4                      "
      ]
     },
     "execution_count": 128,
     "metadata": {},
     "output_type": "execute_result"
    }
   ],
   "source": [
    "wes_blca_df.head()"
   ]
  },
  {
   "cell_type": "code",
   "execution_count": 16,
   "metadata": {},
   "outputs": [
    {
     "data": {
      "text/plain": [
       "(64,)"
      ]
     },
     "execution_count": 16,
     "metadata": {},
     "output_type": "execute_result"
    }
   ],
   "source": [
    "wes_blca_df['cell'].unique().shape"
   ]
  },
  {
   "cell_type": "code",
   "execution_count": 17,
   "metadata": {},
   "outputs": [
    {
     "data": {
      "text/plain": [
       "(1072,)"
      ]
     },
     "execution_count": 17,
     "metadata": {},
     "output_type": "execute_result"
    }
   ],
   "source": [
    "wes_blca_df['SNP'].unique().shape"
   ]
  },
  {
   "cell_type": "code",
   "execution_count": 18,
   "metadata": {},
   "outputs": [
    {
     "data": {
      "text/plain": [
       "(756,)"
      ]
     },
     "execution_count": 18,
     "metadata": {},
     "output_type": "execute_result"
    }
   ],
   "source": [
    "wes_blca_df.query('inter_std != \"\"')['SNP'].unique().shape"
   ]
  },
  {
   "cell_type": "code",
   "execution_count": 28,
   "metadata": {},
   "outputs": [],
   "source": [
    "# # tb = tabix.open(surv_fn)\n",
    "# for cell in cells:\n",
    "#     cell_path = f'{mr_path}/cell'\n",
    "#     os.makedirs(cell_path,exist_ok=True)\n",
    "#     cell_fn = f'{cell_path}/{cell}.qtl.txt'\n",
    "#     with open(cell_fn,'w') as fout:\n",
    "#         fout.write('\\t'.join(head)+'\\n')\n",
    "#         sub_df = wes_blca_df.query('cell == @cell')\n",
    "#         for idx,row in sub_df.iterrows():\n",
    "#             chrom,pos,ref,alt = row['SNP'].split(':')\n",
    "#             chrom = 'chr' + chrom\n",
    "#             pos = int(pos)\n",
    "#             start = max(pos - 1e5,0)\n",
    "#             end = pos + 1e5\n",
    "#             records = tb.query(str(chrom),int(start),int(end))\n",
    "#             for record in records:\n",
    "#                 snp = ':'.join(record[:4])\n",
    "#                 rsid = snp_rsid_dict[snp]\n",
    "#                 try:\n",
    "#                     wgs_af = str(wgs_snp_freq_dict[snp[3:]])\n",
    "#                 except:\n",
    "#                     continue\n",
    "#                 fout.write('\\t'.join([rsid,wgs_af]+record)+'\\n')\n",
    "#     df = pd.read_csv(cell_fn,sep='\\t',header=0)\n",
    "#     df = df.drop_duplicates()\n",
    "#     df.to_csv(cell_fn,sep='\\t',index=False)"
   ]
  }
 ],
 "metadata": {
  "kernelspec": {
   "display_name": "Python 3 (ipykernel)",
   "language": "python",
   "name": "python3"
  },
  "language_info": {
   "codemirror_mode": {
    "name": "ipython",
    "version": 3
   },
   "file_extension": ".py",
   "mimetype": "text/x-python",
   "name": "python",
   "nbconvert_exporter": "python",
   "pygments_lexer": "ipython3",
   "version": "3.7.12"
  },
  "toc-autonumbering": true,
  "toc-showmarkdowntxt": false
 },
 "nbformat": 4,
 "nbformat_minor": 4
}
